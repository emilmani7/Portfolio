{
  "nbformat": 4,
  "nbformat_minor": 0,
  "metadata": {
    "colab": {
      "provenance": [],
      "collapsed_sections": []
    },
    "kernelspec": {
      "name": "python3",
      "display_name": "Python 3"
    },
    "language_info": {
      "name": "python"
    }
  },
  "cells": [
    {
      "cell_type": "code",
      "execution_count": 4,
      "metadata": {
        "id": "w0bIxiJiLLQb"
      },
      "outputs": [],
      "source": [
        "import pandas as pd\n",
        "import numpy as np\n",
        "import matplotlib.pyplot as plt\n",
        "import seaborn as sns\n"
      ]
    },
    {
      "cell_type": "code",
      "source": [
        "df = pd.read_csv('/content/train-chennai-sale (1).csv')"
      ],
      "metadata": {
        "id": "FJS79JUvfj5D"
      },
      "execution_count": 5,
      "outputs": []
    },
    {
      "cell_type": "code",
      "source": [
        "df.head()"
      ],
      "metadata": {
        "colab": {
          "base_uri": "https://localhost:8080/",
          "height": 386
        },
        "id": "2r_zNlBFfj8y",
        "outputId": "7ee9b55a-6ceb-4a53-f26f-bd02eab64bc1"
      },
      "execution_count": 6,
      "outputs": [
        {
          "output_type": "execute_result",
          "data": {
            "text/plain": [
              "   PRT_ID        AREA  INT_SQFT   DATE_SALE  DIST_MAINROAD  N_BEDROOM  \\\n",
              "0  P03210  Karapakkam      1004  04-05-2011            131        1.0   \n",
              "1  P09411  Anna Nagar      1986  19-12-2006             26        2.0   \n",
              "2  P01812       Adyar       909  04-02-2012             70        1.0   \n",
              "3  P05346   Velachery      1855  13-03-2010             14        3.0   \n",
              "4  P06210  Karapakkam      1226  05-10-2009             84        1.0   \n",
              "\n",
              "   N_BATHROOM  N_ROOM SALE_COND PARK_FACIL  ... UTILITY_AVAIL  STREET MZZONE  \\\n",
              "0         1.0       3  AbNormal        Yes  ...        AllPub   Paved      A   \n",
              "1         1.0       5  AbNormal         No  ...        AllPub  Gravel     RH   \n",
              "2         1.0       3  AbNormal        Yes  ...           ELO  Gravel     RL   \n",
              "3         2.0       5    Family         No  ...       NoSewr    Paved      I   \n",
              "4         1.0       3  AbNormal        Yes  ...        AllPub  Gravel      C   \n",
              "\n",
              "  QS_ROOMS QS_BATHROOM  QS_BEDROOM  QS_OVERALL  REG_FEE  COMMIS  SALES_PRICE  \n",
              "0      4.0         3.9         4.9       4.330   380000  144400      7600000  \n",
              "1      4.9         4.2         2.5       3.765   760122  304049     21717770  \n",
              "2      4.1         3.8         2.2       3.090   421094   92114     13159200  \n",
              "3      4.7         3.9         3.6       4.010   356321   77042      9630290  \n",
              "4      3.0         2.5         4.1       3.290   237000   74063      7406250  \n",
              "\n",
              "[5 rows x 22 columns]"
            ],
            "text/html": [
              "\n",
              "  <div id=\"df-87ff2468-ecd3-4abf-9bbd-f8d7f36f3a48\">\n",
              "    <div class=\"colab-df-container\">\n",
              "      <div>\n",
              "<style scoped>\n",
              "    .dataframe tbody tr th:only-of-type {\n",
              "        vertical-align: middle;\n",
              "    }\n",
              "\n",
              "    .dataframe tbody tr th {\n",
              "        vertical-align: top;\n",
              "    }\n",
              "\n",
              "    .dataframe thead th {\n",
              "        text-align: right;\n",
              "    }\n",
              "</style>\n",
              "<table border=\"1\" class=\"dataframe\">\n",
              "  <thead>\n",
              "    <tr style=\"text-align: right;\">\n",
              "      <th></th>\n",
              "      <th>PRT_ID</th>\n",
              "      <th>AREA</th>\n",
              "      <th>INT_SQFT</th>\n",
              "      <th>DATE_SALE</th>\n",
              "      <th>DIST_MAINROAD</th>\n",
              "      <th>N_BEDROOM</th>\n",
              "      <th>N_BATHROOM</th>\n",
              "      <th>N_ROOM</th>\n",
              "      <th>SALE_COND</th>\n",
              "      <th>PARK_FACIL</th>\n",
              "      <th>...</th>\n",
              "      <th>UTILITY_AVAIL</th>\n",
              "      <th>STREET</th>\n",
              "      <th>MZZONE</th>\n",
              "      <th>QS_ROOMS</th>\n",
              "      <th>QS_BATHROOM</th>\n",
              "      <th>QS_BEDROOM</th>\n",
              "      <th>QS_OVERALL</th>\n",
              "      <th>REG_FEE</th>\n",
              "      <th>COMMIS</th>\n",
              "      <th>SALES_PRICE</th>\n",
              "    </tr>\n",
              "  </thead>\n",
              "  <tbody>\n",
              "    <tr>\n",
              "      <th>0</th>\n",
              "      <td>P03210</td>\n",
              "      <td>Karapakkam</td>\n",
              "      <td>1004</td>\n",
              "      <td>04-05-2011</td>\n",
              "      <td>131</td>\n",
              "      <td>1.0</td>\n",
              "      <td>1.0</td>\n",
              "      <td>3</td>\n",
              "      <td>AbNormal</td>\n",
              "      <td>Yes</td>\n",
              "      <td>...</td>\n",
              "      <td>AllPub</td>\n",
              "      <td>Paved</td>\n",
              "      <td>A</td>\n",
              "      <td>4.0</td>\n",
              "      <td>3.9</td>\n",
              "      <td>4.9</td>\n",
              "      <td>4.330</td>\n",
              "      <td>380000</td>\n",
              "      <td>144400</td>\n",
              "      <td>7600000</td>\n",
              "    </tr>\n",
              "    <tr>\n",
              "      <th>1</th>\n",
              "      <td>P09411</td>\n",
              "      <td>Anna Nagar</td>\n",
              "      <td>1986</td>\n",
              "      <td>19-12-2006</td>\n",
              "      <td>26</td>\n",
              "      <td>2.0</td>\n",
              "      <td>1.0</td>\n",
              "      <td>5</td>\n",
              "      <td>AbNormal</td>\n",
              "      <td>No</td>\n",
              "      <td>...</td>\n",
              "      <td>AllPub</td>\n",
              "      <td>Gravel</td>\n",
              "      <td>RH</td>\n",
              "      <td>4.9</td>\n",
              "      <td>4.2</td>\n",
              "      <td>2.5</td>\n",
              "      <td>3.765</td>\n",
              "      <td>760122</td>\n",
              "      <td>304049</td>\n",
              "      <td>21717770</td>\n",
              "    </tr>\n",
              "    <tr>\n",
              "      <th>2</th>\n",
              "      <td>P01812</td>\n",
              "      <td>Adyar</td>\n",
              "      <td>909</td>\n",
              "      <td>04-02-2012</td>\n",
              "      <td>70</td>\n",
              "      <td>1.0</td>\n",
              "      <td>1.0</td>\n",
              "      <td>3</td>\n",
              "      <td>AbNormal</td>\n",
              "      <td>Yes</td>\n",
              "      <td>...</td>\n",
              "      <td>ELO</td>\n",
              "      <td>Gravel</td>\n",
              "      <td>RL</td>\n",
              "      <td>4.1</td>\n",
              "      <td>3.8</td>\n",
              "      <td>2.2</td>\n",
              "      <td>3.090</td>\n",
              "      <td>421094</td>\n",
              "      <td>92114</td>\n",
              "      <td>13159200</td>\n",
              "    </tr>\n",
              "    <tr>\n",
              "      <th>3</th>\n",
              "      <td>P05346</td>\n",
              "      <td>Velachery</td>\n",
              "      <td>1855</td>\n",
              "      <td>13-03-2010</td>\n",
              "      <td>14</td>\n",
              "      <td>3.0</td>\n",
              "      <td>2.0</td>\n",
              "      <td>5</td>\n",
              "      <td>Family</td>\n",
              "      <td>No</td>\n",
              "      <td>...</td>\n",
              "      <td>NoSewr</td>\n",
              "      <td>Paved</td>\n",
              "      <td>I</td>\n",
              "      <td>4.7</td>\n",
              "      <td>3.9</td>\n",
              "      <td>3.6</td>\n",
              "      <td>4.010</td>\n",
              "      <td>356321</td>\n",
              "      <td>77042</td>\n",
              "      <td>9630290</td>\n",
              "    </tr>\n",
              "    <tr>\n",
              "      <th>4</th>\n",
              "      <td>P06210</td>\n",
              "      <td>Karapakkam</td>\n",
              "      <td>1226</td>\n",
              "      <td>05-10-2009</td>\n",
              "      <td>84</td>\n",
              "      <td>1.0</td>\n",
              "      <td>1.0</td>\n",
              "      <td>3</td>\n",
              "      <td>AbNormal</td>\n",
              "      <td>Yes</td>\n",
              "      <td>...</td>\n",
              "      <td>AllPub</td>\n",
              "      <td>Gravel</td>\n",
              "      <td>C</td>\n",
              "      <td>3.0</td>\n",
              "      <td>2.5</td>\n",
              "      <td>4.1</td>\n",
              "      <td>3.290</td>\n",
              "      <td>237000</td>\n",
              "      <td>74063</td>\n",
              "      <td>7406250</td>\n",
              "    </tr>\n",
              "  </tbody>\n",
              "</table>\n",
              "<p>5 rows × 22 columns</p>\n",
              "</div>\n",
              "      <button class=\"colab-df-convert\" onclick=\"convertToInteractive('df-87ff2468-ecd3-4abf-9bbd-f8d7f36f3a48')\"\n",
              "              title=\"Convert this dataframe to an interactive table.\"\n",
              "              style=\"display:none;\">\n",
              "        \n",
              "  <svg xmlns=\"http://www.w3.org/2000/svg\" height=\"24px\"viewBox=\"0 0 24 24\"\n",
              "       width=\"24px\">\n",
              "    <path d=\"M0 0h24v24H0V0z\" fill=\"none\"/>\n",
              "    <path d=\"M18.56 5.44l.94 2.06.94-2.06 2.06-.94-2.06-.94-.94-2.06-.94 2.06-2.06.94zm-11 1L8.5 8.5l.94-2.06 2.06-.94-2.06-.94L8.5 2.5l-.94 2.06-2.06.94zm10 10l.94 2.06.94-2.06 2.06-.94-2.06-.94-.94-2.06-.94 2.06-2.06.94z\"/><path d=\"M17.41 7.96l-1.37-1.37c-.4-.4-.92-.59-1.43-.59-.52 0-1.04.2-1.43.59L10.3 9.45l-7.72 7.72c-.78.78-.78 2.05 0 2.83L4 21.41c.39.39.9.59 1.41.59.51 0 1.02-.2 1.41-.59l7.78-7.78 2.81-2.81c.8-.78.8-2.07 0-2.86zM5.41 20L4 18.59l7.72-7.72 1.47 1.35L5.41 20z\"/>\n",
              "  </svg>\n",
              "      </button>\n",
              "      \n",
              "  <style>\n",
              "    .colab-df-container {\n",
              "      display:flex;\n",
              "      flex-wrap:wrap;\n",
              "      gap: 12px;\n",
              "    }\n",
              "\n",
              "    .colab-df-convert {\n",
              "      background-color: #E8F0FE;\n",
              "      border: none;\n",
              "      border-radius: 50%;\n",
              "      cursor: pointer;\n",
              "      display: none;\n",
              "      fill: #1967D2;\n",
              "      height: 32px;\n",
              "      padding: 0 0 0 0;\n",
              "      width: 32px;\n",
              "    }\n",
              "\n",
              "    .colab-df-convert:hover {\n",
              "      background-color: #E2EBFA;\n",
              "      box-shadow: 0px 1px 2px rgba(60, 64, 67, 0.3), 0px 1px 3px 1px rgba(60, 64, 67, 0.15);\n",
              "      fill: #174EA6;\n",
              "    }\n",
              "\n",
              "    [theme=dark] .colab-df-convert {\n",
              "      background-color: #3B4455;\n",
              "      fill: #D2E3FC;\n",
              "    }\n",
              "\n",
              "    [theme=dark] .colab-df-convert:hover {\n",
              "      background-color: #434B5C;\n",
              "      box-shadow: 0px 1px 3px 1px rgba(0, 0, 0, 0.15);\n",
              "      filter: drop-shadow(0px 1px 2px rgba(0, 0, 0, 0.3));\n",
              "      fill: #FFFFFF;\n",
              "    }\n",
              "  </style>\n",
              "\n",
              "      <script>\n",
              "        const buttonEl =\n",
              "          document.querySelector('#df-87ff2468-ecd3-4abf-9bbd-f8d7f36f3a48 button.colab-df-convert');\n",
              "        buttonEl.style.display =\n",
              "          google.colab.kernel.accessAllowed ? 'block' : 'none';\n",
              "\n",
              "        async function convertToInteractive(key) {\n",
              "          const element = document.querySelector('#df-87ff2468-ecd3-4abf-9bbd-f8d7f36f3a48');\n",
              "          const dataTable =\n",
              "            await google.colab.kernel.invokeFunction('convertToInteractive',\n",
              "                                                     [key], {});\n",
              "          if (!dataTable) return;\n",
              "\n",
              "          const docLinkHtml = 'Like what you see? Visit the ' +\n",
              "            '<a target=\"_blank\" href=https://colab.research.google.com/notebooks/data_table.ipynb>data table notebook</a>'\n",
              "            + ' to learn more about interactive tables.';\n",
              "          element.innerHTML = '';\n",
              "          dataTable['output_type'] = 'display_data';\n",
              "          await google.colab.output.renderOutput(dataTable, element);\n",
              "          const docLink = document.createElement('div');\n",
              "          docLink.innerHTML = docLinkHtml;\n",
              "          element.appendChild(docLink);\n",
              "        }\n",
              "      </script>\n",
              "    </div>\n",
              "  </div>\n",
              "  "
            ]
          },
          "metadata": {},
          "execution_count": 6
        }
      ]
    },
    {
      "cell_type": "markdown",
      "source": [
        "##Data Cleaning"
      ],
      "metadata": {
        "id": "urSC8RQUWMoJ"
      }
    },
    {
      "cell_type": "code",
      "source": [
        "ds = df"
      ],
      "metadata": {
        "id": "ni2d6fiCfkPj"
      },
      "execution_count": 7,
      "outputs": []
    },
    {
      "cell_type": "code",
      "source": [
        "# Removing all the null values\n",
        "ds.dropna(inplace=True)\n",
        "\n",
        "# Renaming all the column names in lowercase letters\n",
        "ds.columns = ds.columns.str.lower()\n",
        "\n",
        "\n",
        "# Renaming all the string in area column names in lowercase letters\n",
        "ds.area = ds.area.str.lower()\n",
        "\n",
        "# Correcting the spelling mistakes in area columns\n",
        "ds.area = ds.area.replace({'velchery':'velachery', \n",
        "                       'kknagar':'kk nagar', \n",
        "                       'tnagar':'t nagar', \n",
        "                       'chormpet':'chrompet', \n",
        "                       'chrompt':'chrompet', \n",
        "                       'chrmpet':'chrompet', \n",
        "                       'ana nagar':'anna nagar', \n",
        "                       'ann nagar':'anna nagar',\n",
        "                       'karapakam':'karapakkam', \n",
        "                       'adyr':'adyar'})\n",
        "\n",
        "\n",
        "# Renaming all the string in sale_cond column names in lowercase letters\n",
        "ds.sale_cond = ds.sale_cond.str.lower()\n",
        "\n",
        "# Correcting the spelling mistakes in sale_cond columns\n",
        "ds.sale_cond = ds.sale_cond.replace({'adj land':'adjland', \n",
        "                       'normal sale':'normal sale',\n",
        "                       'partiall':'partial',\n",
        "                       'ab normal':'abnormal'})\n",
        "\n",
        "\n",
        "# Renaming all the string in park_facil column names in lowercase letters\n",
        "ds.park_facil = ds.park_facil.str.lower()\n",
        "\n",
        "# Correcting the spelling mistakes in park_facil columns\n",
        "ds.park_facil = ds.park_facil.replace({'noo':'no'})\n",
        "\n",
        "\n",
        "# Renaming all the string in buildtype column names in lowercase letters\n",
        "ds.buildtype = ds.buildtype.str.lower()\n",
        "\n",
        "# Correcting the spelling mistakes in buildtype columns\n",
        "ds.buildtype = ds.buildtype.replace({'comercial':'commercial', \n",
        "                       'others':'other'})\n",
        "\n",
        "\n",
        "# Renaming all the string in utility_avail column names in lowercase letters\n",
        "ds.utility_avail = ds.utility_avail.str.lower()\n",
        "\n",
        "# Correcting the spelling mistakes in utility_avail columns\n",
        "ds.utility_avail = ds.utility_avail.replace({'all pub':'allpub',\n",
        "                                             'nosewr':'nosewa'})\n",
        "                                            \n",
        "                                            \n",
        "# Renaming all the string in street column names in lowercase letters\n",
        "ds.street = ds.street.str.lower()\n",
        "\n",
        "# Correcting the spelling mistakes in street columns\n",
        "ds.street = ds.street.replace({'pavd':'paved', \n",
        "                       'noaccess':'no access'})\n",
        "\n",
        "\n",
        "# Renaming all the string in mzzone column names in lowercase letters\n",
        "ds.mzzone = ds.mzzone.str.lower()\n",
        "\n",
        "# Fixing the correct ds Type of columns\n",
        "ds.n_bedroom = ds.n_bedroom.astype(int)\n",
        "ds.n_bathroom = ds.n_bathroom.astype(int)\n",
        "\n",
        "# Correcting Date columnd from object to daterime format\n",
        "ds.date_sale = pd.to_datetime(ds.date_sale, format='%d-%m-%Y')\n",
        "ds.date_build = pd.to_datetime(ds.date_build, format='%d-%m-%Y')\n",
        "\n",
        "# Creating property_age column which deternine how old the property id\n",
        "ds['property_age'] = pd.DatetimeIndex(ds.date_sale).year - pd.DatetimeIndex(ds.date_build).year\n",
        "\n",
        "# Creating total_price column by adding 'reg_fee', 'commis', 'sales_price' columns\n",
        "ds['total_price'] = pd.DataFrame(ds.reg_fee\t+ ds.commis\t+ ds.sales_price)\n",
        "\n",
        "# Rearranging the columns of dsframe \n",
        "ds = ds.reindex(columns = ['prt_id', 'area', 'sale_cond', 'park_facil',\n",
        "       'buildtype', 'utility_avail', 'street', 'mzzone', \n",
        "       'date_build', 'date_sale', 'property_age', \n",
        "       'int_sqft', 'dist_mainroad', 'n_bedroom','n_bathroom', 'n_room', \n",
        "       'qs_rooms', 'qs_bathroom', 'qs_bedroom', 'qs_overall', \n",
        "       'reg_fee', 'commis', 'sales_price', 'total_price'])\n",
        "\n",
        "ds.head(3)"
      ],
      "metadata": {
        "colab": {
          "base_uri": "https://localhost:8080/",
          "height": 289
        },
        "id": "gL30MRl9QyGN",
        "outputId": "544210e8-e025-4cca-b476-6ed24155066f"
      },
      "execution_count": 8,
      "outputs": [
        {
          "output_type": "execute_result",
          "data": {
            "text/plain": [
              "   prt_id        area sale_cond park_facil   buildtype utility_avail  street  \\\n",
              "0  P03210  karapakkam  abnormal        yes  commercial        allpub   paved   \n",
              "1  P09411  anna nagar  abnormal         no  commercial        allpub  gravel   \n",
              "2  P01812       adyar  abnormal        yes  commercial           elo  gravel   \n",
              "\n",
              "  mzzone date_build  date_sale  ...  n_bathroom  n_room  qs_rooms  \\\n",
              "0      a 1967-05-15 2011-05-04  ...           1       3       4.0   \n",
              "1     rh 1995-12-22 2006-12-19  ...           1       5       4.9   \n",
              "2     rl 1992-02-09 2012-02-04  ...           1       3       4.1   \n",
              "\n",
              "   qs_bathroom  qs_bedroom  qs_overall  reg_fee  commis  sales_price  \\\n",
              "0          3.9         4.9       4.330   380000  144400      7600000   \n",
              "1          4.2         2.5       3.765   760122  304049     21717770   \n",
              "2          3.8         2.2       3.090   421094   92114     13159200   \n",
              "\n",
              "   total_price  \n",
              "0      8124400  \n",
              "1     22781941  \n",
              "2     13672408  \n",
              "\n",
              "[3 rows x 24 columns]"
            ],
            "text/html": [
              "\n",
              "  <div id=\"df-7b9e0792-6117-4c7a-9715-d8e7c583d695\">\n",
              "    <div class=\"colab-df-container\">\n",
              "      <div>\n",
              "<style scoped>\n",
              "    .dataframe tbody tr th:only-of-type {\n",
              "        vertical-align: middle;\n",
              "    }\n",
              "\n",
              "    .dataframe tbody tr th {\n",
              "        vertical-align: top;\n",
              "    }\n",
              "\n",
              "    .dataframe thead th {\n",
              "        text-align: right;\n",
              "    }\n",
              "</style>\n",
              "<table border=\"1\" class=\"dataframe\">\n",
              "  <thead>\n",
              "    <tr style=\"text-align: right;\">\n",
              "      <th></th>\n",
              "      <th>prt_id</th>\n",
              "      <th>area</th>\n",
              "      <th>sale_cond</th>\n",
              "      <th>park_facil</th>\n",
              "      <th>buildtype</th>\n",
              "      <th>utility_avail</th>\n",
              "      <th>street</th>\n",
              "      <th>mzzone</th>\n",
              "      <th>date_build</th>\n",
              "      <th>date_sale</th>\n",
              "      <th>...</th>\n",
              "      <th>n_bathroom</th>\n",
              "      <th>n_room</th>\n",
              "      <th>qs_rooms</th>\n",
              "      <th>qs_bathroom</th>\n",
              "      <th>qs_bedroom</th>\n",
              "      <th>qs_overall</th>\n",
              "      <th>reg_fee</th>\n",
              "      <th>commis</th>\n",
              "      <th>sales_price</th>\n",
              "      <th>total_price</th>\n",
              "    </tr>\n",
              "  </thead>\n",
              "  <tbody>\n",
              "    <tr>\n",
              "      <th>0</th>\n",
              "      <td>P03210</td>\n",
              "      <td>karapakkam</td>\n",
              "      <td>abnormal</td>\n",
              "      <td>yes</td>\n",
              "      <td>commercial</td>\n",
              "      <td>allpub</td>\n",
              "      <td>paved</td>\n",
              "      <td>a</td>\n",
              "      <td>1967-05-15</td>\n",
              "      <td>2011-05-04</td>\n",
              "      <td>...</td>\n",
              "      <td>1</td>\n",
              "      <td>3</td>\n",
              "      <td>4.0</td>\n",
              "      <td>3.9</td>\n",
              "      <td>4.9</td>\n",
              "      <td>4.330</td>\n",
              "      <td>380000</td>\n",
              "      <td>144400</td>\n",
              "      <td>7600000</td>\n",
              "      <td>8124400</td>\n",
              "    </tr>\n",
              "    <tr>\n",
              "      <th>1</th>\n",
              "      <td>P09411</td>\n",
              "      <td>anna nagar</td>\n",
              "      <td>abnormal</td>\n",
              "      <td>no</td>\n",
              "      <td>commercial</td>\n",
              "      <td>allpub</td>\n",
              "      <td>gravel</td>\n",
              "      <td>rh</td>\n",
              "      <td>1995-12-22</td>\n",
              "      <td>2006-12-19</td>\n",
              "      <td>...</td>\n",
              "      <td>1</td>\n",
              "      <td>5</td>\n",
              "      <td>4.9</td>\n",
              "      <td>4.2</td>\n",
              "      <td>2.5</td>\n",
              "      <td>3.765</td>\n",
              "      <td>760122</td>\n",
              "      <td>304049</td>\n",
              "      <td>21717770</td>\n",
              "      <td>22781941</td>\n",
              "    </tr>\n",
              "    <tr>\n",
              "      <th>2</th>\n",
              "      <td>P01812</td>\n",
              "      <td>adyar</td>\n",
              "      <td>abnormal</td>\n",
              "      <td>yes</td>\n",
              "      <td>commercial</td>\n",
              "      <td>elo</td>\n",
              "      <td>gravel</td>\n",
              "      <td>rl</td>\n",
              "      <td>1992-02-09</td>\n",
              "      <td>2012-02-04</td>\n",
              "      <td>...</td>\n",
              "      <td>1</td>\n",
              "      <td>3</td>\n",
              "      <td>4.1</td>\n",
              "      <td>3.8</td>\n",
              "      <td>2.2</td>\n",
              "      <td>3.090</td>\n",
              "      <td>421094</td>\n",
              "      <td>92114</td>\n",
              "      <td>13159200</td>\n",
              "      <td>13672408</td>\n",
              "    </tr>\n",
              "  </tbody>\n",
              "</table>\n",
              "<p>3 rows × 24 columns</p>\n",
              "</div>\n",
              "      <button class=\"colab-df-convert\" onclick=\"convertToInteractive('df-7b9e0792-6117-4c7a-9715-d8e7c583d695')\"\n",
              "              title=\"Convert this dataframe to an interactive table.\"\n",
              "              style=\"display:none;\">\n",
              "        \n",
              "  <svg xmlns=\"http://www.w3.org/2000/svg\" height=\"24px\"viewBox=\"0 0 24 24\"\n",
              "       width=\"24px\">\n",
              "    <path d=\"M0 0h24v24H0V0z\" fill=\"none\"/>\n",
              "    <path d=\"M18.56 5.44l.94 2.06.94-2.06 2.06-.94-2.06-.94-.94-2.06-.94 2.06-2.06.94zm-11 1L8.5 8.5l.94-2.06 2.06-.94-2.06-.94L8.5 2.5l-.94 2.06-2.06.94zm10 10l.94 2.06.94-2.06 2.06-.94-2.06-.94-.94-2.06-.94 2.06-2.06.94z\"/><path d=\"M17.41 7.96l-1.37-1.37c-.4-.4-.92-.59-1.43-.59-.52 0-1.04.2-1.43.59L10.3 9.45l-7.72 7.72c-.78.78-.78 2.05 0 2.83L4 21.41c.39.39.9.59 1.41.59.51 0 1.02-.2 1.41-.59l7.78-7.78 2.81-2.81c.8-.78.8-2.07 0-2.86zM5.41 20L4 18.59l7.72-7.72 1.47 1.35L5.41 20z\"/>\n",
              "  </svg>\n",
              "      </button>\n",
              "      \n",
              "  <style>\n",
              "    .colab-df-container {\n",
              "      display:flex;\n",
              "      flex-wrap:wrap;\n",
              "      gap: 12px;\n",
              "    }\n",
              "\n",
              "    .colab-df-convert {\n",
              "      background-color: #E8F0FE;\n",
              "      border: none;\n",
              "      border-radius: 50%;\n",
              "      cursor: pointer;\n",
              "      display: none;\n",
              "      fill: #1967D2;\n",
              "      height: 32px;\n",
              "      padding: 0 0 0 0;\n",
              "      width: 32px;\n",
              "    }\n",
              "\n",
              "    .colab-df-convert:hover {\n",
              "      background-color: #E2EBFA;\n",
              "      box-shadow: 0px 1px 2px rgba(60, 64, 67, 0.3), 0px 1px 3px 1px rgba(60, 64, 67, 0.15);\n",
              "      fill: #174EA6;\n",
              "    }\n",
              "\n",
              "    [theme=dark] .colab-df-convert {\n",
              "      background-color: #3B4455;\n",
              "      fill: #D2E3FC;\n",
              "    }\n",
              "\n",
              "    [theme=dark] .colab-df-convert:hover {\n",
              "      background-color: #434B5C;\n",
              "      box-shadow: 0px 1px 3px 1px rgba(0, 0, 0, 0.15);\n",
              "      filter: drop-shadow(0px 1px 2px rgba(0, 0, 0, 0.3));\n",
              "      fill: #FFFFFF;\n",
              "    }\n",
              "  </style>\n",
              "\n",
              "      <script>\n",
              "        const buttonEl =\n",
              "          document.querySelector('#df-7b9e0792-6117-4c7a-9715-d8e7c583d695 button.colab-df-convert');\n",
              "        buttonEl.style.display =\n",
              "          google.colab.kernel.accessAllowed ? 'block' : 'none';\n",
              "\n",
              "        async function convertToInteractive(key) {\n",
              "          const element = document.querySelector('#df-7b9e0792-6117-4c7a-9715-d8e7c583d695');\n",
              "          const dataTable =\n",
              "            await google.colab.kernel.invokeFunction('convertToInteractive',\n",
              "                                                     [key], {});\n",
              "          if (!dataTable) return;\n",
              "\n",
              "          const docLinkHtml = 'Like what you see? Visit the ' +\n",
              "            '<a target=\"_blank\" href=https://colab.research.google.com/notebooks/data_table.ipynb>data table notebook</a>'\n",
              "            + ' to learn more about interactive tables.';\n",
              "          element.innerHTML = '';\n",
              "          dataTable['output_type'] = 'display_data';\n",
              "          await google.colab.output.renderOutput(dataTable, element);\n",
              "          const docLink = document.createElement('div');\n",
              "          docLink.innerHTML = docLinkHtml;\n",
              "          element.appendChild(docLink);\n",
              "        }\n",
              "      </script>\n",
              "    </div>\n",
              "  </div>\n",
              "  "
            ]
          },
          "metadata": {},
          "execution_count": 8
        }
      ]
    },
    {
      "cell_type": "code",
      "source": [
        "#Dropping the prt_id column because it is a unique value\n",
        "ds.drop('prt_id', axis=1, inplace=True)"
      ],
      "metadata": {
        "id": "laHi11JPRT5l"
      },
      "execution_count": 9,
      "outputs": []
    },
    {
      "cell_type": "markdown",
      "source": [
        "Checking if there is a linear relationship between area and target column"
      ],
      "metadata": {
        "id": "fsCmFPiGlNfp"
      }
    },
    {
      "cell_type": "code",
      "source": [
        "ds_sorted = ds.groupby('area')['sales_price'].mean().reset_index().sort_values('sales_price')['area']\n",
        "sns.barplot(x='area',y='sales_price',data = ds,order = ds_sorted)\n",
        "plt.xticks(rotation=45)"
      ],
      "metadata": {
        "colab": {
          "base_uri": "https://localhost:8080/",
          "height": 348
        },
        "id": "-9RAIAOUuGMU",
        "outputId": "e8b2510f-084f-48c6-99d4-81a1f598e818"
      },
      "execution_count": 10,
      "outputs": [
        {
          "output_type": "execute_result",
          "data": {
            "text/plain": [
              "(array([0, 1, 2, 3, 4, 5, 6]), <a list of 7 Text major ticklabel objects>)"
            ]
          },
          "metadata": {},
          "execution_count": 10
        },
        {
          "output_type": "display_data",
          "data": {
            "text/plain": [
              "<Figure size 432x288 with 1 Axes>"
            ],
            "image/png": "[encoded data removed]"
          },
          "metadata": {
            "needs_background": "light"
          }
        }
      ]
    },
    {
      "cell_type": "code",
      "source": [
        "#since the relationship \n",
        "from sklearn import preprocessing\n",
        "  \n",
        "\n",
        "label_encoder = preprocessing.LabelEncoder()\n",
        "  \n",
        "\n",
        "ds['area']= label_encoder.fit_transform(ds['area'])\n",
        "  \n",
        "ds['area'].unique()"
      ],
      "metadata": {
        "id": "s0wZ4EUhnJHI",
        "colab": {
          "base_uri": "https://localhost:8080/"
        },
        "outputId": "fae32dce-b671-4abc-9257-162e79236fb3"
      },
      "execution_count": 11,
      "outputs": [
        {
          "output_type": "execute_result",
          "data": {
            "text/plain": [
              "array([3, 1, 0, 6, 2, 4, 5])"
            ]
          },
          "metadata": {},
          "execution_count": 11
        }
      ]
    },
    {
      "cell_type": "code",
      "source": [
        "ds_sorted = ds.groupby('sale_cond')['sales_price'].mean().reset_index().sort_values('sales_price')['sale_cond']\n",
        "sns.barplot(x='sale_cond',y='sales_price',data = ds,order = ds_sorted)\n",
        "plt.xticks(rotation=45)"
      ],
      "metadata": {
        "colab": {
          "base_uri": "https://localhost:8080/",
          "height": 347
        },
        "id": "BnwkKC5YocEZ",
        "outputId": "a1532cf7-3d43-425d-d42c-0b75f26ce021"
      },
      "execution_count": 12,
      "outputs": [
        {
          "output_type": "execute_result",
          "data": {
            "text/plain": [
              "(array([0, 1, 2, 3, 4]), <a list of 5 Text major ticklabel objects>)"
            ]
          },
          "metadata": {},
          "execution_count": 12
        },
        {
          "output_type": "display_data",
          "data": {
            "text/plain": [
              "<Figure size 432x288 with 1 Axes>"
            ],
            "image/png": "[encoded data removed]"
          },
          "metadata": {
            "needs_background": "light"
          }
        }
      ]
    },
    {
      "cell_type": "markdown",
      "source": [
        "There seems to be no relation with target variable.So we will be dropping the feature"
      ],
      "metadata": {
        "id": "1LoOgljmok5H"
      }
    },
    {
      "cell_type": "code",
      "source": [
        "ds.drop('sale_cond', axis=1, inplace=True)"
      ],
      "metadata": {
        "id": "0BebaCRfpNJ3"
      },
      "execution_count": 13,
      "outputs": []
    },
    {
      "cell_type": "code",
      "source": [
        "ds.head()"
      ],
      "metadata": {
        "id": "IR3o8PAcuGKa",
        "colab": {
          "base_uri": "https://localhost:8080/",
          "height": 386
        },
        "outputId": "9029afdf-cc36-4be5-fdff-c08aaeda8923"
      },
      "execution_count": 14,
      "outputs": [
        {
          "output_type": "execute_result",
          "data": {
            "text/plain": [
              "   area park_facil   buildtype utility_avail  street mzzone date_build  \\\n",
              "0     3        yes  commercial        allpub   paved      a 1967-05-15   \n",
              "1     1         no  commercial        allpub  gravel     rh 1995-12-22   \n",
              "2     0        yes  commercial           elo  gravel     rl 1992-02-09   \n",
              "3     6         no       other       nosewr    paved      i 1988-03-18   \n",
              "4     3        yes       other        allpub  gravel      c 1979-10-13   \n",
              "\n",
              "   date_sale  property_age  int_sqft  ...  n_bathroom  n_room  qs_rooms  \\\n",
              "0 2011-05-04            44      1004  ...           1       3       4.0   \n",
              "1 2006-12-19            11      1986  ...           1       5       4.9   \n",
              "2 2012-02-04            20       909  ...           1       3       4.1   \n",
              "3 2010-03-13            22      1855  ...           2       5       4.7   \n",
              "4 2009-10-05            30      1226  ...           1       3       3.0   \n",
              "\n",
              "   qs_bathroom  qs_bedroom  qs_overall  reg_fee  commis  sales_price  \\\n",
              "0          3.9         4.9       4.330   380000  144400      7600000   \n",
              "1          4.2         2.5       3.765   760122  304049     21717770   \n",
              "2          3.8         2.2       3.090   421094   92114     13159200   \n",
              "3          3.9         3.6       4.010   356321   77042      9630290   \n",
              "4          2.5         4.1       3.290   237000   74063      7406250   \n",
              "\n",
              "   total_price  \n",
              "0      8124400  \n",
              "1     22781941  \n",
              "2     13672408  \n",
              "3     10063653  \n",
              "4      7717313  \n",
              "\n",
              "[5 rows x 22 columns]"
            ],
            "text/html": [
              "\n",
              "  <div id=\"df-8b5d8260-4acd-4f35-9601-e66d38634019\">\n",
              "    <div class=\"colab-df-container\">\n",
              "      <div>\n",
              "<style scoped>\n",
              "    .dataframe tbody tr th:only-of-type {\n",
              "        vertical-align: middle;\n",
              "    }\n",
              "\n",
              "    .dataframe tbody tr th {\n",
              "        vertical-align: top;\n",
              "    }\n",
              "\n",
              "    .dataframe thead th {\n",
              "        text-align: right;\n",
              "    }\n",
              "</style>\n",
              "<table border=\"1\" class=\"dataframe\">\n",
              "  <thead>\n",
              "    <tr style=\"text-align: right;\">\n",
              "      <th></th>\n",
              "      <th>area</th>\n",
              "      <th>park_facil</th>\n",
              "      <th>buildtype</th>\n",
              "      <th>utility_avail</th>\n",
              "      <th>street</th>\n",
              "      <th>mzzone</th>\n",
              "      <th>date_build</th>\n",
              "      <th>date_sale</th>\n",
              "      <th>property_age</th>\n",
              "      <th>int_sqft</th>\n",
              "      <th>...</th>\n",
              "      <th>n_bathroom</th>\n",
              "      <th>n_room</th>\n",
              "      <th>qs_rooms</th>\n",
              "      <th>qs_bathroom</th>\n",
              "      <th>qs_bedroom</th>\n",
              "      <th>qs_overall</th>\n",
              "      <th>reg_fee</th>\n",
              "      <th>commis</th>\n",
              "      <th>sales_price</th>\n",
              "      <th>total_price</th>\n",
              "    </tr>\n",
              "  </thead>\n",
              "  <tbody>\n",
              "    <tr>\n",
              "      <th>0</th>\n",
              "      <td>3</td>\n",
              "      <td>yes</td>\n",
              "      <td>commercial</td>\n",
              "      <td>allpub</td>\n",
              "      <td>paved</td>\n",
              "      <td>a</td>\n",
              "      <td>1967-05-15</td>\n",
              "      <td>2011-05-04</td>\n",
              "      <td>44</td>\n",
              "      <td>1004</td>\n",
              "      <td>...</td>\n",
              "      <td>1</td>\n",
              "      <td>3</td>\n",
              "      <td>4.0</td>\n",
              "      <td>3.9</td>\n",
              "      <td>4.9</td>\n",
              "      <td>4.330</td>\n",
              "      <td>380000</td>\n",
              "      <td>144400</td>\n",
              "      <td>7600000</td>\n",
              "      <td>8124400</td>\n",
              "    </tr>\n",
              "    <tr>\n",
              "      <th>1</th>\n",
              "      <td>1</td>\n",
              "      <td>no</td>\n",
              "      <td>commercial</td>\n",
              "      <td>allpub</td>\n",
              "      <td>gravel</td>\n",
              "      <td>rh</td>\n",
              "      <td>1995-12-22</td>\n",
              "      <td>2006-12-19</td>\n",
              "      <td>11</td>\n",
              "      <td>1986</td>\n",
              "      <td>...</td>\n",
              "      <td>1</td>\n",
              "      <td>5</td>\n",
              "      <td>4.9</td>\n",
              "      <td>4.2</td>\n",
              "      <td>2.5</td>\n",
              "      <td>3.765</td>\n",
              "      <td>760122</td>\n",
              "      <td>304049</td>\n",
              "      <td>21717770</td>\n",
              "      <td>22781941</td>\n",
              "    </tr>\n",
              "    <tr>\n",
              "      <th>2</th>\n",
              "      <td>0</td>\n",
              "      <td>yes</td>\n",
              "      <td>commercial</td>\n",
              "      <td>elo</td>\n",
              "      <td>gravel</td>\n",
              "      <td>rl</td>\n",
              "      <td>1992-02-09</td>\n",
              "      <td>2012-02-04</td>\n",
              "      <td>20</td>\n",
              "      <td>909</td>\n",
              "      <td>...</td>\n",
              "      <td>1</td>\n",
              "      <td>3</td>\n",
              "      <td>4.1</td>\n",
              "      <td>3.8</td>\n",
              "      <td>2.2</td>\n",
              "      <td>3.090</td>\n",
              "      <td>421094</td>\n",
              "      <td>92114</td>\n",
              "      <td>13159200</td>\n",
              "      <td>13672408</td>\n",
              "    </tr>\n",
              "    <tr>\n",
              "      <th>3</th>\n",
              "      <td>6</td>\n",
              "      <td>no</td>\n",
              "      <td>other</td>\n",
              "      <td>nosewr</td>\n",
              "      <td>paved</td>\n",
              "      <td>i</td>\n",
              "      <td>1988-03-18</td>\n",
              "      <td>2010-03-13</td>\n",
              "      <td>22</td>\n",
              "      <td>1855</td>\n",
              "      <td>...</td>\n",
              "      <td>2</td>\n",
              "      <td>5</td>\n",
              "      <td>4.7</td>\n",
              "      <td>3.9</td>\n",
              "      <td>3.6</td>\n",
              "      <td>4.010</td>\n",
              "      <td>356321</td>\n",
              "      <td>77042</td>\n",
              "      <td>9630290</td>\n",
              "      <td>10063653</td>\n",
              "    </tr>\n",
              "    <tr>\n",
              "      <th>4</th>\n",
              "      <td>3</td>\n",
              "      <td>yes</td>\n",
              "      <td>other</td>\n",
              "      <td>allpub</td>\n",
              "      <td>gravel</td>\n",
              "      <td>c</td>\n",
              "      <td>1979-10-13</td>\n",
              "      <td>2009-10-05</td>\n",
              "      <td>30</td>\n",
              "      <td>1226</td>\n",
              "      <td>...</td>\n",
              "      <td>1</td>\n",
              "      <td>3</td>\n",
              "      <td>3.0</td>\n",
              "      <td>2.5</td>\n",
              "      <td>4.1</td>\n",
              "      <td>3.290</td>\n",
              "      <td>237000</td>\n",
              "      <td>74063</td>\n",
              "      <td>7406250</td>\n",
              "      <td>7717313</td>\n",
              "    </tr>\n",
              "  </tbody>\n",
              "</table>\n",
              "<p>5 rows × 22 columns</p>\n",
              "</div>\n",
              "      <button class=\"colab-df-convert\" onclick=\"convertToInteractive('df-8b5d8260-4acd-4f35-9601-e66d38634019')\"\n",
              "              title=\"Convert this dataframe to an interactive table.\"\n",
              "              style=\"display:none;\">\n",
              "        \n",
              "  <svg xmlns=\"http://www.w3.org/2000/svg\" height=\"24px\"viewBox=\"0 0 24 24\"\n",
              "       width=\"24px\">\n",
              "    <path d=\"M0 0h24v24H0V0z\" fill=\"none\"/>\n",
              "    <path d=\"M18.56 5.44l.94 2.06.94-2.06 2.06-.94-2.06-.94-.94-2.06-.94 2.06-2.06.94zm-11 1L8.5 8.5l.94-2.06 2.06-.94-2.06-.94L8.5 2.5l-.94 2.06-2.06.94zm10 10l.94 2.06.94-2.06 2.06-.94-2.06-.94-.94-2.06-.94 2.06-2.06.94z\"/><path d=\"M17.41 7.96l-1.37-1.37c-.4-.4-.92-.59-1.43-.59-.52 0-1.04.2-1.43.59L10.3 9.45l-7.72 7.72c-.78.78-.78 2.05 0 2.83L4 21.41c.39.39.9.59 1.41.59.51 0 1.02-.2 1.41-.59l7.78-7.78 2.81-2.81c.8-.78.8-2.07 0-2.86zM5.41 20L4 18.59l7.72-7.72 1.47 1.35L5.41 20z\"/>\n",
              "  </svg>\n",
              "      </button>\n",
              "      \n",
              "  <style>\n",
              "    .colab-df-container {\n",
              "      display:flex;\n",
              "      flex-wrap:wrap;\n",
              "      gap: 12px;\n",
              "    }\n",
              "\n",
              "    .colab-df-convert {\n",
              "      background-color: #E8F0FE;\n",
              "      border: none;\n",
              "      border-radius: 50%;\n",
              "      cursor: pointer;\n",
              "      display: none;\n",
              "      fill: #1967D2;\n",
              "      height: 32px;\n",
              "      padding: 0 0 0 0;\n",
              "      width: 32px;\n",
              "    }\n",
              "\n",
              "    .colab-df-convert:hover {\n",
              "      background-color: #E2EBFA;\n",
              "      box-shadow: 0px 1px 2px rgba(60, 64, 67, 0.3), 0px 1px 3px 1px rgba(60, 64, 67, 0.15);\n",
              "      fill: #174EA6;\n",
              "    }\n",
              "\n",
              "    [theme=dark] .colab-df-convert {\n",
              "      background-color: #3B4455;\n",
              "      fill: #D2E3FC;\n",
              "    }\n",
              "\n",
              "    [theme=dark] .colab-df-convert:hover {\n",
              "      background-color: #434B5C;\n",
              "      box-shadow: 0px 1px 3px 1px rgba(0, 0, 0, 0.15);\n",
              "      filter: drop-shadow(0px 1px 2px rgba(0, 0, 0, 0.3));\n",
              "      fill: #FFFFFF;\n",
              "    }\n",
              "  </style>\n",
              "\n",
              "      <script>\n",
              "        const buttonEl =\n",
              "          document.querySelector('#df-8b5d8260-4acd-4f35-9601-e66d38634019 button.colab-df-convert');\n",
              "        buttonEl.style.display =\n",
              "          google.colab.kernel.accessAllowed ? 'block' : 'none';\n",
              "\n",
              "        async function convertToInteractive(key) {\n",
              "          const element = document.querySelector('#df-8b5d8260-4acd-4f35-9601-e66d38634019');\n",
              "          const dataTable =\n",
              "            await google.colab.kernel.invokeFunction('convertToInteractive',\n",
              "                                                     [key], {});\n",
              "          if (!dataTable) return;\n",
              "\n",
              "          const docLinkHtml = 'Like what you see? Visit the ' +\n",
              "            '<a target=\"_blank\" href=https://colab.research.google.com/notebooks/data_table.ipynb>data table notebook</a>'\n",
              "            + ' to learn more about interactive tables.';\n",
              "          element.innerHTML = '';\n",
              "          dataTable['output_type'] = 'display_data';\n",
              "          await google.colab.output.renderOutput(dataTable, element);\n",
              "          const docLink = document.createElement('div');\n",
              "          docLink.innerHTML = docLinkHtml;\n",
              "          element.appendChild(docLink);\n",
              "        }\n",
              "      </script>\n",
              "    </div>\n",
              "  </div>\n",
              "  "
            ]
          },
          "metadata": {},
          "execution_count": 14
        }
      ]
    },
    {
      "cell_type": "code",
      "source": [
        "ds_sorted = ds.groupby('int_sqft')['sales_price'].mean().reset_index().sort_values('sales_price')['int_sqft']\n",
        "sns.barplot(x='int_sqft',y='sales_price',data = ds,order = ds_sorted)\n",
        "plt.xticks(rotation=45)"
      ],
      "metadata": {
        "id": "DfFgNDUbuGIg",
        "colab": {
          "base_uri": "https://localhost:8080/",
          "height": 341
        },
        "outputId": "e556c773-05b8-4907-dcc2-dc035be89f99"
      },
      "execution_count": 15,
      "outputs": [
        {
          "output_type": "execute_result",
          "data": {
            "text/plain": [
              "(array([   0,    1,    2, ..., 1695, 1696, 1697]),\n",
              " <a list of 1698 Text major ticklabel objects>)"
            ]
          },
          "metadata": {},
          "execution_count": 15
        },
        {
          "output_type": "display_data",
          "data": {
            "text/plain": [
              "<Figure size 432x288 with 1 Axes>"
            ],
            "image/png": "[encoded data removed]"
          },
          "metadata": {
            "needs_background": "light"
          }
        }
      ]
    },
    {
      "cell_type": "code",
      "source": [
        "ds_sorted = ds.groupby('dist_mainroad')['sales_price'].mean().reset_index().sort_values('sales_price')['dist_mainroad']\n",
        "sns.barplot(x='dist_mainroad',y='sales_price',data = ds,order = ds_sorted)\n",
        "plt.xticks(rotation=90)"
      ],
      "metadata": {
        "id": "ramXX121uGGn",
        "colab": {
          "base_uri": "https://localhost:8080/",
          "height": 595
        },
        "outputId": "fccea7ef-dba7-4464-94c0-35a9d7f6b645"
      },
      "execution_count": 16,
      "outputs": [
        {
          "output_type": "execute_result",
          "data": {
            "text/plain": [
              "(array([  0,   1,   2,   3,   4,   5,   6,   7,   8,   9,  10,  11,  12,\n",
              "         13,  14,  15,  16,  17,  18,  19,  20,  21,  22,  23,  24,  25,\n",
              "         26,  27,  28,  29,  30,  31,  32,  33,  34,  35,  36,  37,  38,\n",
              "         39,  40,  41,  42,  43,  44,  45,  46,  47,  48,  49,  50,  51,\n",
              "         52,  53,  54,  55,  56,  57,  58,  59,  60,  61,  62,  63,  64,\n",
              "         65,  66,  67,  68,  69,  70,  71,  72,  73,  74,  75,  76,  77,\n",
              "         78,  79,  80,  81,  82,  83,  84,  85,  86,  87,  88,  89,  90,\n",
              "         91,  92,  93,  94,  95,  96,  97,  98,  99, 100, 101, 102, 103,\n",
              "        104, 105, 106, 107, 108, 109, 110, 111, 112, 113, 114, 115, 116,\n",
              "        117, 118, 119, 120, 121, 122, 123, 124, 125, 126, 127, 128, 129,\n",
              "        130, 131, 132, 133, 134, 135, 136, 137, 138, 139, 140, 141, 142,\n",
              "        143, 144, 145, 146, 147, 148, 149, 150, 151, 152, 153, 154, 155,\n",
              "        156, 157, 158, 159, 160, 161, 162, 163, 164, 165, 166, 167, 168,\n",
              "        169, 170, 171, 172, 173, 174, 175, 176, 177, 178, 179, 180, 181,\n",
              "        182, 183, 184, 185, 186, 187, 188, 189, 190, 191, 192, 193, 194,\n",
              "        195, 196, 197, 198, 199, 200]),\n",
              " <a list of 201 Text major ticklabel objects>)"
            ]
          },
          "metadata": {},
          "execution_count": 16
        },
        {
          "output_type": "display_data",
          "data": {
            "text/plain": [
              "<Figure size 432x288 with 1 Axes>"
            ],
            "image/png": "[encoded data removed]"
          },
          "metadata": {
            "needs_background": "light"
          }
        }
      ]
    },
    {
      "cell_type": "code",
      "source": [
        "ds.drop('dist_mainroad', axis=1, inplace=True)"
      ],
      "metadata": {
        "id": "JWTT1JnGFc7L"
      },
      "execution_count": 44,
      "outputs": []
    },
    {
      "cell_type": "code",
      "source": [
        "ds_sorted = ds.groupby('park_facil')['sales_price'].mean().reset_index().sort_values('sales_price')['park_facil']\n",
        "sns.barplot(x='park_facil',y='sales_price',data = ds,order = ds_sorted)\n",
        "plt.xticks(rotation=90)"
      ],
      "metadata": {
        "id": "X-m4P45kuF_K",
        "colab": {
          "base_uri": "https://localhost:8080/",
          "height": 315
        },
        "outputId": "fb671bee-8e5d-435e-e3c6-85933bb4a605"
      },
      "execution_count": 17,
      "outputs": [
        {
          "output_type": "execute_result",
          "data": {
            "text/plain": [
              "(array([0, 1]), <a list of 2 Text major ticklabel objects>)"
            ]
          },
          "metadata": {},
          "execution_count": 17
        },
        {
          "output_type": "display_data",
          "data": {
            "text/plain": [
              "<Figure size 432x288 with 1 Axes>"
            ],
            "image/png": "[encoded data removed]"
          },
          "metadata": {
            "needs_background": "light"
          }
        }
      ]
    },
    {
      "cell_type": "code",
      "source": [
        "label_encoder = preprocessing.LabelEncoder()\n",
        "  \n",
        "\n",
        "ds['park_facil']= label_encoder.fit_transform(ds['park_facil'])\n",
        "  \n",
        "ds['park_facil'].unique()"
      ],
      "metadata": {
        "id": "jC4V1I3RuF6Y",
        "colab": {
          "base_uri": "https://localhost:8080/"
        },
        "outputId": "bb089200-29ad-4cce-aed9-54da5abaa280"
      },
      "execution_count": 18,
      "outputs": [
        {
          "output_type": "execute_result",
          "data": {
            "text/plain": [
              "array([1, 0])"
            ]
          },
          "metadata": {},
          "execution_count": 18
        }
      ]
    },
    {
      "cell_type": "code",
      "source": [
        "ds_sorted = ds.groupby('n_bedroom')['sales_price'].mean().reset_index().sort_values('sales_price')['n_bedroom']\n",
        "sns.barplot(x='n_bedroom',y='sales_price',data = ds,order = ds_sorted)\n",
        "plt.xticks(rotation=45)"
      ],
      "metadata": {
        "colab": {
          "base_uri": "https://localhost:8080/",
          "height": 310
        },
        "id": "VZx7E3d68pIL",
        "outputId": "d86e657b-488c-4f89-dd74-0c051a94a09f"
      },
      "execution_count": 26,
      "outputs": [
        {
          "output_type": "execute_result",
          "data": {
            "text/plain": [
              "(array([0, 1, 2, 3]), <a list of 4 Text major ticklabel objects>)"
            ]
          },
          "metadata": {},
          "execution_count": 26
        },
        {
          "output_type": "display_data",
          "data": {
            "text/plain": [
              "<Figure size 432x288 with 1 Axes>"
            ],
            "image/png": "[encoded data removed]"
          },
          "metadata": {
            "needs_background": "light"
          }
        }
      ]
    },
    {
      "cell_type": "markdown",
      "source": [
        "Linear relationship"
      ],
      "metadata": {
        "id": "LF8ayT6x88_W"
      }
    },
    {
      "cell_type": "code",
      "source": [
        "ds_sorted = ds.groupby('n_bathroom')['sales_price'].mean().reset_index().sort_values('sales_price')['n_bathroom']\n",
        "sns.barplot(x='n_bathroom',y='sales_price',data = ds,order = ds_sorted)\n",
        "plt.xticks(rotation=45)"
      ],
      "metadata": {
        "colab": {
          "base_uri": "https://localhost:8080/",
          "height": 310
        },
        "id": "CAf9XH9e9At5",
        "outputId": "4dce1b85-154e-4cfa-daf0-f7dfbd2a8787"
      },
      "execution_count": 28,
      "outputs": [
        {
          "output_type": "execute_result",
          "data": {
            "text/plain": [
              "(array([0, 1]), <a list of 2 Text major ticklabel objects>)"
            ]
          },
          "metadata": {},
          "execution_count": 28
        },
        {
          "output_type": "display_data",
          "data": {
            "text/plain": [
              "<Figure size 432x288 with 1 Axes>"
            ],
            "image/png": "[encoded data removed]"
          },
          "metadata": {
            "needs_background": "light"
          }
        }
      ]
    },
    {
      "cell_type": "code",
      "source": [
        "ds_sorted = ds.groupby('n_room')['sales_price'].mean().reset_index().sort_values('sales_price')['n_room']\n",
        "sns.barplot(x='n_room',y='sales_price',data = ds,order = ds_sorted)\n",
        "plt.xticks(rotation=45)"
      ],
      "metadata": {
        "colab": {
          "base_uri": "https://localhost:8080/",
          "height": 309
        },
        "id": "aJvrcJhp9Apg",
        "outputId": "c20dae72-36c2-404f-ece8-e2a1d9206592"
      },
      "execution_count": 29,
      "outputs": [
        {
          "output_type": "execute_result",
          "data": {
            "text/plain": [
              "(array([0, 1, 2, 3, 4]), <a list of 5 Text major ticklabel objects>)"
            ]
          },
          "metadata": {},
          "execution_count": 29
        },
        {
          "output_type": "display_data",
          "data": {
            "text/plain": [
              "<Figure size 432x288 with 1 Axes>"
            ],
            "image/png": "[encoded data removed]"
          },
          "metadata": {
            "needs_background": "light"
          }
        }
      ]
    },
    {
      "cell_type": "code",
      "source": [
        "ds_sorted = ds.groupby('qs_rooms')['sales_price'].mean().reset_index().sort_values('sales_price')['qs_rooms']\n",
        "sns.barplot(x='qs_rooms',y='sales_price',data = ds,order = ds_sorted)\n",
        "plt.xticks(rotation=45)"
      ],
      "metadata": {
        "colab": {
          "base_uri": "https://localhost:8080/",
          "height": 351
        },
        "id": "34saSvBS9lp_",
        "outputId": "9de6743c-4bfe-42bc-9694-288f27786ab3"
      },
      "execution_count": 30,
      "outputs": [
        {
          "output_type": "execute_result",
          "data": {
            "text/plain": [
              "(array([ 0,  1,  2,  3,  4,  5,  6,  7,  8,  9, 10, 11, 12, 13, 14, 15, 16,\n",
              "        17, 18, 19, 20, 21, 22, 23, 24, 25, 26, 27, 28, 29, 30]),\n",
              " <a list of 31 Text major ticklabel objects>)"
            ]
          },
          "metadata": {},
          "execution_count": 30
        },
        {
          "output_type": "display_data",
          "data": {
            "text/plain": [
              "<Figure size 432x288 with 1 Axes>"
            ],
            "image/png": "[encoded data removed]"
          },
          "metadata": {
            "needs_background": "light"
          }
        }
      ]
    },
    {
      "cell_type": "markdown",
      "source": [
        "We will drop qs rooms because there is no linear relationship with the target variable "
      ],
      "metadata": {
        "id": "U4PL5_GBDpYT"
      }
    },
    {
      "cell_type": "code",
      "source": [
        "ds.drop('qs_rooms', axis=1, inplace=True)"
      ],
      "metadata": {
        "id": "Ke1_z7IEDoZp"
      },
      "execution_count": 35,
      "outputs": []
    },
    {
      "cell_type": "code",
      "source": [
        "ds_sorted = ds.groupby('qs_bathroom')['sales_price'].mean().reset_index().sort_values('sales_price')['qs_bathroom']\n",
        "sns.barplot(x='qs_bathroom',y='sales_price',data = ds,order = ds_sorted)\n",
        "plt.xticks(rotation=45)"
      ],
      "metadata": {
        "colab": {
          "base_uri": "https://localhost:8080/",
          "height": 352
        },
        "id": "qF81ZaAq9llL",
        "outputId": "80dc4f7c-4348-4af6-b394-e618bdd2b5df"
      },
      "execution_count": 31,
      "outputs": [
        {
          "output_type": "execute_result",
          "data": {
            "text/plain": [
              "(array([ 0,  1,  2,  3,  4,  5,  6,  7,  8,  9, 10, 11, 12, 13, 14, 15, 16,\n",
              "        17, 18, 19, 20, 21, 22, 23, 24, 25, 26, 27, 28, 29, 30]),\n",
              " <a list of 31 Text major ticklabel objects>)"
            ]
          },
          "metadata": {},
          "execution_count": 31
        },
        {
          "output_type": "display_data",
          "data": {
            "text/plain": [
              "<Figure size 432x288 with 1 Axes>"
            ],
            "image/png": "[encoded data removed]"
          },
          "metadata": {
            "needs_background": "light"
          }
        }
      ]
    },
    {
      "cell_type": "code",
      "source": [
        "ds.drop('qs_bathroom', axis=1, inplace=True)"
      ],
      "metadata": {
        "id": "VoB-RAogEJGB"
      },
      "execution_count": 36,
      "outputs": []
    },
    {
      "cell_type": "code",
      "source": [
        "ds_sorted = ds.groupby('qs_bedroom')['sales_price'].mean().reset_index().sort_values('sales_price')['qs_bedroom']\n",
        "sns.barplot(x='qs_bedroom',y='sales_price',data = ds,order = ds_sorted)\n",
        "plt.xticks(rotation=45)"
      ],
      "metadata": {
        "colab": {
          "base_uri": "https://localhost:8080/",
          "height": 352
        },
        "id": "l_pJGlmdEsKY",
        "outputId": "7a43f03b-95d9-4209-b373-d9b1093de838"
      },
      "execution_count": 39,
      "outputs": [
        {
          "output_type": "execute_result",
          "data": {
            "text/plain": [
              "(array([ 0,  1,  2,  3,  4,  5,  6,  7,  8,  9, 10, 11, 12, 13, 14, 15, 16,\n",
              "        17, 18, 19, 20, 21, 22, 23, 24, 25, 26, 27, 28, 29, 30]),\n",
              " <a list of 31 Text major ticklabel objects>)"
            ]
          },
          "metadata": {},
          "execution_count": 39
        },
        {
          "output_type": "display_data",
          "data": {
            "text/plain": [
              "<Figure size 432x288 with 1 Axes>"
            ],
            "image/png": "[encoded data removed]"
          },
          "metadata": {
            "needs_background": "light"
          }
        }
      ]
    },
    {
      "cell_type": "code",
      "source": [
        "ds.drop('qs_bedroom', axis=1, inplace=True)"
      ],
      "metadata": {
        "id": "UaRY1OmwFCex"
      },
      "execution_count": 41,
      "outputs": []
    },
    {
      "cell_type": "code",
      "source": [
        "ds_sorted = ds.groupby('qs_overall')['sales_price'].mean().reset_index().sort_values('sales_price')['qs_overall']\n",
        "sns.barplot(x='qs_overall',y='sales_price',data = ds,order = ds_sorted)\n",
        "plt.xticks(rotation=45)"
      ],
      "metadata": {
        "colab": {
          "base_uri": "https://localhost:8080/",
          "height": 968
        },
        "id": "bjVaLI4HEs5g",
        "outputId": "265c5cd6-d348-4f6d-90e6-4c31c61c35b9"
      },
      "execution_count": 40,
      "outputs": [
        {
          "output_type": "execute_result",
          "data": {
            "text/plain": [
              "(array([  0,   1,   2,   3,   4,   5,   6,   7,   8,   9,  10,  11,  12,\n",
              "         13,  14,  15,  16,  17,  18,  19,  20,  21,  22,  23,  24,  25,\n",
              "         26,  27,  28,  29,  30,  31,  32,  33,  34,  35,  36,  37,  38,\n",
              "         39,  40,  41,  42,  43,  44,  45,  46,  47,  48,  49,  50,  51,\n",
              "         52,  53,  54,  55,  56,  57,  58,  59,  60,  61,  62,  63,  64,\n",
              "         65,  66,  67,  68,  69,  70,  71,  72,  73,  74,  75,  76,  77,\n",
              "         78,  79,  80,  81,  82,  83,  84,  85,  86,  87,  88,  89,  90,\n",
              "         91,  92,  93,  94,  95,  96,  97,  98,  99, 100, 101, 102, 103,\n",
              "        104, 105, 106, 107, 108, 109, 110, 111, 112, 113, 114, 115, 116,\n",
              "        117, 118, 119, 120, 121, 122, 123, 124, 125, 126, 127, 128, 129,\n",
              "        130, 131, 132, 133, 134, 135, 136, 137, 138, 139, 140, 141, 142,\n",
              "        143, 144, 145, 146, 147, 148, 149, 150, 151, 152, 153, 154, 155,\n",
              "        156, 157, 158, 159, 160, 161, 162, 163, 164, 165, 166, 167, 168,\n",
              "        169, 170, 171, 172, 173, 174, 175, 176, 177, 178, 179, 180, 181,\n",
              "        182, 183, 184, 185, 186, 187, 188, 189, 190, 191, 192, 193, 194,\n",
              "        195, 196, 197, 198, 199, 200, 201, 202, 203, 204, 205, 206, 207,\n",
              "        208, 209, 210, 211, 212, 213, 214, 215, 216, 217, 218, 219, 220,\n",
              "        221, 222, 223, 224, 225, 226, 227, 228, 229, 230, 231, 232, 233,\n",
              "        234, 235, 236, 237, 238, 239, 240, 241, 242, 243, 244, 245, 246,\n",
              "        247, 248, 249, 250, 251, 252, 253, 254, 255, 256, 257, 258, 259,\n",
              "        260, 261, 262, 263, 264, 265, 266, 267, 268, 269, 270, 271, 272,\n",
              "        273, 274, 275, 276, 277, 278, 279, 280, 281, 282, 283, 284, 285,\n",
              "        286, 287, 288, 289, 290, 291, 292, 293, 294, 295, 296, 297, 298,\n",
              "        299, 300, 301, 302, 303, 304, 305, 306, 307, 308, 309, 310, 311,\n",
              "        312, 313, 314, 315, 316, 317, 318, 319, 320, 321, 322, 323, 324,\n",
              "        325, 326, 327, 328, 329, 330, 331, 332, 333, 334, 335, 336, 337,\n",
              "        338, 339, 340, 341, 342, 343, 344, 345, 346, 347, 348, 349, 350,\n",
              "        351, 352, 353, 354, 355, 356, 357, 358, 359, 360, 361, 362, 363,\n",
              "        364, 365, 366, 367, 368, 369, 370, 371, 372, 373, 374, 375, 376,\n",
              "        377, 378, 379, 380, 381, 382, 383, 384, 385, 386, 387, 388, 389,\n",
              "        390, 391, 392, 393, 394, 395, 396, 397, 398, 399, 400, 401, 402,\n",
              "        403, 404, 405, 406, 407, 408, 409, 410, 411, 412, 413, 414, 415,\n",
              "        416, 417, 418, 419, 420, 421, 422, 423, 424, 425, 426, 427, 428,\n",
              "        429, 430, 431, 432, 433, 434, 435, 436, 437, 438, 439, 440, 441,\n",
              "        442, 443, 444, 445, 446, 447, 448, 449, 450, 451, 452, 453, 454,\n",
              "        455, 456, 457, 458, 459, 460, 461, 462, 463, 464, 465, 466, 467,\n",
              "        468, 469, 470, 471, 472, 473, 474, 475, 476, 477, 478]),\n",
              " <a list of 479 Text major ticklabel objects>)"
            ]
          },
          "metadata": {},
          "execution_count": 40
        },
        {
          "output_type": "display_data",
          "data": {
            "text/plain": [
              "<Figure size 432x288 with 1 Axes>"
            ],
            "image/png": "[encoded data removed]"
          },
          "metadata": {
            "needs_background": "light"
          }
        }
      ]
    },
    {
      "cell_type": "code",
      "source": [
        "ds.drop('total_price', axis=1, inplace=True)"
      ],
      "metadata": {
        "id": "xZJe6l-dFV-8"
      },
      "execution_count": 43,
      "outputs": []
    },
    {
      "cell_type": "code",
      "source": [
        "ds.drop('reg_fee', axis=1, inplace=True)\n",
        "ds.drop('commis', axis=1, inplace=True)"
      ],
      "metadata": {
        "id": "4wzgrE8J_0Tg"
      },
      "execution_count": null,
      "outputs": []
    },
    {
      "cell_type": "code",
      "source": [
        "ds_sorted = ds.groupby('mzzone')['sales_price'].mean().reset_index().sort_values('sales_price')['mzzone']\n",
        "sns.barplot(x='mzzone',y='sales_price',data = ds,order = ds_sorted)\n",
        "plt.xticks(rotation=45)"
      ],
      "metadata": {
        "colab": {
          "base_uri": "https://localhost:8080/",
          "height": 314
        },
        "id": "IFPz5rmlFo_T",
        "outputId": "93c2c996-41d9-43d0-8144-cfccb6ec6efa"
      },
      "execution_count": 46,
      "outputs": [
        {
          "output_type": "execute_result",
          "data": {
            "text/plain": [
              "(array([0, 1, 2, 3, 4, 5]), <a list of 6 Text major ticklabel objects>)"
            ]
          },
          "metadata": {},
          "execution_count": 46
        },
        {
          "output_type": "display_data",
          "data": {
            "text/plain": [
              "<Figure size 432x288 with 1 Axes>"
            ],
            "image/png": "[encoded data removed]"
          },
          "metadata": {
            "needs_background": "light"
          }
        }
      ]
    },
    {
      "cell_type": "code",
      "source": [
        "ds.info()"
      ],
      "metadata": {
        "colab": {
          "base_uri": "https://localhost:8080/"
        },
        "id": "_GDKTYl98pFU",
        "outputId": "5d9a3998-0759-41cf-f3dc-08bf3a0b861e"
      },
      "execution_count": 45,
      "outputs": [
        {
          "output_type": "stream",
          "name": "stdout",
          "text": [
            "<class 'pandas.core.frame.DataFrame'>\n",
            "Int64Index: 7056 entries, 0 to 7108\n",
            "Data columns (total 15 columns):\n",
            " #   Column         Non-Null Count  Dtype         \n",
            "---  ------         --------------  -----         \n",
            " 0   area           7056 non-null   int64         \n",
            " 1   park_facil     7056 non-null   int64         \n",
            " 2   buildtype      7056 non-null   object        \n",
            " 3   utility_avail  7056 non-null   object        \n",
            " 4   street         7056 non-null   object        \n",
            " 5   mzzone         7056 non-null   object        \n",
            " 6   date_build     7056 non-null   datetime64[ns]\n",
            " 7   date_sale      7056 non-null   datetime64[ns]\n",
            " 8   property_age   7056 non-null   int64         \n",
            " 9   int_sqft       7056 non-null   int64         \n",
            " 10  n_bedroom      7056 non-null   int64         \n",
            " 11  n_bathroom     7056 non-null   int64         \n",
            " 12  n_room         7056 non-null   int64         \n",
            " 13  qs_overall     7056 non-null   float64       \n",
            " 14  sales_price    7056 non-null   int64         \n",
            "dtypes: datetime64[ns](2), float64(1), int64(8), object(4)\n",
            "memory usage: 1.1+ MB\n"
          ]
        }
      ]
    },
    {
      "cell_type": "code",
      "source": [
        "ds.area.unique()"
      ],
      "metadata": {
        "colab": {
          "base_uri": "https://localhost:8080/"
        },
        "id": "1MS2WQ41PhXH",
        "outputId": "ec2af8e7-7e65-41d5-ea6c-04393b675d63"
      },
      "execution_count": 19,
      "outputs": [
        {
          "output_type": "execute_result",
          "data": {
            "text/plain": [
              "array([3, 1, 0, 6, 2, 4, 5])"
            ]
          },
          "metadata": {},
          "execution_count": 19
        }
      ]
    },
    {
      "cell_type": "code",
      "source": [
        "ds.describe().T"
      ],
      "metadata": {
        "id": "qUUpjshcfkUJ",
        "colab": {
          "base_uri": "https://localhost:8080/",
          "height": 551
        },
        "outputId": "0b1b95af-b391-480d-d5fd-c1b198eeccf7"
      },
      "execution_count": 20,
      "outputs": [
        {
          "output_type": "execute_result",
          "data": {
            "text/plain": [
              "                count          mean           std        min         25%  \\\n",
              "area           7056.0  2.908305e+00  1.821428e+00        0.0        2.00   \n",
              "park_facil     7056.0  5.041100e-01  5.000185e-01        0.0        0.00   \n",
              "property_age   7056.0  2.427353e+01  1.233156e+01        3.0       14.00   \n",
              "int_sqft       7056.0  1.381317e+03  4.578609e+02      500.0      991.00   \n",
              "dist_mainroad  7056.0  9.956916e+01  5.740387e+01        0.0       50.00   \n",
              "n_bedroom      7056.0  1.636621e+00  8.036325e-01        1.0        1.00   \n",
              "n_bathroom     7056.0  1.213152e+00  4.095631e-01        1.0        1.00   \n",
              "n_room         7056.0  3.686650e+00  1.020011e+00        2.0        3.00   \n",
              "qs_rooms       7056.0  3.517177e+00  8.921405e-01        2.0        2.70   \n",
              "qs_bathroom    7056.0  3.505896e+00  8.976443e-01        2.0        2.70   \n",
              "qs_bedroom     7056.0  3.485332e+00  8.868143e-01        2.0        2.70   \n",
              "qs_overall     7056.0  3.503389e+00  5.273126e-01        2.0        3.13   \n",
              "reg_fee        7056.0  3.767919e+05  1.431096e+05    71177.0   272117.50   \n",
              "commis         7056.0  1.409943e+05  7.877447e+04     5055.0    84212.75   \n",
              "sales_price    7056.0  1.088801e+07  3.769081e+06  2156875.0  8266790.00   \n",
              "total_price    7056.0  1.140579e+07  3.945567e+06  2253935.0  8639779.75   \n",
              "\n",
              "                      50%          75%          max  \n",
              "area                  3.0         4.00         6.00  \n",
              "park_facil            1.0         1.00         1.00  \n",
              "property_age         23.0        34.00        55.00  \n",
              "int_sqft           1369.5      1744.00      2500.00  \n",
              "dist_mainroad        99.0       148.00       200.00  \n",
              "n_bedroom             1.0         2.00         4.00  \n",
              "n_bathroom            1.0         1.00         2.00  \n",
              "n_room                4.0         4.00         6.00  \n",
              "qs_rooms              3.5         4.30         5.00  \n",
              "qs_bathroom           3.5         4.30         5.00  \n",
              "qs_bedroom            3.5         4.30         5.00  \n",
              "qs_overall            3.5         3.89         4.97  \n",
              "reg_fee          349444.5    451030.50    983922.00  \n",
              "commis           127640.5    184449.00    495405.00  \n",
              "sales_price    10319225.0  12981477.50  23667340.00  \n",
              "total_price    10804468.0  13602447.50  24969043.00  "
            ],
            "text/html": [
              "\n",
              "  <div id=\"df-c07ca18d-4074-4052-bd48-b5b2a62e6513\">\n",
              "    <div class=\"colab-df-container\">\n",
              "      <div>\n",
              "<style scoped>\n",
              "    .dataframe tbody tr th:only-of-type {\n",
              "        vertical-align: middle;\n",
              "    }\n",
              "\n",
              "    .dataframe tbody tr th {\n",
              "        vertical-align: top;\n",
              "    }\n",
              "\n",
              "    .dataframe thead th {\n",
              "        text-align: right;\n",
              "    }\n",
              "</style>\n",
              "<table border=\"1\" class=\"dataframe\">\n",
              "  <thead>\n",
              "    <tr style=\"text-align: right;\">\n",
              "      <th></th>\n",
              "      <th>count</th>\n",
              "      <th>mean</th>\n",
              "      <th>std</th>\n",
              "      <th>min</th>\n",
              "      <th>25%</th>\n",
              "      <th>50%</th>\n",
              "      <th>75%</th>\n",
              "      <th>max</th>\n",
              "    </tr>\n",
              "  </thead>\n",
              "  <tbody>\n",
              "    <tr>\n",
              "      <th>area</th>\n",
              "      <td>7056.0</td>\n",
              "      <td>2.908305e+00</td>\n",
              "      <td>1.821428e+00</td>\n",
              "      <td>0.0</td>\n",
              "      <td>2.00</td>\n",
              "      <td>3.0</td>\n",
              "      <td>4.00</td>\n",
              "      <td>6.00</td>\n",
              "    </tr>\n",
              "    <tr>\n",
              "      <th>park_facil</th>\n",
              "      <td>7056.0</td>\n",
              "      <td>5.041100e-01</td>\n",
              "      <td>5.000185e-01</td>\n",
              "      <td>0.0</td>\n",
              "      <td>0.00</td>\n",
              "      <td>1.0</td>\n",
              "      <td>1.00</td>\n",
              "      <td>1.00</td>\n",
              "    </tr>\n",
              "    <tr>\n",
              "      <th>property_age</th>\n",
              "      <td>7056.0</td>\n",
              "      <td>2.427353e+01</td>\n",
              "      <td>1.233156e+01</td>\n",
              "      <td>3.0</td>\n",
              "      <td>14.00</td>\n",
              "      <td>23.0</td>\n",
              "      <td>34.00</td>\n",
              "      <td>55.00</td>\n",
              "    </tr>\n",
              "    <tr>\n",
              "      <th>int_sqft</th>\n",
              "      <td>7056.0</td>\n",
              "      <td>1.381317e+03</td>\n",
              "      <td>4.578609e+02</td>\n",
              "      <td>500.0</td>\n",
              "      <td>991.00</td>\n",
              "      <td>1369.5</td>\n",
              "      <td>1744.00</td>\n",
              "      <td>2500.00</td>\n",
              "    </tr>\n",
              "    <tr>\n",
              "      <th>dist_mainroad</th>\n",
              "      <td>7056.0</td>\n",
              "      <td>9.956916e+01</td>\n",
              "      <td>5.740387e+01</td>\n",
              "      <td>0.0</td>\n",
              "      <td>50.00</td>\n",
              "      <td>99.0</td>\n",
              "      <td>148.00</td>\n",
              "      <td>200.00</td>\n",
              "    </tr>\n",
              "    <tr>\n",
              "      <th>n_bedroom</th>\n",
              "      <td>7056.0</td>\n",
              "      <td>1.636621e+00</td>\n",
              "      <td>8.036325e-01</td>\n",
              "      <td>1.0</td>\n",
              "      <td>1.00</td>\n",
              "      <td>1.0</td>\n",
              "      <td>2.00</td>\n",
              "      <td>4.00</td>\n",
              "    </tr>\n",
              "    <tr>\n",
              "      <th>n_bathroom</th>\n",
              "      <td>7056.0</td>\n",
              "      <td>1.213152e+00</td>\n",
              "      <td>4.095631e-01</td>\n",
              "      <td>1.0</td>\n",
              "      <td>1.00</td>\n",
              "      <td>1.0</td>\n",
              "      <td>1.00</td>\n",
              "      <td>2.00</td>\n",
              "    </tr>\n",
              "    <tr>\n",
              "      <th>n_room</th>\n",
              "      <td>7056.0</td>\n",
              "      <td>3.686650e+00</td>\n",
              "      <td>1.020011e+00</td>\n",
              "      <td>2.0</td>\n",
              "      <td>3.00</td>\n",
              "      <td>4.0</td>\n",
              "      <td>4.00</td>\n",
              "      <td>6.00</td>\n",
              "    </tr>\n",
              "    <tr>\n",
              "      <th>qs_rooms</th>\n",
              "      <td>7056.0</td>\n",
              "      <td>3.517177e+00</td>\n",
              "      <td>8.921405e-01</td>\n",
              "      <td>2.0</td>\n",
              "      <td>2.70</td>\n",
              "      <td>3.5</td>\n",
              "      <td>4.30</td>\n",
              "      <td>5.00</td>\n",
              "    </tr>\n",
              "    <tr>\n",
              "      <th>qs_bathroom</th>\n",
              "      <td>7056.0</td>\n",
              "      <td>3.505896e+00</td>\n",
              "      <td>8.976443e-01</td>\n",
              "      <td>2.0</td>\n",
              "      <td>2.70</td>\n",
              "      <td>3.5</td>\n",
              "      <td>4.30</td>\n",
              "      <td>5.00</td>\n",
              "    </tr>\n",
              "    <tr>\n",
              "      <th>qs_bedroom</th>\n",
              "      <td>7056.0</td>\n",
              "      <td>3.485332e+00</td>\n",
              "      <td>8.868143e-01</td>\n",
              "      <td>2.0</td>\n",
              "      <td>2.70</td>\n",
              "      <td>3.5</td>\n",
              "      <td>4.30</td>\n",
              "      <td>5.00</td>\n",
              "    </tr>\n",
              "    <tr>\n",
              "      <th>qs_overall</th>\n",
              "      <td>7056.0</td>\n",
              "      <td>3.503389e+00</td>\n",
              "      <td>5.273126e-01</td>\n",
              "      <td>2.0</td>\n",
              "      <td>3.13</td>\n",
              "      <td>3.5</td>\n",
              "      <td>3.89</td>\n",
              "      <td>4.97</td>\n",
              "    </tr>\n",
              "    <tr>\n",
              "      <th>reg_fee</th>\n",
              "      <td>7056.0</td>\n",
              "      <td>3.767919e+05</td>\n",
              "      <td>1.431096e+05</td>\n",
              "      <td>71177.0</td>\n",
              "      <td>272117.50</td>\n",
              "      <td>349444.5</td>\n",
              "      <td>451030.50</td>\n",
              "      <td>983922.00</td>\n",
              "    </tr>\n",
              "    <tr>\n",
              "      <th>commis</th>\n",
              "      <td>7056.0</td>\n",
              "      <td>1.409943e+05</td>\n",
              "      <td>7.877447e+04</td>\n",
              "      <td>5055.0</td>\n",
              "      <td>84212.75</td>\n",
              "      <td>127640.5</td>\n",
              "      <td>184449.00</td>\n",
              "      <td>495405.00</td>\n",
              "    </tr>\n",
              "    <tr>\n",
              "      <th>sales_price</th>\n",
              "      <td>7056.0</td>\n",
              "      <td>1.088801e+07</td>\n",
              "      <td>3.769081e+06</td>\n",
              "      <td>2156875.0</td>\n",
              "      <td>8266790.00</td>\n",
              "      <td>10319225.0</td>\n",
              "      <td>12981477.50</td>\n",
              "      <td>23667340.00</td>\n",
              "    </tr>\n",
              "    <tr>\n",
              "      <th>total_price</th>\n",
              "      <td>7056.0</td>\n",
              "      <td>1.140579e+07</td>\n",
              "      <td>3.945567e+06</td>\n",
              "      <td>2253935.0</td>\n",
              "      <td>8639779.75</td>\n",
              "      <td>10804468.0</td>\n",
              "      <td>13602447.50</td>\n",
              "      <td>24969043.00</td>\n",
              "    </tr>\n",
              "  </tbody>\n",
              "</table>\n",
              "</div>\n",
              "      <button class=\"colab-df-convert\" onclick=\"convertToInteractive('df-c07ca18d-4074-4052-bd48-b5b2a62e6513')\"\n",
              "              title=\"Convert this dataframe to an interactive table.\"\n",
              "              style=\"display:none;\">\n",
              "        \n",
              "  <svg xmlns=\"http://www.w3.org/2000/svg\" height=\"24px\"viewBox=\"0 0 24 24\"\n",
              "       width=\"24px\">\n",
              "    <path d=\"M0 0h24v24H0V0z\" fill=\"none\"/>\n",
              "    <path d=\"M18.56 5.44l.94 2.06.94-2.06 2.06-.94-2.06-.94-.94-2.06-.94 2.06-2.06.94zm-11 1L8.5 8.5l.94-2.06 2.06-.94-2.06-.94L8.5 2.5l-.94 2.06-2.06.94zm10 10l.94 2.06.94-2.06 2.06-.94-2.06-.94-.94-2.06-.94 2.06-2.06.94z\"/><path d=\"M17.41 7.96l-1.37-1.37c-.4-.4-.92-.59-1.43-.59-.52 0-1.04.2-1.43.59L10.3 9.45l-7.72 7.72c-.78.78-.78 2.05 0 2.83L4 21.41c.39.39.9.59 1.41.59.51 0 1.02-.2 1.41-.59l7.78-7.78 2.81-2.81c.8-.78.8-2.07 0-2.86zM5.41 20L4 18.59l7.72-7.72 1.47 1.35L5.41 20z\"/>\n",
              "  </svg>\n",
              "      </button>\n",
              "      \n",
              "  <style>\n",
              "    .colab-df-container {\n",
              "      display:flex;\n",
              "      flex-wrap:wrap;\n",
              "      gap: 12px;\n",
              "    }\n",
              "\n",
              "    .colab-df-convert {\n",
              "      background-color: #E8F0FE;\n",
              "      border: none;\n",
              "      border-radius: 50%;\n",
              "      cursor: pointer;\n",
              "      display: none;\n",
              "      fill: #1967D2;\n",
              "      height: 32px;\n",
              "      padding: 0 0 0 0;\n",
              "      width: 32px;\n",
              "    }\n",
              "\n",
              "    .colab-df-convert:hover {\n",
              "      background-color: #E2EBFA;\n",
              "      box-shadow: 0px 1px 2px rgba(60, 64, 67, 0.3), 0px 1px 3px 1px rgba(60, 64, 67, 0.15);\n",
              "      fill: #174EA6;\n",
              "    }\n",
              "\n",
              "    [theme=dark] .colab-df-convert {\n",
              "      background-color: #3B4455;\n",
              "      fill: #D2E3FC;\n",
              "    }\n",
              "\n",
              "    [theme=dark] .colab-df-convert:hover {\n",
              "      background-color: #434B5C;\n",
              "      box-shadow: 0px 1px 3px 1px rgba(0, 0, 0, 0.15);\n",
              "      filter: drop-shadow(0px 1px 2px rgba(0, 0, 0, 0.3));\n",
              "      fill: #FFFFFF;\n",
              "    }\n",
              "  </style>\n",
              "\n",
              "      <script>\n",
              "        const buttonEl =\n",
              "          document.querySelector('#df-c07ca18d-4074-4052-bd48-b5b2a62e6513 button.colab-df-convert');\n",
              "        buttonEl.style.display =\n",
              "          google.colab.kernel.accessAllowed ? 'block' : 'none';\n",
              "\n",
              "        async function convertToInteractive(key) {\n",
              "          const element = document.querySelector('#df-c07ca18d-4074-4052-bd48-b5b2a62e6513');\n",
              "          const dataTable =\n",
              "            await google.colab.kernel.invokeFunction('convertToInteractive',\n",
              "                                                     [key], {});\n",
              "          if (!dataTable) return;\n",
              "\n",
              "          const docLinkHtml = 'Like what you see? Visit the ' +\n",
              "            '<a target=\"_blank\" href=https://colab.research.google.com/notebooks/data_table.ipynb>data table notebook</a>'\n",
              "            + ' to learn more about interactive tables.';\n",
              "          element.innerHTML = '';\n",
              "          dataTable['output_type'] = 'display_data';\n",
              "          await google.colab.output.renderOutput(dataTable, element);\n",
              "          const docLink = document.createElement('div');\n",
              "          docLink.innerHTML = docLinkHtml;\n",
              "          element.appendChild(docLink);\n",
              "        }\n",
              "      </script>\n",
              "    </div>\n",
              "  </div>\n",
              "  "
            ]
          },
          "metadata": {},
          "execution_count": 20
        }
      ]
    },
    {
      "cell_type": "markdown",
      "source": [
        "# Exploratory data analysis"
      ],
      "metadata": {
        "id": "T9rwnvWehFny"
      }
    },
    {
      "cell_type": "code",
      "source": [
        "df.info()"
      ],
      "metadata": {
        "id": "oe0ieiyVfkAB",
        "colab": {
          "base_uri": "https://localhost:8080/"
        },
        "outputId": "3d2cdb7f-4a4b-43c4-a8bb-001cb1d74812"
      },
      "execution_count": 21,
      "outputs": [
        {
          "output_type": "stream",
          "name": "stdout",
          "text": [
            "<class 'pandas.core.frame.DataFrame'>\n",
            "Int64Index: 7056 entries, 0 to 7108\n",
            "Data columns (total 24 columns):\n",
            " #   Column         Non-Null Count  Dtype         \n",
            "---  ------         --------------  -----         \n",
            " 0   prt_id         7056 non-null   object        \n",
            " 1   area           7056 non-null   object        \n",
            " 2   int_sqft       7056 non-null   int64         \n",
            " 3   date_sale      7056 non-null   datetime64[ns]\n",
            " 4   dist_mainroad  7056 non-null   int64         \n",
            " 5   n_bedroom      7056 non-null   int64         \n",
            " 6   n_bathroom     7056 non-null   int64         \n",
            " 7   n_room         7056 non-null   int64         \n",
            " 8   sale_cond      7056 non-null   object        \n",
            " 9   park_facil     7056 non-null   object        \n",
            " 10  date_build     7056 non-null   datetime64[ns]\n",
            " 11  buildtype      7056 non-null   object        \n",
            " 12  utility_avail  7056 non-null   object        \n",
            " 13  street         7056 non-null   object        \n",
            " 14  mzzone         7056 non-null   object        \n",
            " 15  qs_rooms       7056 non-null   float64       \n",
            " 16  qs_bathroom    7056 non-null   float64       \n",
            " 17  qs_bedroom     7056 non-null   float64       \n",
            " 18  qs_overall     7056 non-null   float64       \n",
            " 19  reg_fee        7056 non-null   int64         \n",
            " 20  commis         7056 non-null   int64         \n",
            " 21  sales_price    7056 non-null   int64         \n",
            " 22  property_age   7056 non-null   int64         \n",
            " 23  total_price    7056 non-null   int64         \n",
            "dtypes: datetime64[ns](2), float64(4), int64(10), object(8)\n",
            "memory usage: 1.6+ MB\n"
          ]
        }
      ]
    },
    {
      "cell_type": "code",
      "source": [
        "ds.isna().sum()"
      ],
      "metadata": {
        "id": "tNF6Y1xFfkWR",
        "colab": {
          "base_uri": "https://localhost:8080/"
        },
        "outputId": "197fb1f9-65c4-489d-8abf-4f96cc8de9c0"
      },
      "execution_count": 47,
      "outputs": [
        {
          "output_type": "execute_result",
          "data": {
            "text/plain": [
              "area             0\n",
              "park_facil       0\n",
              "buildtype        0\n",
              "utility_avail    0\n",
              "street           0\n",
              "mzzone           0\n",
              "date_build       0\n",
              "date_sale        0\n",
              "property_age     0\n",
              "int_sqft         0\n",
              "n_bedroom        0\n",
              "n_bathroom       0\n",
              "n_room           0\n",
              "qs_overall       0\n",
              "sales_price      0\n",
              "dtype: int64"
            ]
          },
          "metadata": {},
          "execution_count": 47
        }
      ]
    },
    {
      "cell_type": "code",
      "source": [
        "ds = ds.dropna()\n",
        " \n",
        "# To reset the indices\n",
        "ds = ds.reset_index(drop = True)"
      ],
      "metadata": {
        "id": "AFSQyk1wfkgS"
      },
      "execution_count": 48,
      "outputs": []
    },
    {
      "cell_type": "code",
      "source": [
        "ds.shape"
      ],
      "metadata": {
        "id": "PLuwSFqMP_st",
        "colab": {
          "base_uri": "https://localhost:8080/"
        },
        "outputId": "ac1e3750-b5e2-4892-c738-b63b3a49f504"
      },
      "execution_count": 49,
      "outputs": [
        {
          "output_type": "execute_result",
          "data": {
            "text/plain": [
              "(7056, 15)"
            ]
          },
          "metadata": {},
          "execution_count": 49
        }
      ]
    },
    {
      "cell_type": "code",
      "source": [
        "# Finding out the correlation between the features\n",
        "corr = ds.corr()\n",
        "corr.shape"
      ],
      "metadata": {
        "id": "KQn3STZ6fkjx",
        "colab": {
          "base_uri": "https://localhost:8080/"
        },
        "outputId": "9605bd29-46c3-41e7-fac3-060d455f0c45"
      },
      "execution_count": 50,
      "outputs": [
        {
          "output_type": "execute_result",
          "data": {
            "text/plain": [
              "(9, 9)"
            ]
          },
          "metadata": {},
          "execution_count": 50
        }
      ]
    },
    {
      "cell_type": "markdown",
      "source": [
        "# Plotting the heatmap of correlation between features"
      ],
      "metadata": {
        "id": "oxgNsI2qRaGk"
      }
    },
    {
      "cell_type": "code",
      "source": [
        "## Plotting the heatmap of correlation between features\n",
        "plt.figure(figsize=(20,20))\n",
        "sns.heatmap(corr, cbar=True, square= True, fmt='.1f', annot=True, annot_kws={'size':15}, cmap='Greens')"
      ],
      "metadata": {
        "id": "vsbpj361fknF",
        "colab": {
          "base_uri": "https://localhost:8080/",
          "height": 1000
        },
        "outputId": "d5855b3b-cef1-4069-d6e4-953bb3579424"
      },
      "execution_count": 51,
      "outputs": [
        {
          "output_type": "execute_result",
          "data": {
            "text/plain": [
              "<matplotlib.axes._subplots.AxesSubplot at 0x7ff34c629dd0>"
            ]
          },
          "metadata": {},
          "execution_count": 51
        },
        {
          "output_type": "display_data",
          "data": {
            "text/plain": [
              "<Figure size 1440x1440 with 2 Axes>"
            ],
            "image/png": "[encoded data removed]"
          },
          "metadata": {
            "needs_background": "light"
          }
        }
      ]
    },
    {
      "cell_type": "code",
      "source": [
        "# View Distribution of column data\n",
        "for col in list(ds.columns):\n",
        "    print(ds[col].value_counts())"
      ],
      "metadata": {
        "id": "5Cf7ONkkfkpD",
        "colab": {
          "base_uri": "https://localhost:8080/"
        },
        "outputId": "32e3714c-6bac-46e6-c58b-5c451ceed37f"
      },
      "execution_count": 52,
      "outputs": [
        {
          "output_type": "stream",
          "name": "stdout",
          "text": [
            "2    1691\n",
            "3    1359\n",
            "4     990\n",
            "6     975\n",
            "1     777\n",
            "0     769\n",
            "5     495\n",
            "Name: area, dtype: int64\n",
            "1    3557\n",
            "0    3499\n",
            "Name: park_facil, dtype: int64\n",
            "house         2433\n",
            "other         2312\n",
            "commercial    2311\n",
            "Name: buildtype, dtype: int64\n",
            "allpub     1875\n",
            "nosewa     1860\n",
            "nosewr     1812\n",
            "elo        1509\n",
            "Name: utility_avail, dtype: int64\n",
            "paved        2554\n",
            "gravel       2502\n",
            "no access    2000\n",
            "Name: street, dtype: int64\n",
            "rl    1849\n",
            "rh    1808\n",
            "rm    1801\n",
            "c      547\n",
            "a      533\n",
            "i      518\n",
            "Name: mzzone, dtype: int64\n",
            "1987-07-02    6\n",
            "1999-04-04    5\n",
            "1982-01-29    4\n",
            "1990-10-02    4\n",
            "1982-05-13    4\n",
            "             ..\n",
            "1954-09-10    1\n",
            "2001-02-25    1\n",
            "1988-08-06    1\n",
            "2005-02-19    1\n",
            "1961-07-24    1\n",
            "Name: date_build, Length: 5773, dtype: int64\n",
            "2009-10-06    12\n",
            "2010-11-17    10\n",
            "2012-03-15    10\n",
            "2011-04-12    10\n",
            "2009-01-06    10\n",
            "              ..\n",
            "2006-03-05     1\n",
            "2006-06-25     1\n",
            "2004-09-04     1\n",
            "2012-10-03     1\n",
            "2005-07-13     1\n",
            "Name: date_sale, Length: 2794, dtype: int64\n",
            "20    208\n",
            "19    208\n",
            "5     203\n",
            "28    200\n",
            "22    198\n",
            "16    191\n",
            "8     188\n",
            "12    186\n",
            "30    186\n",
            "7     186\n",
            "14    184\n",
            "29    183\n",
            "24    183\n",
            "17    182\n",
            "26    177\n",
            "23    177\n",
            "25    177\n",
            "10    176\n",
            "9     176\n",
            "36    174\n",
            "6     173\n",
            "18    173\n",
            "11    172\n",
            "33    170\n",
            "15    169\n",
            "21    168\n",
            "13    164\n",
            "27    162\n",
            "35    159\n",
            "39    155\n",
            "38    150\n",
            "34    149\n",
            "37    138\n",
            "31    135\n",
            "40    131\n",
            "32    129\n",
            "44     97\n",
            "42     89\n",
            "43     85\n",
            "41     83\n",
            "45     71\n",
            "48     58\n",
            "49     55\n",
            "4      52\n",
            "50     47\n",
            "47     44\n",
            "46     42\n",
            "53     21\n",
            "55     21\n",
            "51     19\n",
            "54     18\n",
            "52     13\n",
            "3       1\n",
            "Name: property_age, dtype: int64\n",
            "1781    18\n",
            "1538    15\n",
            "1514    13\n",
            "1505    13\n",
            "1634    12\n",
            "        ..\n",
            "559      1\n",
            "2479     1\n",
            "1330     1\n",
            "880      1\n",
            "598      1\n",
            "Name: int_sqft, Length: 1698, dtype: int64\n",
            "1    3773\n",
            "2    2327\n",
            "3     703\n",
            "4     253\n",
            "Name: n_bedroom, dtype: int64\n",
            "1    5552\n",
            "2    1504\n",
            "Name: n_bathroom, dtype: int64\n",
            "4    2539\n",
            "3    2112\n",
            "5    1233\n",
            "2     919\n",
            "6     253\n",
            "Name: n_room, dtype: int64\n",
            "3.540    59\n",
            "3.260    57\n",
            "3.320    56\n",
            "3.560    55\n",
            "3.360    54\n",
            "         ..\n",
            "4.615     1\n",
            "2.975     1\n",
            "4.850     1\n",
            "2.635     1\n",
            "4.940     1\n",
            "Name: qs_overall, Length: 479, dtype: int64\n",
            "6519000     2\n",
            "8460450     2\n",
            "9593250     2\n",
            "13331980    2\n",
            "6530500     2\n",
            "           ..\n",
            "6818200     1\n",
            "16025310    1\n",
            "11061120    1\n",
            "11780070    1\n",
            "9976480     1\n",
            "Name: sales_price, Length: 7005, dtype: int64\n"
          ]
        }
      ]
    },
    {
      "cell_type": "code",
      "source": [
        "ds.sales_price.plot.density(color='blue')"
      ],
      "metadata": {
        "id": "U52DtzK6fkq6",
        "colab": {
          "base_uri": "https://localhost:8080/",
          "height": 306
        },
        "outputId": "0c078656-1169-4567-bd5e-a4220cb4cd8e"
      },
      "execution_count": 53,
      "outputs": [
        {
          "output_type": "execute_result",
          "data": {
            "text/plain": [
              "<matplotlib.axes._subplots.AxesSubplot at 0x7ff348491910>"
            ]
          },
          "metadata": {},
          "execution_count": 53
        },
        {
          "output_type": "display_data",
          "data": {
            "text/plain": [
              "<Figure size 432x288 with 1 Axes>"
            ],
            "image/png": "[encoded data removed]"
          },
          "metadata": {
            "needs_background": "light"
          }
        }
      ]
    },
    {
      "cell_type": "code",
      "source": [
        "# Spliting target variable and independent variables\n",
        "X = ds.drop(['sales_price'], axis = 1)\n",
        "y = ds['sales_price']"
      ],
      "metadata": {
        "id": "kHVhTdMyfkuB"
      },
      "execution_count": 54,
      "outputs": []
    },
    {
      "cell_type": "code",
      "source": [
        "# Splitting to training and testing data\n",
        "\n",
        "from sklearn.model_selection import train_test_split\n",
        "X_train, X_test, y_train, y_test = train_test_split(X,y, test_size = 0.3, random_state = 4)"
      ],
      "metadata": {
        "id": "sVjRHadefkxb"
      },
      "execution_count": 55,
      "outputs": []
    },
    {
      "cell_type": "code",
      "source": [
        "!pip install flaml"
      ],
      "metadata": {
        "id": "SoYXs73dYM_4",
        "colab": {
          "base_uri": "https://localhost:8080/"
        },
        "outputId": "44ec5aa0-fd49-49a4-bf91-4b61728c4a1a"
      },
      "execution_count": 56,
      "outputs": [
        {
          "output_type": "stream",
          "name": "stdout",
          "text": [
            "Looking in indexes: https://pypi.org/simple, https://us-python.pkg.dev/colab-wheels/public/simple/\n",
            "Collecting flaml\n",
            "  Downloading FLAML-1.0.12-py3-none-any.whl (206 kB)\n",
            "\u001b[K     |████████████████████████████████| 206 kB 34.3 MB/s \n",
            "\u001b[?25hRequirement already satisfied: pandas>=1.1.4 in /usr/local/lib/python3.7/dist-packages (from flaml) (1.3.5)\n",
            "Requirement already satisfied: scikit-learn>=0.24 in /usr/local/lib/python3.7/dist-packages (from flaml) (1.0.2)\n",
            "Requirement already satisfied: scipy>=1.4.1 in /usr/local/lib/python3.7/dist-packages (from flaml) (1.7.3)\n",
            "Collecting lightgbm>=2.3.1\n",
            "  Downloading lightgbm-3.3.2-py3-none-manylinux1_x86_64.whl (2.0 MB)\n",
            "\u001b[K     |████████████████████████████████| 2.0 MB 82.7 MB/s \n",
            "\u001b[?25hRequirement already satisfied: xgboost>=0.90 in /usr/local/lib/python3.7/dist-packages (from flaml) (0.90)\n",
            "Requirement already satisfied: NumPy>=1.17.0rc1 in /usr/local/lib/python3.7/dist-packages (from flaml) (1.21.6)\n",
            "Requirement already satisfied: wheel in /usr/local/lib/python3.7/dist-packages (from lightgbm>=2.3.1->flaml) (0.37.1)\n",
            "Requirement already satisfied: python-dateutil>=2.7.3 in /usr/local/lib/python3.7/dist-packages (from pandas>=1.1.4->flaml) (2.8.2)\n",
            "Requirement already satisfied: pytz>=2017.3 in /usr/local/lib/python3.7/dist-packages (from pandas>=1.1.4->flaml) (2022.2.1)\n",
            "Requirement already satisfied: six>=1.5 in /usr/local/lib/python3.7/dist-packages (from python-dateutil>=2.7.3->pandas>=1.1.4->flaml) (1.15.0)\n",
            "Requirement already satisfied: threadpoolctl>=2.0.0 in /usr/local/lib/python3.7/dist-packages (from scikit-learn>=0.24->flaml) (3.1.0)\n",
            "Requirement already satisfied: joblib>=0.11 in /usr/local/lib/python3.7/dist-packages (from scikit-learn>=0.24->flaml) (1.1.0)\n",
            "Installing collected packages: lightgbm, flaml\n",
            "  Attempting uninstall: lightgbm\n",
            "    Found existing installation: lightgbm 2.2.3\n",
            "    Uninstalling lightgbm-2.2.3:\n",
            "      Successfully uninstalled lightgbm-2.2.3\n",
            "Successfully installed flaml-1.0.12 lightgbm-3.3.2\n"
          ]
        }
      ]
    },
    {
      "cell_type": "code",
      "source": [
        "\n",
        "from flaml import AutoML\n",
        "automl_log = AutoML() "
      ],
      "metadata": {
        "id": "6GZlOpirfkzE"
      },
      "execution_count": 57,
      "outputs": []
    },
    {
      "cell_type": "code",
      "source": [
        "automl_log.fit(X_train, y_train, task=\"regression\",metric='r2',time_budget=60,estimator_list = ['lgbm'],\n",
        "          n_splits=10)"
      ],
      "metadata": {
        "id": "x0zNWG4Xfk0y",
        "colab": {
          "base_uri": "https://localhost:8080/"
        },
        "outputId": "ff2985ec-808b-4754-caec-0b3b523999f7"
      },
      "execution_count": 58,
      "outputs": [
        {
          "output_type": "stream",
          "name": "stderr",
          "text": [
            "[flaml.automl: 09-11 10:30:02] {2600} INFO - task = regression\n",
            "INFO:flaml.automl:task = regression\n",
            "[flaml.automl: 09-11 10:30:02] {2602} INFO - Data split method: uniform\n",
            "INFO:flaml.automl:Data split method: uniform\n",
            "[flaml.automl: 09-11 10:30:02] {2605} INFO - Evaluation method: cv\n",
            "INFO:flaml.automl:Evaluation method: cv\n",
            "[flaml.automl: 09-11 10:30:02] {2727} INFO - Minimizing error metric: 1-r2\n",
            "INFO:flaml.automl:Minimizing error metric: 1-r2\n",
            "[flaml.automl: 09-11 10:30:02] {2869} INFO - List of ML learners in AutoML Run: ['lgbm']\n",
            "INFO:flaml.automl:List of ML learners in AutoML Run: ['lgbm']\n",
            "[flaml.automl: 09-11 10:30:02] {3174} INFO - iteration 0, current learner lgbm\n",
            "INFO:flaml.automl:iteration 0, current learner lgbm\n",
            "[flaml.automl: 09-11 10:30:02] {3308} INFO - Estimated sufficient time budget=2711s. Estimated necessary time budget=3s.\n",
            "INFO:flaml.automl:Estimated sufficient time budget=2711s. Estimated necessary time budget=3s.\n",
            "[flaml.automl: 09-11 10:30:02] {3360} INFO -  at 0.4s,\testimator lgbm's best error=0.6431,\tbest estimator lgbm's best error=0.6431\n",
            "INFO:flaml.automl: at 0.4s,\testimator lgbm's best error=0.6431,\tbest estimator lgbm's best error=0.6431\n",
            "[flaml.automl: 09-11 10:30:02] {3174} INFO - iteration 1, current learner lgbm\n",
            "INFO:flaml.automl:iteration 1, current learner lgbm\n",
            "[flaml.automl: 09-11 10:30:03] {3360} INFO -  at 0.7s,\testimator lgbm's best error=0.6431,\tbest estimator lgbm's best error=0.6431\n",
            "INFO:flaml.automl: at 0.7s,\testimator lgbm's best error=0.6431,\tbest estimator lgbm's best error=0.6431\n",
            "[flaml.automl: 09-11 10:30:03] {3174} INFO - iteration 2, current learner lgbm\n",
            "INFO:flaml.automl:iteration 2, current learner lgbm\n",
            "[flaml.automl: 09-11 10:30:03] {3360} INFO -  at 0.9s,\testimator lgbm's best error=0.3494,\tbest estimator lgbm's best error=0.3494\n",
            "INFO:flaml.automl: at 0.9s,\testimator lgbm's best error=0.3494,\tbest estimator lgbm's best error=0.3494\n",
            "[flaml.automl: 09-11 10:30:03] {3174} INFO - iteration 3, current learner lgbm\n",
            "INFO:flaml.automl:iteration 3, current learner lgbm\n",
            "[flaml.automl: 09-11 10:30:03] {3360} INFO -  at 1.2s,\testimator lgbm's best error=0.0672,\tbest estimator lgbm's best error=0.0672\n",
            "INFO:flaml.automl: at 1.2s,\testimator lgbm's best error=0.0672,\tbest estimator lgbm's best error=0.0672\n",
            "[flaml.automl: 09-11 10:30:03] {3174} INFO - iteration 4, current learner lgbm\n",
            "INFO:flaml.automl:iteration 4, current learner lgbm\n",
            "[flaml.automl: 09-11 10:30:03] {3360} INFO -  at 1.5s,\testimator lgbm's best error=0.0672,\tbest estimator lgbm's best error=0.0672\n",
            "INFO:flaml.automl: at 1.5s,\testimator lgbm's best error=0.0672,\tbest estimator lgbm's best error=0.0672\n",
            "[flaml.automl: 09-11 10:30:03] {3174} INFO - iteration 5, current learner lgbm\n",
            "INFO:flaml.automl:iteration 5, current learner lgbm\n",
            "[flaml.automl: 09-11 10:30:04] {3360} INFO -  at 1.8s,\testimator lgbm's best error=0.0567,\tbest estimator lgbm's best error=0.0567\n",
            "INFO:flaml.automl: at 1.8s,\testimator lgbm's best error=0.0567,\tbest estimator lgbm's best error=0.0567\n",
            "[flaml.automl: 09-11 10:30:04] {3174} INFO - iteration 6, current learner lgbm\n",
            "INFO:flaml.automl:iteration 6, current learner lgbm\n",
            "[flaml.automl: 09-11 10:30:04] {3360} INFO -  at 2.1s,\testimator lgbm's best error=0.0567,\tbest estimator lgbm's best error=0.0567\n",
            "INFO:flaml.automl: at 2.1s,\testimator lgbm's best error=0.0567,\tbest estimator lgbm's best error=0.0567\n",
            "[flaml.automl: 09-11 10:30:04] {3174} INFO - iteration 7, current learner lgbm\n",
            "INFO:flaml.automl:iteration 7, current learner lgbm\n",
            "[flaml.automl: 09-11 10:30:06] {3360} INFO -  at 4.0s,\testimator lgbm's best error=0.0567,\tbest estimator lgbm's best error=0.0567\n",
            "INFO:flaml.automl: at 4.0s,\testimator lgbm's best error=0.0567,\tbest estimator lgbm's best error=0.0567\n",
            "[flaml.automl: 09-11 10:30:06] {3174} INFO - iteration 8, current learner lgbm\n",
            "INFO:flaml.automl:iteration 8, current learner lgbm\n",
            "[flaml.automl: 09-11 10:30:09] {3360} INFO -  at 7.6s,\testimator lgbm's best error=0.0269,\tbest estimator lgbm's best error=0.0269\n",
            "INFO:flaml.automl: at 7.6s,\testimator lgbm's best error=0.0269,\tbest estimator lgbm's best error=0.0269\n",
            "[flaml.automl: 09-11 10:30:09] {3174} INFO - iteration 9, current learner lgbm\n",
            "INFO:flaml.automl:iteration 9, current learner lgbm\n",
            "[flaml.automl: 09-11 10:30:11] {3360} INFO -  at 9.6s,\testimator lgbm's best error=0.0269,\tbest estimator lgbm's best error=0.0269\n",
            "INFO:flaml.automl: at 9.6s,\testimator lgbm's best error=0.0269,\tbest estimator lgbm's best error=0.0269\n",
            "[flaml.automl: 09-11 10:30:11] {3174} INFO - iteration 10, current learner lgbm\n",
            "INFO:flaml.automl:iteration 10, current learner lgbm\n",
            "[flaml.automl: 09-11 10:30:21] {3360} INFO -  at 18.6s,\testimator lgbm's best error=0.0073,\tbest estimator lgbm's best error=0.0073\n",
            "INFO:flaml.automl: at 18.6s,\testimator lgbm's best error=0.0073,\tbest estimator lgbm's best error=0.0073\n",
            "[flaml.automl: 09-11 10:30:21] {3174} INFO - iteration 11, current learner lgbm\n",
            "INFO:flaml.automl:iteration 11, current learner lgbm\n",
            "[flaml.automl: 09-11 10:30:23] {3360} INFO -  at 21.3s,\testimator lgbm's best error=0.0073,\tbest estimator lgbm's best error=0.0073\n",
            "INFO:flaml.automl: at 21.3s,\testimator lgbm's best error=0.0073,\tbest estimator lgbm's best error=0.0073\n",
            "[flaml.automl: 09-11 10:30:23] {3174} INFO - iteration 12, current learner lgbm\n",
            "INFO:flaml.automl:iteration 12, current learner lgbm\n",
            "[flaml.automl: 09-11 10:30:24] {3360} INFO -  at 22.0s,\testimator lgbm's best error=0.0073,\tbest estimator lgbm's best error=0.0073\n",
            "INFO:flaml.automl: at 22.0s,\testimator lgbm's best error=0.0073,\tbest estimator lgbm's best error=0.0073\n",
            "[flaml.automl: 09-11 10:30:24] {3174} INFO - iteration 13, current learner lgbm\n",
            "INFO:flaml.automl:iteration 13, current learner lgbm\n",
            "[flaml.automl: 09-11 10:30:25] {3360} INFO -  at 22.8s,\testimator lgbm's best error=0.0073,\tbest estimator lgbm's best error=0.0073\n",
            "INFO:flaml.automl: at 22.8s,\testimator lgbm's best error=0.0073,\tbest estimator lgbm's best error=0.0073\n",
            "[flaml.automl: 09-11 10:30:25] {3174} INFO - iteration 14, current learner lgbm\n",
            "INFO:flaml.automl:iteration 14, current learner lgbm\n",
            "[flaml.automl: 09-11 10:30:26] {3360} INFO -  at 23.9s,\testimator lgbm's best error=0.0073,\tbest estimator lgbm's best error=0.0073\n",
            "INFO:flaml.automl: at 23.9s,\testimator lgbm's best error=0.0073,\tbest estimator lgbm's best error=0.0073\n",
            "[flaml.automl: 09-11 10:30:26] {3174} INFO - iteration 15, current learner lgbm\n",
            "INFO:flaml.automl:iteration 15, current learner lgbm\n",
            "[flaml.automl: 09-11 10:30:27] {3360} INFO -  at 25.2s,\testimator lgbm's best error=0.0073,\tbest estimator lgbm's best error=0.0073\n",
            "INFO:flaml.automl: at 25.2s,\testimator lgbm's best error=0.0073,\tbest estimator lgbm's best error=0.0073\n",
            "[flaml.automl: 09-11 10:30:27] {3174} INFO - iteration 16, current learner lgbm\n",
            "INFO:flaml.automl:iteration 16, current learner lgbm\n",
            "[flaml.automl: 09-11 10:30:28] {3360} INFO -  at 25.9s,\testimator lgbm's best error=0.0073,\tbest estimator lgbm's best error=0.0073\n",
            "INFO:flaml.automl: at 25.9s,\testimator lgbm's best error=0.0073,\tbest estimator lgbm's best error=0.0073\n",
            "[flaml.automl: 09-11 10:30:28] {3174} INFO - iteration 17, current learner lgbm\n",
            "INFO:flaml.automl:iteration 17, current learner lgbm\n",
            "[flaml.automl: 09-11 10:30:30] {3360} INFO -  at 27.9s,\testimator lgbm's best error=0.0073,\tbest estimator lgbm's best error=0.0073\n",
            "INFO:flaml.automl: at 27.9s,\testimator lgbm's best error=0.0073,\tbest estimator lgbm's best error=0.0073\n",
            "[flaml.automl: 09-11 10:30:30] {3174} INFO - iteration 18, current learner lgbm\n",
            "INFO:flaml.automl:iteration 18, current learner lgbm\n",
            "[flaml.automl: 09-11 10:30:31] {3360} INFO -  at 28.6s,\testimator lgbm's best error=0.0073,\tbest estimator lgbm's best error=0.0073\n",
            "INFO:flaml.automl: at 28.6s,\testimator lgbm's best error=0.0073,\tbest estimator lgbm's best error=0.0073\n",
            "[flaml.automl: 09-11 10:30:31] {3174} INFO - iteration 19, current learner lgbm\n",
            "INFO:flaml.automl:iteration 19, current learner lgbm\n",
            "[flaml.automl: 09-11 10:30:31] {3360} INFO -  at 29.2s,\testimator lgbm's best error=0.0073,\tbest estimator lgbm's best error=0.0073\n",
            "INFO:flaml.automl: at 29.2s,\testimator lgbm's best error=0.0073,\tbest estimator lgbm's best error=0.0073\n",
            "[flaml.automl: 09-11 10:30:31] {3174} INFO - iteration 20, current learner lgbm\n",
            "INFO:flaml.automl:iteration 20, current learner lgbm\n",
            "[flaml.automl: 09-11 10:30:33] {3360} INFO -  at 30.9s,\testimator lgbm's best error=0.0073,\tbest estimator lgbm's best error=0.0073\n",
            "INFO:flaml.automl: at 30.9s,\testimator lgbm's best error=0.0073,\tbest estimator lgbm's best error=0.0073\n",
            "[flaml.automl: 09-11 10:30:33] {3174} INFO - iteration 21, current learner lgbm\n",
            "INFO:flaml.automl:iteration 21, current learner lgbm\n",
            "[flaml.automl: 09-11 10:30:34] {3360} INFO -  at 32.6s,\testimator lgbm's best error=0.0073,\tbest estimator lgbm's best error=0.0073\n",
            "INFO:flaml.automl: at 32.6s,\testimator lgbm's best error=0.0073,\tbest estimator lgbm's best error=0.0073\n",
            "[flaml.automl: 09-11 10:30:34] {3174} INFO - iteration 22, current learner lgbm\n",
            "INFO:flaml.automl:iteration 22, current learner lgbm\n",
            "[flaml.automl: 09-11 10:30:35] {3360} INFO -  at 33.3s,\testimator lgbm's best error=0.0073,\tbest estimator lgbm's best error=0.0073\n",
            "INFO:flaml.automl: at 33.3s,\testimator lgbm's best error=0.0073,\tbest estimator lgbm's best error=0.0073\n",
            "[flaml.automl: 09-11 10:30:35] {3174} INFO - iteration 23, current learner lgbm\n",
            "INFO:flaml.automl:iteration 23, current learner lgbm\n",
            "[flaml.automl: 09-11 10:30:36] {3360} INFO -  at 34.2s,\testimator lgbm's best error=0.0073,\tbest estimator lgbm's best error=0.0073\n",
            "INFO:flaml.automl: at 34.2s,\testimator lgbm's best error=0.0073,\tbest estimator lgbm's best error=0.0073\n",
            "[flaml.automl: 09-11 10:30:36] {3174} INFO - iteration 24, current learner lgbm\n",
            "INFO:flaml.automl:iteration 24, current learner lgbm\n",
            "[flaml.automl: 09-11 10:30:37] {3360} INFO -  at 35.1s,\testimator lgbm's best error=0.0073,\tbest estimator lgbm's best error=0.0073\n",
            "INFO:flaml.automl: at 35.1s,\testimator lgbm's best error=0.0073,\tbest estimator lgbm's best error=0.0073\n",
            "[flaml.automl: 09-11 10:30:37] {3174} INFO - iteration 25, current learner lgbm\n",
            "INFO:flaml.automl:iteration 25, current learner lgbm\n",
            "[flaml.automl: 09-11 10:30:39] {3360} INFO -  at 36.9s,\testimator lgbm's best error=0.0073,\tbest estimator lgbm's best error=0.0073\n",
            "INFO:flaml.automl: at 36.9s,\testimator lgbm's best error=0.0073,\tbest estimator lgbm's best error=0.0073\n",
            "[flaml.automl: 09-11 10:30:39] {3174} INFO - iteration 26, current learner lgbm\n",
            "INFO:flaml.automl:iteration 26, current learner lgbm\n",
            "[flaml.automl: 09-11 10:30:39] {3360} INFO -  at 37.6s,\testimator lgbm's best error=0.0073,\tbest estimator lgbm's best error=0.0073\n",
            "INFO:flaml.automl: at 37.6s,\testimator lgbm's best error=0.0073,\tbest estimator lgbm's best error=0.0073\n",
            "[flaml.automl: 09-11 10:30:39] {3174} INFO - iteration 27, current learner lgbm\n",
            "INFO:flaml.automl:iteration 27, current learner lgbm\n",
            "[flaml.automl: 09-11 10:30:41] {3360} INFO -  at 39.1s,\testimator lgbm's best error=0.0073,\tbest estimator lgbm's best error=0.0073\n",
            "INFO:flaml.automl: at 39.1s,\testimator lgbm's best error=0.0073,\tbest estimator lgbm's best error=0.0073\n",
            "[flaml.automl: 09-11 10:30:41] {3174} INFO - iteration 28, current learner lgbm\n",
            "INFO:flaml.automl:iteration 28, current learner lgbm\n",
            "[flaml.automl: 09-11 10:30:42] {3360} INFO -  at 39.8s,\testimator lgbm's best error=0.0073,\tbest estimator lgbm's best error=0.0073\n",
            "INFO:flaml.automl: at 39.8s,\testimator lgbm's best error=0.0073,\tbest estimator lgbm's best error=0.0073\n",
            "[flaml.automl: 09-11 10:30:42] {3174} INFO - iteration 29, current learner lgbm\n",
            "INFO:flaml.automl:iteration 29, current learner lgbm\n",
            "[flaml.automl: 09-11 10:30:42] {3360} INFO -  at 40.3s,\testimator lgbm's best error=0.0073,\tbest estimator lgbm's best error=0.0073\n",
            "INFO:flaml.automl: at 40.3s,\testimator lgbm's best error=0.0073,\tbest estimator lgbm's best error=0.0073\n",
            "[flaml.automl: 09-11 10:30:42] {3174} INFO - iteration 30, current learner lgbm\n",
            "INFO:flaml.automl:iteration 30, current learner lgbm\n",
            "[flaml.automl: 09-11 10:30:44] {3360} INFO -  at 42.3s,\testimator lgbm's best error=0.0073,\tbest estimator lgbm's best error=0.0073\n",
            "INFO:flaml.automl: at 42.3s,\testimator lgbm's best error=0.0073,\tbest estimator lgbm's best error=0.0073\n",
            "[flaml.automl: 09-11 10:30:44] {3174} INFO - iteration 31, current learner lgbm\n",
            "INFO:flaml.automl:iteration 31, current learner lgbm\n",
            "[flaml.automl: 09-11 10:30:45] {3360} INFO -  at 43.0s,\testimator lgbm's best error=0.0073,\tbest estimator lgbm's best error=0.0073\n",
            "INFO:flaml.automl: at 43.0s,\testimator lgbm's best error=0.0073,\tbest estimator lgbm's best error=0.0073\n",
            "[flaml.automl: 09-11 10:30:45] {3174} INFO - iteration 32, current learner lgbm\n",
            "INFO:flaml.automl:iteration 32, current learner lgbm\n",
            "[flaml.automl: 09-11 10:30:46] {3360} INFO -  at 44.4s,\testimator lgbm's best error=0.0069,\tbest estimator lgbm's best error=0.0069\n",
            "INFO:flaml.automl: at 44.4s,\testimator lgbm's best error=0.0069,\tbest estimator lgbm's best error=0.0069\n",
            "[flaml.automl: 09-11 10:30:46] {3174} INFO - iteration 33, current learner lgbm\n",
            "INFO:flaml.automl:iteration 33, current learner lgbm\n",
            "[flaml.automl: 09-11 10:30:48] {3360} INFO -  at 45.8s,\testimator lgbm's best error=0.0069,\tbest estimator lgbm's best error=0.0069\n",
            "INFO:flaml.automl: at 45.8s,\testimator lgbm's best error=0.0069,\tbest estimator lgbm's best error=0.0069\n",
            "[flaml.automl: 09-11 10:30:48] {3174} INFO - iteration 34, current learner lgbm\n",
            "INFO:flaml.automl:iteration 34, current learner lgbm\n",
            "[flaml.automl: 09-11 10:30:49] {3360} INFO -  at 47.3s,\testimator lgbm's best error=0.0069,\tbest estimator lgbm's best error=0.0069\n",
            "INFO:flaml.automl: at 47.3s,\testimator lgbm's best error=0.0069,\tbest estimator lgbm's best error=0.0069\n",
            "[flaml.automl: 09-11 10:30:49] {3174} INFO - iteration 35, current learner lgbm\n",
            "INFO:flaml.automl:iteration 35, current learner lgbm\n",
            "[flaml.automl: 09-11 10:30:53] {3360} INFO -  at 51.0s,\testimator lgbm's best error=0.0067,\tbest estimator lgbm's best error=0.0067\n",
            "INFO:flaml.automl: at 51.0s,\testimator lgbm's best error=0.0067,\tbest estimator lgbm's best error=0.0067\n",
            "[flaml.automl: 09-11 10:30:53] {3174} INFO - iteration 36, current learner lgbm\n",
            "INFO:flaml.automl:iteration 36, current learner lgbm\n",
            "[flaml.automl: 09-11 10:30:54] {3360} INFO -  at 52.4s,\testimator lgbm's best error=0.0067,\tbest estimator lgbm's best error=0.0067\n",
            "INFO:flaml.automl: at 52.4s,\testimator lgbm's best error=0.0067,\tbest estimator lgbm's best error=0.0067\n",
            "[flaml.automl: 09-11 10:30:54] {3174} INFO - iteration 37, current learner lgbm\n",
            "INFO:flaml.automl:iteration 37, current learner lgbm\n",
            "[flaml.automl: 09-11 10:31:02] {3360} INFO -  at 59.9s,\testimator lgbm's best error=0.0054,\tbest estimator lgbm's best error=0.0054\n",
            "INFO:flaml.automl: at 59.9s,\testimator lgbm's best error=0.0054,\tbest estimator lgbm's best error=0.0054\n",
            "[flaml.automl: 09-11 10:31:03] {3620} INFO - retrain lgbm for 0.7s\n",
            "INFO:flaml.automl:retrain lgbm for 0.7s\n",
            "[flaml.automl: 09-11 10:31:03] {3625} INFO - retrained model: LGBMRegressor(colsample_bytree=0.7178762702916114,\n",
            "              learning_rate=0.11290829723056903, max_bin=511,\n",
            "              min_child_samples=9, n_estimators=1209, num_leaves=8,\n",
            "              reg_alpha=0.0009765625, reg_lambda=0.06580720637877377,\n",
            "              verbose=-1)\n",
            "INFO:flaml.automl:retrained model: LGBMRegressor(colsample_bytree=0.7178762702916114,\n",
            "              learning_rate=0.11290829723056903, max_bin=511,\n",
            "              min_child_samples=9, n_estimators=1209, num_leaves=8,\n",
            "              reg_alpha=0.0009765625, reg_lambda=0.06580720637877377,\n",
            "              verbose=-1)\n",
            "[flaml.automl: 09-11 10:31:03] {2900} INFO - fit succeeded\n",
            "INFO:flaml.automl:fit succeeded\n",
            "[flaml.automl: 09-11 10:31:03] {2902} INFO - Time taken to find the best model: 59.91842246055603\n",
            "INFO:flaml.automl:Time taken to find the best model: 59.91842246055603\n",
            "[flaml.automl: 09-11 10:31:03] {2916} WARNING - Time taken to find the best model is 100% of the provided time budget and not all estimators' hyperparameter search converged. Consider increasing the time budget.\n",
            "WARNING:flaml.automl:Time taken to find the best model is 100% of the provided time budget and not all estimators' hyperparameter search converged. Consider increasing the time budget.\n"
          ]
        }
      ]
    },
    {
      "cell_type": "code",
      "source": [
        "print(1-automl_log.best_loss)"
      ],
      "metadata": {
        "id": "-JK9jpgdfk2x",
        "colab": {
          "base_uri": "https://localhost:8080/"
        },
        "outputId": "ecb4953e-3dc8-4c6c-eb47-cf0b7316fd31"
      },
      "execution_count": 59,
      "outputs": [
        {
          "output_type": "stream",
          "name": "stdout",
          "text": [
            "0.9945541279835975\n"
          ]
        }
      ]
    },
    {
      "cell_type": "code",
      "source": [
        "# Convert the prediction in original format\n",
        "test_pred_log = np.exp(automl_log.predict(X_test))-1"
      ],
      "metadata": {
        "id": "mbSxrZ8ffk6F",
        "colab": {
          "base_uri": "https://localhost:8080/"
        },
        "outputId": "d45e5ccc-9d89-4a05-eeda-8302414e64fd"
      },
      "execution_count": 60,
      "outputs": [
        {
          "output_type": "stream",
          "name": "stderr",
          "text": [
            "/usr/local/lib/python3.7/dist-packages/ipykernel_launcher.py:2: RuntimeWarning: overflow encountered in exp\n",
            "  \n"
          ]
        }
      ]
    },
    {
      "cell_type": "markdown",
      "source": [
        "Retreiving best configuration"
      ],
      "metadata": {
        "id": "OrG5qdqO3eWz"
      }
    },
    {
      "cell_type": "code",
      "source": [
        "print('Best hyperparmeter config:', automl_log.best_config)\n",
        "print('Best r2 on validation data: {0:.4g}'.format(1-automl_log.best_loss))\n",
        "print('Training duration of best run: {0:.4g} s'.format(automl_log.best_config_train_time))\n",
        "print(automl_log.model.estimator)"
      ],
      "metadata": {
        "id": "w1D1pyrtfk7-",
        "colab": {
          "base_uri": "https://localhost:8080/"
        },
        "outputId": "37a334e2-efb6-4be0-c5e7-6706634da9a5"
      },
      "execution_count": 61,
      "outputs": [
        {
          "output_type": "stream",
          "name": "stdout",
          "text": [
            "Best hyperparmeter config: {'n_estimators': 1209, 'num_leaves': 8, 'min_child_samples': 9, 'learning_rate': 0.11290829723056903, 'log_max_bin': 9, 'colsample_bytree': 0.7178762702916114, 'reg_alpha': 0.0009765625, 'reg_lambda': 0.06580720637877377}\n",
            "Best r2 on validation data: 0.9946\n",
            "Training duration of best run: 0.7113 s\n",
            "LGBMRegressor(colsample_bytree=0.7178762702916114,\n",
            "              learning_rate=0.11290829723056903, max_bin=511,\n",
            "              min_child_samples=9, n_estimators=1209, num_leaves=8,\n",
            "              reg_alpha=0.0009765625, reg_lambda=0.06580720637877377,\n",
            "              verbose=-1)\n"
          ]
        }
      ]
    },
    {
      "cell_type": "markdown",
      "source": [
        "Feature importance"
      ],
      "metadata": {
        "id": "4oIZjPVF30x9"
      }
    },
    {
      "cell_type": "code",
      "source": [
        "import matplotlib.pyplot as plt\n",
        "plt.barh(automl_log.feature_names_in_, automl_log.feature_importances_)"
      ],
      "metadata": {
        "id": "cXt-u_Jrfk9q",
        "colab": {
          "base_uri": "https://localhost:8080/",
          "height": 282
        },
        "outputId": "cfea7743-faa9-418a-c2b2-2cfc39f42ae2"
      },
      "execution_count": 62,
      "outputs": [
        {
          "output_type": "execute_result",
          "data": {
            "text/plain": [
              "<BarContainer object of 26 artists>"
            ]
          },
          "metadata": {},
          "execution_count": 62
        },
        {
          "output_type": "display_data",
          "data": {
            "text/plain": [
              "<Figure size 432x288 with 1 Axes>"
            ],
            "image/png": "[encoded data removed]"
          },
          "metadata": {
            "needs_background": "light"
          }
        }
      ]
    },
    {
      "cell_type": "markdown",
      "source": [
        "Predictions"
      ],
      "metadata": {
        "id": "yY60b_Es4E3C"
      }
    },
    {
      "cell_type": "code",
      "source": [
        "y_pred = automl_log.predict(X_test)\n",
        "print('Predicted labels', y_pred)"
      ],
      "metadata": {
        "id": "sTVNKe7gfk_m",
        "colab": {
          "base_uri": "https://localhost:8080/"
        },
        "outputId": "5b5e8d48-de65-4599-d0b4-32731fe8ea22"
      },
      "execution_count": 63,
      "outputs": [
        {
          "output_type": "stream",
          "name": "stdout",
          "text": [
            "Predicted labels [ 7303145.81250053  9125226.27994695 11633581.10050685 ...\n",
            " 13743755.3310813  12277118.99023428 20351050.85826937]\n"
          ]
        }
      ]
    },
    {
      "cell_type": "markdown",
      "source": [
        "Calculating different metrics"
      ],
      "metadata": {
        "id": "WQPQ7JzR4HDk"
      }
    },
    {
      "cell_type": "code",
      "source": [
        "from flaml.ml import sklearn_metric_loss_score\n",
        "print('r2', '=', 1 - sklearn_metric_loss_score('r2', y_pred, y_test))\n"
      ],
      "metadata": {
        "id": "_dcafevMflBE",
        "colab": {
          "base_uri": "https://localhost:8080/"
        },
        "outputId": "90e9f490-30a4-41ac-e262-5fd09005e2a1"
      },
      "execution_count": 64,
      "outputs": [
        {
          "output_type": "stream",
          "name": "stdout",
          "text": [
            "r2 = 0.9950636925378414\n"
          ]
        }
      ]
    }
  ]
}