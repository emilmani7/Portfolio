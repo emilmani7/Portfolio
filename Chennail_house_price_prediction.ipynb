{
  "nbformat": 4,
  "nbformat_minor": 0,
  "metadata": {
    "colab": {
      "name": "Chennail house price prediction.ipynb",
      "provenance": [],
      "collapsed_sections": []
    },
    "kernelspec": {
      "name": "python3",
      "display_name": "Python 3"
    },
    "language_info": {
      "name": "python"
    }
  },
  "cells": [
    {
      "cell_type": "code",
      "execution_count": 2,
      "metadata": {
        "id": "w0bIxiJiLLQb"
      },
      "outputs": [],
      "source": [
        "import pandas as pd\n",
        "import numpy as np\n",
        "import matplotlib.pyplot as plt\n",
        "import seaborn as sns\n"
      ]
    },
    {
      "cell_type": "code",
      "source": [
        "df = pd.read_csv('/content/train-chennai-sale (1).csv')"
      ],
      "metadata": {
        "id": "FJS79JUvfj5D"
      },
      "execution_count": 3,
      "outputs": []
    },
    {
      "cell_type": "code",
      "source": [
        "df.head()"
      ],
      "metadata": {
        "colab": {
          "base_uri": "https://localhost:8080/",
          "height": 386
        },
        "id": "2r_zNlBFfj8y",
        "outputId": "394b55a2-e6d0-4d5e-d144-7d6df38c2736"
      },
      "execution_count": 4,
      "outputs": [
        {
          "output_type": "execute_result",
          "data": {
            "text/plain": [
              "   PRT_ID        AREA  INT_SQFT   DATE_SALE  DIST_MAINROAD  N_BEDROOM  \\\n",
              "0  P03210  Karapakkam      1004  04-05-2011            131        1.0   \n",
              "1  P09411  Anna Nagar      1986  19-12-2006             26        2.0   \n",
              "2  P01812       Adyar       909  04-02-2012             70        1.0   \n",
              "3  P05346   Velachery      1855  13-03-2010             14        3.0   \n",
              "4  P06210  Karapakkam      1226  05-10-2009             84        1.0   \n",
              "\n",
              "   N_BATHROOM  N_ROOM SALE_COND PARK_FACIL  ... UTILITY_AVAIL  STREET MZZONE  \\\n",
              "0         1.0       3  AbNormal        Yes  ...        AllPub   Paved      A   \n",
              "1         1.0       5  AbNormal         No  ...        AllPub  Gravel     RH   \n",
              "2         1.0       3  AbNormal        Yes  ...           ELO  Gravel     RL   \n",
              "3         2.0       5    Family         No  ...       NoSewr    Paved      I   \n",
              "4         1.0       3  AbNormal        Yes  ...        AllPub  Gravel      C   \n",
              "\n",
              "  QS_ROOMS QS_BATHROOM  QS_BEDROOM  QS_OVERALL  REG_FEE  COMMIS  SALES_PRICE  \n",
              "0      4.0         3.9         4.9       4.330   380000  144400      7600000  \n",
              "1      4.9         4.2         2.5       3.765   760122  304049     21717770  \n",
              "2      4.1         3.8         2.2       3.090   421094   92114     13159200  \n",
              "3      4.7         3.9         3.6       4.010   356321   77042      9630290  \n",
              "4      3.0         2.5         4.1       3.290   237000   74063      7406250  \n",
              "\n",
              "[5 rows x 22 columns]"
            ],
            "text/html": [
              "\n",
              "  <div id=\"df-b673217b-6d18-4972-8ee2-9668df6f68f1\">\n",
              "    <div class=\"colab-df-container\">\n",
              "      <div>\n",
              "<style scoped>\n",
              "    .dataframe tbody tr th:only-of-type {\n",
              "        vertical-align: middle;\n",
              "    }\n",
              "\n",
              "    .dataframe tbody tr th {\n",
              "        vertical-align: top;\n",
              "    }\n",
              "\n",
              "    .dataframe thead th {\n",
              "        text-align: right;\n",
              "    }\n",
              "</style>\n",
              "<table border=\"1\" class=\"dataframe\">\n",
              "  <thead>\n",
              "    <tr style=\"text-align: right;\">\n",
              "      <th></th>\n",
              "      <th>PRT_ID</th>\n",
              "      <th>AREA</th>\n",
              "      <th>INT_SQFT</th>\n",
              "      <th>DATE_SALE</th>\n",
              "      <th>DIST_MAINROAD</th>\n",
              "      <th>N_BEDROOM</th>\n",
              "      <th>N_BATHROOM</th>\n",
              "      <th>N_ROOM</th>\n",
              "      <th>SALE_COND</th>\n",
              "      <th>PARK_FACIL</th>\n",
              "      <th>...</th>\n",
              "      <th>UTILITY_AVAIL</th>\n",
              "      <th>STREET</th>\n",
              "      <th>MZZONE</th>\n",
              "      <th>QS_ROOMS</th>\n",
              "      <th>QS_BATHROOM</th>\n",
              "      <th>QS_BEDROOM</th>\n",
              "      <th>QS_OVERALL</th>\n",
              "      <th>REG_FEE</th>\n",
              "      <th>COMMIS</th>\n",
              "      <th>SALES_PRICE</th>\n",
              "    </tr>\n",
              "  </thead>\n",
              "  <tbody>\n",
              "    <tr>\n",
              "      <th>0</th>\n",
              "      <td>P03210</td>\n",
              "      <td>Karapakkam</td>\n",
              "      <td>1004</td>\n",
              "      <td>04-05-2011</td>\n",
              "      <td>131</td>\n",
              "      <td>1.0</td>\n",
              "      <td>1.0</td>\n",
              "      <td>3</td>\n",
              "      <td>AbNormal</td>\n",
              "      <td>Yes</td>\n",
              "      <td>...</td>\n",
              "      <td>AllPub</td>\n",
              "      <td>Paved</td>\n",
              "      <td>A</td>\n",
              "      <td>4.0</td>\n",
              "      <td>3.9</td>\n",
              "      <td>4.9</td>\n",
              "      <td>4.330</td>\n",
              "      <td>380000</td>\n",
              "      <td>144400</td>\n",
              "      <td>7600000</td>\n",
              "    </tr>\n",
              "    <tr>\n",
              "      <th>1</th>\n",
              "      <td>P09411</td>\n",
              "      <td>Anna Nagar</td>\n",
              "      <td>1986</td>\n",
              "      <td>19-12-2006</td>\n",
              "      <td>26</td>\n",
              "      <td>2.0</td>\n",
              "      <td>1.0</td>\n",
              "      <td>5</td>\n",
              "      <td>AbNormal</td>\n",
              "      <td>No</td>\n",
              "      <td>...</td>\n",
              "      <td>AllPub</td>\n",
              "      <td>Gravel</td>\n",
              "      <td>RH</td>\n",
              "      <td>4.9</td>\n",
              "      <td>4.2</td>\n",
              "      <td>2.5</td>\n",
              "      <td>3.765</td>\n",
              "      <td>760122</td>\n",
              "      <td>304049</td>\n",
              "      <td>21717770</td>\n",
              "    </tr>\n",
              "    <tr>\n",
              "      <th>2</th>\n",
              "      <td>P01812</td>\n",
              "      <td>Adyar</td>\n",
              "      <td>909</td>\n",
              "      <td>04-02-2012</td>\n",
              "      <td>70</td>\n",
              "      <td>1.0</td>\n",
              "      <td>1.0</td>\n",
              "      <td>3</td>\n",
              "      <td>AbNormal</td>\n",
              "      <td>Yes</td>\n",
              "      <td>...</td>\n",
              "      <td>ELO</td>\n",
              "      <td>Gravel</td>\n",
              "      <td>RL</td>\n",
              "      <td>4.1</td>\n",
              "      <td>3.8</td>\n",
              "      <td>2.2</td>\n",
              "      <td>3.090</td>\n",
              "      <td>421094</td>\n",
              "      <td>92114</td>\n",
              "      <td>13159200</td>\n",
              "    </tr>\n",
              "    <tr>\n",
              "      <th>3</th>\n",
              "      <td>P05346</td>\n",
              "      <td>Velachery</td>\n",
              "      <td>1855</td>\n",
              "      <td>13-03-2010</td>\n",
              "      <td>14</td>\n",
              "      <td>3.0</td>\n",
              "      <td>2.0</td>\n",
              "      <td>5</td>\n",
              "      <td>Family</td>\n",
              "      <td>No</td>\n",
              "      <td>...</td>\n",
              "      <td>NoSewr</td>\n",
              "      <td>Paved</td>\n",
              "      <td>I</td>\n",
              "      <td>4.7</td>\n",
              "      <td>3.9</td>\n",
              "      <td>3.6</td>\n",
              "      <td>4.010</td>\n",
              "      <td>356321</td>\n",
              "      <td>77042</td>\n",
              "      <td>9630290</td>\n",
              "    </tr>\n",
              "    <tr>\n",
              "      <th>4</th>\n",
              "      <td>P06210</td>\n",
              "      <td>Karapakkam</td>\n",
              "      <td>1226</td>\n",
              "      <td>05-10-2009</td>\n",
              "      <td>84</td>\n",
              "      <td>1.0</td>\n",
              "      <td>1.0</td>\n",
              "      <td>3</td>\n",
              "      <td>AbNormal</td>\n",
              "      <td>Yes</td>\n",
              "      <td>...</td>\n",
              "      <td>AllPub</td>\n",
              "      <td>Gravel</td>\n",
              "      <td>C</td>\n",
              "      <td>3.0</td>\n",
              "      <td>2.5</td>\n",
              "      <td>4.1</td>\n",
              "      <td>3.290</td>\n",
              "      <td>237000</td>\n",
              "      <td>74063</td>\n",
              "      <td>7406250</td>\n",
              "    </tr>\n",
              "  </tbody>\n",
              "</table>\n",
              "<p>5 rows × 22 columns</p>\n",
              "</div>\n",
              "      <button class=\"colab-df-convert\" onclick=\"convertToInteractive('df-b673217b-6d18-4972-8ee2-9668df6f68f1')\"\n",
              "              title=\"Convert this dataframe to an interactive table.\"\n",
              "              style=\"display:none;\">\n",
              "        \n",
              "  <svg xmlns=\"http://www.w3.org/2000/svg\" height=\"24px\"viewBox=\"0 0 24 24\"\n",
              "       width=\"24px\">\n",
              "    <path d=\"M0 0h24v24H0V0z\" fill=\"none\"/>\n",
              "    <path d=\"M18.56 5.44l.94 2.06.94-2.06 2.06-.94-2.06-.94-.94-2.06-.94 2.06-2.06.94zm-11 1L8.5 8.5l.94-2.06 2.06-.94-2.06-.94L8.5 2.5l-.94 2.06-2.06.94zm10 10l.94 2.06.94-2.06 2.06-.94-2.06-.94-.94-2.06-.94 2.06-2.06.94z\"/><path d=\"M17.41 7.96l-1.37-1.37c-.4-.4-.92-.59-1.43-.59-.52 0-1.04.2-1.43.59L10.3 9.45l-7.72 7.72c-.78.78-.78 2.05 0 2.83L4 21.41c.39.39.9.59 1.41.59.51 0 1.02-.2 1.41-.59l7.78-7.78 2.81-2.81c.8-.78.8-2.07 0-2.86zM5.41 20L4 18.59l7.72-7.72 1.47 1.35L5.41 20z\"/>\n",
              "  </svg>\n",
              "      </button>\n",
              "      \n",
              "  <style>\n",
              "    .colab-df-container {\n",
              "      display:flex;\n",
              "      flex-wrap:wrap;\n",
              "      gap: 12px;\n",
              "    }\n",
              "\n",
              "    .colab-df-convert {\n",
              "      background-color: #E8F0FE;\n",
              "      border: none;\n",
              "      border-radius: 50%;\n",
              "      cursor: pointer;\n",
              "      display: none;\n",
              "      fill: #1967D2;\n",
              "      height: 32px;\n",
              "      padding: 0 0 0 0;\n",
              "      width: 32px;\n",
              "    }\n",
              "\n",
              "    .colab-df-convert:hover {\n",
              "      background-color: #E2EBFA;\n",
              "      box-shadow: 0px 1px 2px rgba(60, 64, 67, 0.3), 0px 1px 3px 1px rgba(60, 64, 67, 0.15);\n",
              "      fill: #174EA6;\n",
              "    }\n",
              "\n",
              "    [theme=dark] .colab-df-convert {\n",
              "      background-color: #3B4455;\n",
              "      fill: #D2E3FC;\n",
              "    }\n",
              "\n",
              "    [theme=dark] .colab-df-convert:hover {\n",
              "      background-color: #434B5C;\n",
              "      box-shadow: 0px 1px 3px 1px rgba(0, 0, 0, 0.15);\n",
              "      filter: drop-shadow(0px 1px 2px rgba(0, 0, 0, 0.3));\n",
              "      fill: #FFFFFF;\n",
              "    }\n",
              "  </style>\n",
              "\n",
              "      <script>\n",
              "        const buttonEl =\n",
              "          document.querySelector('#df-b673217b-6d18-4972-8ee2-9668df6f68f1 button.colab-df-convert');\n",
              "        buttonEl.style.display =\n",
              "          google.colab.kernel.accessAllowed ? 'block' : 'none';\n",
              "\n",
              "        async function convertToInteractive(key) {\n",
              "          const element = document.querySelector('#df-b673217b-6d18-4972-8ee2-9668df6f68f1');\n",
              "          const dataTable =\n",
              "            await google.colab.kernel.invokeFunction('convertToInteractive',\n",
              "                                                     [key], {});\n",
              "          if (!dataTable) return;\n",
              "\n",
              "          const docLinkHtml = 'Like what you see? Visit the ' +\n",
              "            '<a target=\"_blank\" href=https://colab.research.google.com/notebooks/data_table.ipynb>data table notebook</a>'\n",
              "            + ' to learn more about interactive tables.';\n",
              "          element.innerHTML = '';\n",
              "          dataTable['output_type'] = 'display_data';\n",
              "          await google.colab.output.renderOutput(dataTable, element);\n",
              "          const docLink = document.createElement('div');\n",
              "          docLink.innerHTML = docLinkHtml;\n",
              "          element.appendChild(docLink);\n",
              "        }\n",
              "      </script>\n",
              "    </div>\n",
              "  </div>\n",
              "  "
            ]
          },
          "metadata": {},
          "execution_count": 4
        }
      ]
    },
    {
      "cell_type": "markdown",
      "source": [
        "# Exploratory data analysis"
      ],
      "metadata": {
        "id": "T9rwnvWehFny"
      }
    },
    {
      "cell_type": "code",
      "source": [
        "df.info()"
      ],
      "metadata": {
        "colab": {
          "base_uri": "https://localhost:8080/"
        },
        "id": "oe0ieiyVfkAB",
        "outputId": "083a139d-7efb-47d2-b195-c703afd44e1f"
      },
      "execution_count": 18,
      "outputs": [
        {
          "output_type": "stream",
          "name": "stdout",
          "text": [
            "<class 'pandas.core.frame.DataFrame'>\n",
            "RangeIndex: 7109 entries, 0 to 7108\n",
            "Data columns (total 22 columns):\n",
            " #   Column         Non-Null Count  Dtype  \n",
            "---  ------         --------------  -----  \n",
            " 0   PRT_ID         7109 non-null   object \n",
            " 1   AREA           7109 non-null   object \n",
            " 2   INT_SQFT       7109 non-null   int64  \n",
            " 3   DATE_SALE      7109 non-null   object \n",
            " 4   DIST_MAINROAD  7109 non-null   int64  \n",
            " 5   N_BEDROOM      7108 non-null   float64\n",
            " 6   N_BATHROOM     7104 non-null   float64\n",
            " 7   N_ROOM         7109 non-null   int64  \n",
            " 8   SALE_COND      7109 non-null   object \n",
            " 9   PARK_FACIL     7109 non-null   object \n",
            " 10  DATE_BUILD     7109 non-null   object \n",
            " 11  BUILDTYPE      7109 non-null   object \n",
            " 12  UTILITY_AVAIL  7109 non-null   object \n",
            " 13  STREET         7109 non-null   object \n",
            " 14  MZZONE         7109 non-null   object \n",
            " 15  QS_ROOMS       7109 non-null   float64\n",
            " 16  QS_BATHROOM    7109 non-null   float64\n",
            " 17  QS_BEDROOM     7109 non-null   float64\n",
            " 18  QS_OVERALL     7109 non-null   float64\n",
            " 19  REG_FEE        7109 non-null   int64  \n",
            " 20  COMMIS         7109 non-null   int64  \n",
            " 21  SALES_PRICE    7109 non-null   int64  \n",
            "dtypes: float64(6), int64(6), object(10)\n",
            "memory usage: 1.2+ MB\n"
          ]
        }
      ]
    },
    {
      "cell_type": "code",
      "source": [
        "df.isnull().sum()"
      ],
      "metadata": {
        "colab": {
          "base_uri": "https://localhost:8080/"
        },
        "id": "XUa9Zx0HfkK6",
        "outputId": "27e9b6ff-5e55-4a73-ecb6-7446ae31e7d2"
      },
      "execution_count": 6,
      "outputs": [
        {
          "output_type": "execute_result",
          "data": {
            "text/plain": [
              "PRT_ID            0\n",
              "AREA              0\n",
              "INT_SQFT          0\n",
              "DATE_SALE         0\n",
              "DIST_MAINROAD     0\n",
              "N_BEDROOM         1\n",
              "N_BATHROOM        5\n",
              "N_ROOM            0\n",
              "SALE_COND         0\n",
              "PARK_FACIL        0\n",
              "DATE_BUILD        0\n",
              "BUILDTYPE         0\n",
              "UTILITY_AVAIL     0\n",
              "STREET            0\n",
              "MZZONE            0\n",
              "QS_ROOMS          0\n",
              "QS_BATHROOM       0\n",
              "QS_BEDROOM        0\n",
              "QS_OVERALL       48\n",
              "REG_FEE           0\n",
              "COMMIS            0\n",
              "SALES_PRICE       0\n",
              "dtype: int64"
            ]
          },
          "metadata": {},
          "execution_count": 6
        }
      ]
    },
    {
      "cell_type": "code",
      "source": [
        "ds = df"
      ],
      "metadata": {
        "id": "ni2d6fiCfkPj"
      },
      "execution_count": 7,
      "outputs": []
    },
    {
      "cell_type": "code",
      "source": [
        "ds.describe().T"
      ],
      "metadata": {
        "colab": {
          "base_uri": "https://localhost:8080/",
          "height": 425
        },
        "id": "qUUpjshcfkUJ",
        "outputId": "c32ab19b-854e-4ac0-a7b6-3296d997d900"
      },
      "execution_count": 15,
      "outputs": [
        {
          "output_type": "execute_result",
          "data": {
            "text/plain": [
              "                count          mean           std        min         25%  \\\n",
              "INT_SQFT       7103.0  1.382118e+03  4.574845e+02      500.0      993.00   \n",
              "DIST_MAINROAD  7103.0  9.957863e+01  5.739923e+01        0.0       50.00   \n",
              "N_BEDROOM      7103.0  1.637336e+00  8.030302e-01        1.0        1.00   \n",
              "N_BATHROOM     7103.0  1.213290e+00  4.096597e-01        1.0        1.00   \n",
              "N_ROOM         7103.0  3.688723e+00  1.019299e+00        2.0        3.00   \n",
              "QS_ROOMS       7103.0  3.517753e+00  8.919310e-01        2.0        2.70   \n",
              "QS_BATHROOM    7103.0  3.507377e+00  8.980417e-01        2.0        2.70   \n",
              "QS_BEDROOM     7103.0  3.485513e+00  8.870671e-01        2.0        2.70   \n",
              "QS_OVERALL     7103.0  3.503366e+00  5.255649e-01        2.0        3.13   \n",
              "REG_FEE        7103.0  3.769527e+05  1.430881e+05    71177.0   272469.00   \n",
              "COMMIS         7103.0  1.410554e+05  7.877588e+04     5055.0    84252.50   \n",
              "SALES_PRICE    7103.0  1.089477e+07  3.769549e+06  2156875.0  8270900.00   \n",
              "\n",
              "                      50%          75%          max  \n",
              "INT_SQFT           1373.0      1744.00      2500.00  \n",
              "DIST_MAINROAD        99.0       148.00       200.00  \n",
              "N_BEDROOM             1.0         2.00         4.00  \n",
              "N_BATHROOM            1.0         1.00         2.00  \n",
              "N_ROOM                4.0         4.00         6.00  \n",
              "QS_ROOMS              3.5         4.30         5.00  \n",
              "QS_BATHROOM           3.5         4.30         5.00  \n",
              "QS_BEDROOM            3.5         4.30         5.00  \n",
              "QS_OVERALL            3.5         3.88         4.97  \n",
              "REG_FEE          349509.0    451544.50    983922.00  \n",
              "COMMIS           127644.0    184534.00    495405.00  \n",
              "SALES_PRICE    10334640.0  12994215.00  23667340.00  "
            ],
            "text/html": [
              "\n",
              "  <div id=\"df-b9017de2-1716-4134-8549-0c15ca23317c\">\n",
              "    <div class=\"colab-df-container\">\n",
              "      <div>\n",
              "<style scoped>\n",
              "    .dataframe tbody tr th:only-of-type {\n",
              "        vertical-align: middle;\n",
              "    }\n",
              "\n",
              "    .dataframe tbody tr th {\n",
              "        vertical-align: top;\n",
              "    }\n",
              "\n",
              "    .dataframe thead th {\n",
              "        text-align: right;\n",
              "    }\n",
              "</style>\n",
              "<table border=\"1\" class=\"dataframe\">\n",
              "  <thead>\n",
              "    <tr style=\"text-align: right;\">\n",
              "      <th></th>\n",
              "      <th>count</th>\n",
              "      <th>mean</th>\n",
              "      <th>std</th>\n",
              "      <th>min</th>\n",
              "      <th>25%</th>\n",
              "      <th>50%</th>\n",
              "      <th>75%</th>\n",
              "      <th>max</th>\n",
              "    </tr>\n",
              "  </thead>\n",
              "  <tbody>\n",
              "    <tr>\n",
              "      <th>INT_SQFT</th>\n",
              "      <td>7103.0</td>\n",
              "      <td>1.382118e+03</td>\n",
              "      <td>4.574845e+02</td>\n",
              "      <td>500.0</td>\n",
              "      <td>993.00</td>\n",
              "      <td>1373.0</td>\n",
              "      <td>1744.00</td>\n",
              "      <td>2500.00</td>\n",
              "    </tr>\n",
              "    <tr>\n",
              "      <th>DIST_MAINROAD</th>\n",
              "      <td>7103.0</td>\n",
              "      <td>9.957863e+01</td>\n",
              "      <td>5.739923e+01</td>\n",
              "      <td>0.0</td>\n",
              "      <td>50.00</td>\n",
              "      <td>99.0</td>\n",
              "      <td>148.00</td>\n",
              "      <td>200.00</td>\n",
              "    </tr>\n",
              "    <tr>\n",
              "      <th>N_BEDROOM</th>\n",
              "      <td>7103.0</td>\n",
              "      <td>1.637336e+00</td>\n",
              "      <td>8.030302e-01</td>\n",
              "      <td>1.0</td>\n",
              "      <td>1.00</td>\n",
              "      <td>1.0</td>\n",
              "      <td>2.00</td>\n",
              "      <td>4.00</td>\n",
              "    </tr>\n",
              "    <tr>\n",
              "      <th>N_BATHROOM</th>\n",
              "      <td>7103.0</td>\n",
              "      <td>1.213290e+00</td>\n",
              "      <td>4.096597e-01</td>\n",
              "      <td>1.0</td>\n",
              "      <td>1.00</td>\n",
              "      <td>1.0</td>\n",
              "      <td>1.00</td>\n",
              "      <td>2.00</td>\n",
              "    </tr>\n",
              "    <tr>\n",
              "      <th>N_ROOM</th>\n",
              "      <td>7103.0</td>\n",
              "      <td>3.688723e+00</td>\n",
              "      <td>1.019299e+00</td>\n",
              "      <td>2.0</td>\n",
              "      <td>3.00</td>\n",
              "      <td>4.0</td>\n",
              "      <td>4.00</td>\n",
              "      <td>6.00</td>\n",
              "    </tr>\n",
              "    <tr>\n",
              "      <th>QS_ROOMS</th>\n",
              "      <td>7103.0</td>\n",
              "      <td>3.517753e+00</td>\n",
              "      <td>8.919310e-01</td>\n",
              "      <td>2.0</td>\n",
              "      <td>2.70</td>\n",
              "      <td>3.5</td>\n",
              "      <td>4.30</td>\n",
              "      <td>5.00</td>\n",
              "    </tr>\n",
              "    <tr>\n",
              "      <th>QS_BATHROOM</th>\n",
              "      <td>7103.0</td>\n",
              "      <td>3.507377e+00</td>\n",
              "      <td>8.980417e-01</td>\n",
              "      <td>2.0</td>\n",
              "      <td>2.70</td>\n",
              "      <td>3.5</td>\n",
              "      <td>4.30</td>\n",
              "      <td>5.00</td>\n",
              "    </tr>\n",
              "    <tr>\n",
              "      <th>QS_BEDROOM</th>\n",
              "      <td>7103.0</td>\n",
              "      <td>3.485513e+00</td>\n",
              "      <td>8.870671e-01</td>\n",
              "      <td>2.0</td>\n",
              "      <td>2.70</td>\n",
              "      <td>3.5</td>\n",
              "      <td>4.30</td>\n",
              "      <td>5.00</td>\n",
              "    </tr>\n",
              "    <tr>\n",
              "      <th>QS_OVERALL</th>\n",
              "      <td>7103.0</td>\n",
              "      <td>3.503366e+00</td>\n",
              "      <td>5.255649e-01</td>\n",
              "      <td>2.0</td>\n",
              "      <td>3.13</td>\n",
              "      <td>3.5</td>\n",
              "      <td>3.88</td>\n",
              "      <td>4.97</td>\n",
              "    </tr>\n",
              "    <tr>\n",
              "      <th>REG_FEE</th>\n",
              "      <td>7103.0</td>\n",
              "      <td>3.769527e+05</td>\n",
              "      <td>1.430881e+05</td>\n",
              "      <td>71177.0</td>\n",
              "      <td>272469.00</td>\n",
              "      <td>349509.0</td>\n",
              "      <td>451544.50</td>\n",
              "      <td>983922.00</td>\n",
              "    </tr>\n",
              "    <tr>\n",
              "      <th>COMMIS</th>\n",
              "      <td>7103.0</td>\n",
              "      <td>1.410554e+05</td>\n",
              "      <td>7.877588e+04</td>\n",
              "      <td>5055.0</td>\n",
              "      <td>84252.50</td>\n",
              "      <td>127644.0</td>\n",
              "      <td>184534.00</td>\n",
              "      <td>495405.00</td>\n",
              "    </tr>\n",
              "    <tr>\n",
              "      <th>SALES_PRICE</th>\n",
              "      <td>7103.0</td>\n",
              "      <td>1.089477e+07</td>\n",
              "      <td>3.769549e+06</td>\n",
              "      <td>2156875.0</td>\n",
              "      <td>8270900.00</td>\n",
              "      <td>10334640.0</td>\n",
              "      <td>12994215.00</td>\n",
              "      <td>23667340.00</td>\n",
              "    </tr>\n",
              "  </tbody>\n",
              "</table>\n",
              "</div>\n",
              "      <button class=\"colab-df-convert\" onclick=\"convertToInteractive('df-b9017de2-1716-4134-8549-0c15ca23317c')\"\n",
              "              title=\"Convert this dataframe to an interactive table.\"\n",
              "              style=\"display:none;\">\n",
              "        \n",
              "  <svg xmlns=\"http://www.w3.org/2000/svg\" height=\"24px\"viewBox=\"0 0 24 24\"\n",
              "       width=\"24px\">\n",
              "    <path d=\"M0 0h24v24H0V0z\" fill=\"none\"/>\n",
              "    <path d=\"M18.56 5.44l.94 2.06.94-2.06 2.06-.94-2.06-.94-.94-2.06-.94 2.06-2.06.94zm-11 1L8.5 8.5l.94-2.06 2.06-.94-2.06-.94L8.5 2.5l-.94 2.06-2.06.94zm10 10l.94 2.06.94-2.06 2.06-.94-2.06-.94-.94-2.06-.94 2.06-2.06.94z\"/><path d=\"M17.41 7.96l-1.37-1.37c-.4-.4-.92-.59-1.43-.59-.52 0-1.04.2-1.43.59L10.3 9.45l-7.72 7.72c-.78.78-.78 2.05 0 2.83L4 21.41c.39.39.9.59 1.41.59.51 0 1.02-.2 1.41-.59l7.78-7.78 2.81-2.81c.8-.78.8-2.07 0-2.86zM5.41 20L4 18.59l7.72-7.72 1.47 1.35L5.41 20z\"/>\n",
              "  </svg>\n",
              "      </button>\n",
              "      \n",
              "  <style>\n",
              "    .colab-df-container {\n",
              "      display:flex;\n",
              "      flex-wrap:wrap;\n",
              "      gap: 12px;\n",
              "    }\n",
              "\n",
              "    .colab-df-convert {\n",
              "      background-color: #E8F0FE;\n",
              "      border: none;\n",
              "      border-radius: 50%;\n",
              "      cursor: pointer;\n",
              "      display: none;\n",
              "      fill: #1967D2;\n",
              "      height: 32px;\n",
              "      padding: 0 0 0 0;\n",
              "      width: 32px;\n",
              "    }\n",
              "\n",
              "    .colab-df-convert:hover {\n",
              "      background-color: #E2EBFA;\n",
              "      box-shadow: 0px 1px 2px rgba(60, 64, 67, 0.3), 0px 1px 3px 1px rgba(60, 64, 67, 0.15);\n",
              "      fill: #174EA6;\n",
              "    }\n",
              "\n",
              "    [theme=dark] .colab-df-convert {\n",
              "      background-color: #3B4455;\n",
              "      fill: #D2E3FC;\n",
              "    }\n",
              "\n",
              "    [theme=dark] .colab-df-convert:hover {\n",
              "      background-color: #434B5C;\n",
              "      box-shadow: 0px 1px 3px 1px rgba(0, 0, 0, 0.15);\n",
              "      filter: drop-shadow(0px 1px 2px rgba(0, 0, 0, 0.3));\n",
              "      fill: #FFFFFF;\n",
              "    }\n",
              "  </style>\n",
              "\n",
              "      <script>\n",
              "        const buttonEl =\n",
              "          document.querySelector('#df-b9017de2-1716-4134-8549-0c15ca23317c button.colab-df-convert');\n",
              "        buttonEl.style.display =\n",
              "          google.colab.kernel.accessAllowed ? 'block' : 'none';\n",
              "\n",
              "        async function convertToInteractive(key) {\n",
              "          const element = document.querySelector('#df-b9017de2-1716-4134-8549-0c15ca23317c');\n",
              "          const dataTable =\n",
              "            await google.colab.kernel.invokeFunction('convertToInteractive',\n",
              "                                                     [key], {});\n",
              "          if (!dataTable) return;\n",
              "\n",
              "          const docLinkHtml = 'Like what you see? Visit the ' +\n",
              "            '<a target=\"_blank\" href=https://colab.research.google.com/notebooks/data_table.ipynb>data table notebook</a>'\n",
              "            + ' to learn more about interactive tables.';\n",
              "          element.innerHTML = '';\n",
              "          dataTable['output_type'] = 'display_data';\n",
              "          await google.colab.output.renderOutput(dataTable, element);\n",
              "          const docLink = document.createElement('div');\n",
              "          docLink.innerHTML = docLinkHtml;\n",
              "          element.appendChild(docLink);\n",
              "        }\n",
              "      </script>\n",
              "    </div>\n",
              "  </div>\n",
              "  "
            ]
          },
          "metadata": {},
          "execution_count": 15
        }
      ]
    },
    {
      "cell_type": "code",
      "source": [
        "ds.isna().sum()"
      ],
      "metadata": {
        "colab": {
          "base_uri": "https://localhost:8080/"
        },
        "id": "tNF6Y1xFfkWR",
        "outputId": "c101ab27-5fc6-4d86-de54-c22b9de78453"
      },
      "execution_count": 14,
      "outputs": [
        {
          "output_type": "execute_result",
          "data": {
            "text/plain": [
              "PRT_ID           0\n",
              "AREA             0\n",
              "INT_SQFT         0\n",
              "DATE_SALE        0\n",
              "DIST_MAINROAD    0\n",
              "N_BEDROOM        0\n",
              "N_BATHROOM       0\n",
              "N_ROOM           0\n",
              "SALE_COND        0\n",
              "PARK_FACIL       0\n",
              "DATE_BUILD       0\n",
              "BUILDTYPE        0\n",
              "UTILITY_AVAIL    0\n",
              "STREET           0\n",
              "MZZONE           0\n",
              "QS_ROOMS         0\n",
              "QS_BATHROOM      0\n",
              "QS_BEDROOM       0\n",
              "QS_OVERALL       0\n",
              "REG_FEE          0\n",
              "COMMIS           0\n",
              "SALES_PRICE      0\n",
              "dtype: int64"
            ]
          },
          "metadata": {},
          "execution_count": 14
        }
      ]
    },
    {
      "cell_type": "code",
      "source": [
        "median = ds['QS_OVERALL'].median()\n",
        "ds['QS_OVERALL'] = ds['QS_OVERALL'].fillna(median)\n"
      ],
      "metadata": {
        "id": "E4IKhsLlfkXp"
      },
      "execution_count": 11,
      "outputs": []
    },
    {
      "cell_type": "code",
      "source": [
        "ds = ds.dropna()\n",
        " \n",
        "# To reset the indices\n",
        "ds = ds.reset_index(drop = True)"
      ],
      "metadata": {
        "id": "AFSQyk1wfkgS"
      },
      "execution_count": 13,
      "outputs": []
    },
    {
      "cell_type": "code",
      "source": [
        "ds['DATE_SALE'] = pd.to_datetime(ds['DATE_SALE'], format = '%d-%m-%Y')"
      ],
      "metadata": {
        "id": "vNIiOYxUfkiI"
      },
      "execution_count": 17,
      "outputs": []
    },
    {
      "cell_type": "code",
      "source": [
        "ds.shape"
      ],
      "metadata": {
        "colab": {
          "base_uri": "https://localhost:8080/"
        },
        "id": "PLuwSFqMP_st",
        "outputId": "cfa6fc80-22b1-442b-e541-4dbf0bda63a0"
      },
      "execution_count": 22,
      "outputs": [
        {
          "output_type": "execute_result",
          "data": {
            "text/plain": [
              "(7103, 22)"
            ]
          },
          "metadata": {},
          "execution_count": 22
        }
      ]
    },
    {
      "cell_type": "code",
      "source": [
        "# Finding out the correlation between the features\n",
        "corr = ds.corr()\n",
        "corr.shape"
      ],
      "metadata": {
        "colab": {
          "base_uri": "https://localhost:8080/"
        },
        "id": "KQn3STZ6fkjx",
        "outputId": "9b90a47d-f352-4710-c955-42e1140e1c48"
      },
      "execution_count": 24,
      "outputs": [
        {
          "output_type": "execute_result",
          "data": {
            "text/plain": [
              "(12, 12)"
            ]
          },
          "metadata": {},
          "execution_count": 24
        }
      ]
    },
    {
      "cell_type": "markdown",
      "source": [
        "# Plotting the heatmap of correlation between features"
      ],
      "metadata": {
        "id": "oxgNsI2qRaGk"
      }
    },
    {
      "cell_type": "code",
      "source": [
        "## Plotting the heatmap of correlation between features\n",
        "plt.figure(figsize=(20,20))\n",
        "sns.heatmap(corr, cbar=True, square= True, fmt='.1f', annot=True, annot_kws={'size':15}, cmap='Greens')"
      ],
      "metadata": {
        "colab": {
          "base_uri": "https://localhost:8080/",
          "height": 1000
        },
        "id": "vsbpj361fknF",
        "outputId": "468de793-38c0-4ce3-810b-9f81ce9fff05"
      },
      "execution_count": 25,
      "outputs": [
        {
          "output_type": "execute_result",
          "data": {
            "text/plain": [
              "<matplotlib.axes._subplots.AxesSubplot at 0x7f28003e1b50>"
            ]
          },
          "metadata": {},
          "execution_count": 25
        },
        {
          "output_type": "display_data",
          "data": {
            "text/plain": [
              "<Figure size 1440x1440 with 2 Axes>"
            ],
            "image/png": "[encoded data removed]"
          },
          "metadata": {
            "needs_background": "light"
          }
        }
      ]
    },
    {
      "cell_type": "code",
      "source": [
        "# View Distribution of column data\n",
        "for col in list(train.columns):\n",
        "    print(train[col].value_counts())"
      ],
      "metadata": {
        "id": "5Cf7ONkkfkpD"
      },
      "execution_count": null,
      "outputs": []
    },
    {
      "cell_type": "code",
      "source": [
        "ds.SALES_PRICE.plot.density(color='blue')"
      ],
      "metadata": {
        "colab": {
          "base_uri": "https://localhost:8080/",
          "height": 307
        },
        "id": "U52DtzK6fkq6",
        "outputId": "ed936506-c86c-41e0-9961-b43fbeec052a"
      },
      "execution_count": 27,
      "outputs": [
        {
          "output_type": "execute_result",
          "data": {
            "text/plain": [
              "<matplotlib.axes._subplots.AxesSubplot at 0x7f27fee7f350>"
            ]
          },
          "metadata": {},
          "execution_count": 27
        },
        {
          "output_type": "display_data",
          "data": {
            "text/plain": [
              "<Figure size 432x288 with 1 Axes>"
            ],
            "image/png": "[encoded data removed]"
          },
          "metadata": {
            "needs_background": "light"
          }
        }
      ]
    },
    {
      "cell_type": "code",
      "source": [
        "# Spliting target variable and independent variables\n",
        "X = ds.drop(['SALES_PRICE'], axis = 1)\n",
        "y = ds['SALES_PRICE']"
      ],
      "metadata": {
        "id": "kHVhTdMyfkuB"
      },
      "execution_count": 28,
      "outputs": []
    },
    {
      "cell_type": "code",
      "source": [
        "# Splitting to training and testing data\n",
        "\n",
        "from sklearn.model_selection import train_test_split\n",
        "X_train, X_test, y_train, y_test = train_test_split(X,y, test_size = 0.3, random_state = 4)"
      ],
      "metadata": {
        "id": "sVjRHadefkxb"
      },
      "execution_count": 29,
      "outputs": []
    },
    {
      "cell_type": "code",
      "source": [
        "!pip install flaml"
      ],
      "metadata": {
        "colab": {
          "base_uri": "https://localhost:8080/"
        },
        "id": "SoYXs73dYM_4",
        "outputId": "339ab480-7373-4bcb-d516-2bc6c19a8ba8"
      },
      "execution_count": 31,
      "outputs": [
        {
          "output_type": "stream",
          "name": "stdout",
          "text": [
            "Looking in indexes: https://pypi.org/simple, https://us-python.pkg.dev/colab-wheels/public/simple/\n",
            "Collecting flaml\n",
            "  Downloading FLAML-1.0.11-py3-none-any.whl (205 kB)\n",
            "\u001b[K     |████████████████████████████████| 205 kB 4.7 MB/s \n",
            "\u001b[?25hRequirement already satisfied: xgboost>=0.90 in /usr/local/lib/python3.7/dist-packages (from flaml) (0.90)\n",
            "Collecting lightgbm>=2.3.1\n",
            "  Downloading lightgbm-3.3.2-py3-none-manylinux1_x86_64.whl (2.0 MB)\n",
            "\u001b[K     |████████████████████████████████| 2.0 MB 55.5 MB/s \n",
            "\u001b[?25hRequirement already satisfied: pandas>=1.1.4 in /usr/local/lib/python3.7/dist-packages (from flaml) (1.3.5)\n",
            "Requirement already satisfied: scipy>=1.4.1 in /usr/local/lib/python3.7/dist-packages (from flaml) (1.7.3)\n",
            "Requirement already satisfied: scikit-learn>=0.24 in /usr/local/lib/python3.7/dist-packages (from flaml) (1.0.2)\n",
            "Requirement already satisfied: NumPy>=1.17.0rc1 in /usr/local/lib/python3.7/dist-packages (from flaml) (1.21.6)\n",
            "Requirement already satisfied: wheel in /usr/local/lib/python3.7/dist-packages (from lightgbm>=2.3.1->flaml) (0.37.1)\n",
            "Requirement already satisfied: python-dateutil>=2.7.3 in /usr/local/lib/python3.7/dist-packages (from pandas>=1.1.4->flaml) (2.8.2)\n",
            "Requirement already satisfied: pytz>=2017.3 in /usr/local/lib/python3.7/dist-packages (from pandas>=1.1.4->flaml) (2022.2.1)\n",
            "Requirement already satisfied: six>=1.5 in /usr/local/lib/python3.7/dist-packages (from python-dateutil>=2.7.3->pandas>=1.1.4->flaml) (1.15.0)\n",
            "Requirement already satisfied: joblib>=0.11 in /usr/local/lib/python3.7/dist-packages (from scikit-learn>=0.24->flaml) (1.1.0)\n",
            "Requirement already satisfied: threadpoolctl>=2.0.0 in /usr/local/lib/python3.7/dist-packages (from scikit-learn>=0.24->flaml) (3.1.0)\n",
            "Installing collected packages: lightgbm, flaml\n",
            "  Attempting uninstall: lightgbm\n",
            "    Found existing installation: lightgbm 2.2.3\n",
            "    Uninstalling lightgbm-2.2.3:\n",
            "      Successfully uninstalled lightgbm-2.2.3\n",
            "Successfully installed flaml-1.0.11 lightgbm-3.3.2\n"
          ]
        }
      ]
    },
    {
      "cell_type": "code",
      "source": [
        "\n",
        "from flaml import AutoML\n",
        "automl_log = AutoML() "
      ],
      "metadata": {
        "id": "6GZlOpirfkzE"
      },
      "execution_count": 32,
      "outputs": []
    },
    {
      "cell_type": "code",
      "source": [
        "automl_log.fit(X_train, y_train, task=\"regression\",metric='r2',time_budget=60,estimator_list = ['lgbm'],\n",
        "          n_splits=10)"
      ],
      "metadata": {
        "colab": {
          "base_uri": "https://localhost:8080/"
        },
        "id": "x0zNWG4Xfk0y",
        "outputId": "d259c22a-9ba7-48d4-fb78-0d99db1ff940"
      },
      "execution_count": 39,
      "outputs": [
        {
          "output_type": "stream",
          "name": "stderr",
          "text": [
            "[flaml.automl: 08-30 13:03:15] {2565} INFO - task = regression\n",
            "INFO:flaml.automl:task = regression\n",
            "[flaml.automl: 08-30 13:03:15] {2567} INFO - Data split method: uniform\n",
            "INFO:flaml.automl:Data split method: uniform\n",
            "[flaml.automl: 08-30 13:03:15] {2570} INFO - Evaluation method: cv\n",
            "INFO:flaml.automl:Evaluation method: cv\n",
            "[flaml.automl: 08-30 13:03:15] {2689} INFO - Minimizing error metric: 1-r2\n",
            "INFO:flaml.automl:Minimizing error metric: 1-r2\n",
            "[flaml.automl: 08-30 13:03:15] {2831} INFO - List of ML learners in AutoML Run: ['lgbm']\n",
            "INFO:flaml.automl:List of ML learners in AutoML Run: ['lgbm']\n",
            "[flaml.automl: 08-30 13:03:15] {3133} INFO - iteration 0, current learner lgbm\n",
            "INFO:flaml.automl:iteration 0, current learner lgbm\n",
            "[flaml.automl: 08-30 13:03:16] {3267} INFO - Estimated sufficient time budget=17041s. Estimated necessary time budget=17s.\n",
            "INFO:flaml.automl:Estimated sufficient time budget=17041s. Estimated necessary time budget=17s.\n",
            "[flaml.automl: 08-30 13:03:16] {3319} INFO -  at 2.1s,\testimator lgbm's best error=0.5919,\tbest estimator lgbm's best error=0.5919\n",
            "INFO:flaml.automl: at 2.1s,\testimator lgbm's best error=0.5919,\tbest estimator lgbm's best error=0.5919\n",
            "[flaml.automl: 08-30 13:03:16] {3133} INFO - iteration 1, current learner lgbm\n",
            "INFO:flaml.automl:iteration 1, current learner lgbm\n",
            "[flaml.automl: 08-30 13:03:17] {3319} INFO -  at 2.7s,\testimator lgbm's best error=0.5919,\tbest estimator lgbm's best error=0.5919\n",
            "INFO:flaml.automl: at 2.7s,\testimator lgbm's best error=0.5919,\tbest estimator lgbm's best error=0.5919\n",
            "[flaml.automl: 08-30 13:03:17] {3133} INFO - iteration 2, current learner lgbm\n",
            "INFO:flaml.automl:iteration 2, current learner lgbm\n",
            "[flaml.automl: 08-30 13:03:17] {3319} INFO -  at 3.2s,\testimator lgbm's best error=0.2785,\tbest estimator lgbm's best error=0.2785\n",
            "INFO:flaml.automl: at 3.2s,\testimator lgbm's best error=0.2785,\tbest estimator lgbm's best error=0.2785\n",
            "[flaml.automl: 08-30 13:03:17] {3133} INFO - iteration 3, current learner lgbm\n",
            "INFO:flaml.automl:iteration 3, current learner lgbm\n",
            "[flaml.automl: 08-30 13:03:18] {3319} INFO -  at 3.9s,\testimator lgbm's best error=0.0693,\tbest estimator lgbm's best error=0.0693\n",
            "INFO:flaml.automl: at 3.9s,\testimator lgbm's best error=0.0693,\tbest estimator lgbm's best error=0.0693\n",
            "[flaml.automl: 08-30 13:03:18] {3133} INFO - iteration 4, current learner lgbm\n",
            "INFO:flaml.automl:iteration 4, current learner lgbm\n",
            "[flaml.automl: 08-30 13:03:19] {3319} INFO -  at 4.4s,\testimator lgbm's best error=0.0693,\tbest estimator lgbm's best error=0.0693\n",
            "INFO:flaml.automl: at 4.4s,\testimator lgbm's best error=0.0693,\tbest estimator lgbm's best error=0.0693\n",
            "[flaml.automl: 08-30 13:03:19] {3133} INFO - iteration 5, current learner lgbm\n",
            "INFO:flaml.automl:iteration 5, current learner lgbm\n",
            "[flaml.automl: 08-30 13:03:19] {3319} INFO -  at 5.0s,\testimator lgbm's best error=0.0589,\tbest estimator lgbm's best error=0.0589\n",
            "INFO:flaml.automl: at 5.0s,\testimator lgbm's best error=0.0589,\tbest estimator lgbm's best error=0.0589\n",
            "[flaml.automl: 08-30 13:03:19] {3133} INFO - iteration 6, current learner lgbm\n",
            "INFO:flaml.automl:iteration 6, current learner lgbm\n",
            "[flaml.automl: 08-30 13:03:20] {3319} INFO -  at 5.6s,\testimator lgbm's best error=0.0589,\tbest estimator lgbm's best error=0.0589\n",
            "INFO:flaml.automl: at 5.6s,\testimator lgbm's best error=0.0589,\tbest estimator lgbm's best error=0.0589\n",
            "[flaml.automl: 08-30 13:03:20] {3133} INFO - iteration 7, current learner lgbm\n",
            "INFO:flaml.automl:iteration 7, current learner lgbm\n",
            "[flaml.automl: 08-30 13:03:20] {3319} INFO -  at 6.2s,\testimator lgbm's best error=0.0589,\tbest estimator lgbm's best error=0.0589\n",
            "INFO:flaml.automl: at 6.2s,\testimator lgbm's best error=0.0589,\tbest estimator lgbm's best error=0.0589\n",
            "[flaml.automl: 08-30 13:03:20] {3133} INFO - iteration 8, current learner lgbm\n",
            "INFO:flaml.automl:iteration 8, current learner lgbm\n",
            "[flaml.automl: 08-30 13:03:21] {3319} INFO -  at 7.0s,\testimator lgbm's best error=0.0325,\tbest estimator lgbm's best error=0.0325\n",
            "INFO:flaml.automl: at 7.0s,\testimator lgbm's best error=0.0325,\tbest estimator lgbm's best error=0.0325\n",
            "[flaml.automl: 08-30 13:03:21] {3133} INFO - iteration 9, current learner lgbm\n",
            "INFO:flaml.automl:iteration 9, current learner lgbm\n",
            "[flaml.automl: 08-30 13:03:22] {3319} INFO -  at 7.6s,\testimator lgbm's best error=0.0325,\tbest estimator lgbm's best error=0.0325\n",
            "INFO:flaml.automl: at 7.6s,\testimator lgbm's best error=0.0325,\tbest estimator lgbm's best error=0.0325\n",
            "[flaml.automl: 08-30 13:03:22] {3133} INFO - iteration 10, current learner lgbm\n",
            "INFO:flaml.automl:iteration 10, current learner lgbm\n",
            "[flaml.automl: 08-30 13:03:25] {3319} INFO -  at 10.7s,\testimator lgbm's best error=0.0161,\tbest estimator lgbm's best error=0.0161\n",
            "INFO:flaml.automl: at 10.7s,\testimator lgbm's best error=0.0161,\tbest estimator lgbm's best error=0.0161\n",
            "[flaml.automl: 08-30 13:03:25] {3133} INFO - iteration 11, current learner lgbm\n",
            "INFO:flaml.automl:iteration 11, current learner lgbm\n",
            "[flaml.automl: 08-30 13:03:27] {3319} INFO -  at 12.8s,\testimator lgbm's best error=0.0161,\tbest estimator lgbm's best error=0.0161\n",
            "INFO:flaml.automl: at 12.8s,\testimator lgbm's best error=0.0161,\tbest estimator lgbm's best error=0.0161\n",
            "[flaml.automl: 08-30 13:03:27] {3133} INFO - iteration 12, current learner lgbm\n",
            "INFO:flaml.automl:iteration 12, current learner lgbm\n",
            "[flaml.automl: 08-30 13:03:28] {3319} INFO -  at 14.1s,\testimator lgbm's best error=0.0161,\tbest estimator lgbm's best error=0.0161\n",
            "INFO:flaml.automl: at 14.1s,\testimator lgbm's best error=0.0161,\tbest estimator lgbm's best error=0.0161\n",
            "[flaml.automl: 08-30 13:03:28] {3133} INFO - iteration 13, current learner lgbm\n",
            "INFO:flaml.automl:iteration 13, current learner lgbm\n",
            "[flaml.automl: 08-30 13:03:30] {3319} INFO -  at 15.5s,\testimator lgbm's best error=0.0130,\tbest estimator lgbm's best error=0.0130\n",
            "INFO:flaml.automl: at 15.5s,\testimator lgbm's best error=0.0130,\tbest estimator lgbm's best error=0.0130\n",
            "[flaml.automl: 08-30 13:03:30] {3133} INFO - iteration 14, current learner lgbm\n",
            "INFO:flaml.automl:iteration 14, current learner lgbm\n",
            "[flaml.automl: 08-30 13:03:31] {3319} INFO -  at 17.0s,\testimator lgbm's best error=0.0130,\tbest estimator lgbm's best error=0.0130\n",
            "INFO:flaml.automl: at 17.0s,\testimator lgbm's best error=0.0130,\tbest estimator lgbm's best error=0.0130\n",
            "[flaml.automl: 08-30 13:03:31] {3133} INFO - iteration 15, current learner lgbm\n",
            "INFO:flaml.automl:iteration 15, current learner lgbm\n",
            "[flaml.automl: 08-30 13:03:34] {3319} INFO -  at 19.4s,\testimator lgbm's best error=0.0130,\tbest estimator lgbm's best error=0.0130\n",
            "INFO:flaml.automl: at 19.4s,\testimator lgbm's best error=0.0130,\tbest estimator lgbm's best error=0.0130\n",
            "[flaml.automl: 08-30 13:03:34] {3133} INFO - iteration 16, current learner lgbm\n",
            "INFO:flaml.automl:iteration 16, current learner lgbm\n",
            "[flaml.automl: 08-30 13:03:35] {3319} INFO -  at 20.8s,\testimator lgbm's best error=0.0130,\tbest estimator lgbm's best error=0.0130\n",
            "INFO:flaml.automl: at 20.8s,\testimator lgbm's best error=0.0130,\tbest estimator lgbm's best error=0.0130\n",
            "[flaml.automl: 08-30 13:03:35] {3133} INFO - iteration 17, current learner lgbm\n",
            "INFO:flaml.automl:iteration 17, current learner lgbm\n",
            "[flaml.automl: 08-30 13:03:37] {3319} INFO -  at 22.9s,\testimator lgbm's best error=0.0127,\tbest estimator lgbm's best error=0.0127\n",
            "INFO:flaml.automl: at 22.9s,\testimator lgbm's best error=0.0127,\tbest estimator lgbm's best error=0.0127\n",
            "[flaml.automl: 08-30 13:03:37] {3133} INFO - iteration 18, current learner lgbm\n",
            "INFO:flaml.automl:iteration 18, current learner lgbm\n",
            "[flaml.automl: 08-30 13:03:38] {3319} INFO -  at 24.3s,\testimator lgbm's best error=0.0127,\tbest estimator lgbm's best error=0.0127\n",
            "INFO:flaml.automl: at 24.3s,\testimator lgbm's best error=0.0127,\tbest estimator lgbm's best error=0.0127\n",
            "[flaml.automl: 08-30 13:03:38] {3133} INFO - iteration 19, current learner lgbm\n",
            "INFO:flaml.automl:iteration 19, current learner lgbm\n",
            "[flaml.automl: 08-30 13:03:40] {3319} INFO -  at 25.3s,\testimator lgbm's best error=0.0127,\tbest estimator lgbm's best error=0.0127\n",
            "INFO:flaml.automl: at 25.3s,\testimator lgbm's best error=0.0127,\tbest estimator lgbm's best error=0.0127\n",
            "[flaml.automl: 08-30 13:03:40] {3133} INFO - iteration 20, current learner lgbm\n",
            "INFO:flaml.automl:iteration 20, current learner lgbm\n",
            "[flaml.automl: 08-30 13:03:43] {3319} INFO -  at 29.0s,\testimator lgbm's best error=0.0127,\tbest estimator lgbm's best error=0.0127\n",
            "INFO:flaml.automl: at 29.0s,\testimator lgbm's best error=0.0127,\tbest estimator lgbm's best error=0.0127\n",
            "[flaml.automl: 08-30 13:03:43] {3133} INFO - iteration 21, current learner lgbm\n",
            "INFO:flaml.automl:iteration 21, current learner lgbm\n",
            "[flaml.automl: 08-30 13:03:46] {3319} INFO -  at 31.3s,\testimator lgbm's best error=0.0096,\tbest estimator lgbm's best error=0.0096\n",
            "INFO:flaml.automl: at 31.3s,\testimator lgbm's best error=0.0096,\tbest estimator lgbm's best error=0.0096\n",
            "[flaml.automl: 08-30 13:03:46] {3133} INFO - iteration 22, current learner lgbm\n",
            "INFO:flaml.automl:iteration 22, current learner lgbm\n",
            "[flaml.automl: 08-30 13:03:47] {3319} INFO -  at 33.2s,\testimator lgbm's best error=0.0096,\tbest estimator lgbm's best error=0.0096\n",
            "INFO:flaml.automl: at 33.2s,\testimator lgbm's best error=0.0096,\tbest estimator lgbm's best error=0.0096\n",
            "[flaml.automl: 08-30 13:03:47] {3133} INFO - iteration 23, current learner lgbm\n",
            "INFO:flaml.automl:iteration 23, current learner lgbm\n",
            "[flaml.automl: 08-30 13:03:50] {3319} INFO -  at 35.5s,\testimator lgbm's best error=0.0096,\tbest estimator lgbm's best error=0.0096\n",
            "INFO:flaml.automl: at 35.5s,\testimator lgbm's best error=0.0096,\tbest estimator lgbm's best error=0.0096\n",
            "[flaml.automl: 08-30 13:03:50] {3133} INFO - iteration 24, current learner lgbm\n",
            "INFO:flaml.automl:iteration 24, current learner lgbm\n",
            "[flaml.automl: 08-30 13:03:52] {3319} INFO -  at 37.9s,\testimator lgbm's best error=0.0096,\tbest estimator lgbm's best error=0.0096\n",
            "INFO:flaml.automl: at 37.9s,\testimator lgbm's best error=0.0096,\tbest estimator lgbm's best error=0.0096\n",
            "[flaml.automl: 08-30 13:03:52] {3133} INFO - iteration 25, current learner lgbm\n",
            "INFO:flaml.automl:iteration 25, current learner lgbm\n",
            "[flaml.automl: 08-30 13:03:56] {3319} INFO -  at 42.0s,\testimator lgbm's best error=0.0096,\tbest estimator lgbm's best error=0.0096\n",
            "INFO:flaml.automl: at 42.0s,\testimator lgbm's best error=0.0096,\tbest estimator lgbm's best error=0.0096\n",
            "[flaml.automl: 08-30 13:03:56] {3133} INFO - iteration 26, current learner lgbm\n",
            "INFO:flaml.automl:iteration 26, current learner lgbm\n",
            "[flaml.automl: 08-30 13:03:58] {3319} INFO -  at 44.1s,\testimator lgbm's best error=0.0077,\tbest estimator lgbm's best error=0.0077\n",
            "INFO:flaml.automl: at 44.1s,\testimator lgbm's best error=0.0077,\tbest estimator lgbm's best error=0.0077\n",
            "[flaml.automl: 08-30 13:03:58] {3133} INFO - iteration 27, current learner lgbm\n",
            "INFO:flaml.automl:iteration 27, current learner lgbm\n",
            "[flaml.automl: 08-30 13:04:02] {3319} INFO -  at 47.6s,\testimator lgbm's best error=0.0077,\tbest estimator lgbm's best error=0.0077\n",
            "INFO:flaml.automl: at 47.6s,\testimator lgbm's best error=0.0077,\tbest estimator lgbm's best error=0.0077\n",
            "[flaml.automl: 08-30 13:04:02] {3133} INFO - iteration 28, current learner lgbm\n",
            "INFO:flaml.automl:iteration 28, current learner lgbm\n",
            "[flaml.automl: 08-30 13:04:03] {3319} INFO -  at 49.2s,\testimator lgbm's best error=0.0077,\tbest estimator lgbm's best error=0.0077\n",
            "INFO:flaml.automl: at 49.2s,\testimator lgbm's best error=0.0077,\tbest estimator lgbm's best error=0.0077\n",
            "[flaml.automl: 08-30 13:04:03] {3133} INFO - iteration 29, current learner lgbm\n",
            "INFO:flaml.automl:iteration 29, current learner lgbm\n",
            "[flaml.automl: 08-30 13:04:05] {3319} INFO -  at 50.7s,\testimator lgbm's best error=0.0077,\tbest estimator lgbm's best error=0.0077\n",
            "INFO:flaml.automl: at 50.7s,\testimator lgbm's best error=0.0077,\tbest estimator lgbm's best error=0.0077\n",
            "[flaml.automl: 08-30 13:04:05] {3133} INFO - iteration 30, current learner lgbm\n",
            "INFO:flaml.automl:iteration 30, current learner lgbm\n",
            "[flaml.automl: 08-30 13:04:10] {3319} INFO -  at 56.0s,\testimator lgbm's best error=0.0077,\tbest estimator lgbm's best error=0.0077\n",
            "INFO:flaml.automl: at 56.0s,\testimator lgbm's best error=0.0077,\tbest estimator lgbm's best error=0.0077\n",
            "[flaml.automl: 08-30 13:04:10] {3133} INFO - iteration 31, current learner lgbm\n",
            "INFO:flaml.automl:iteration 31, current learner lgbm\n",
            "[flaml.automl: 08-30 13:04:12] {3319} INFO -  at 57.5s,\testimator lgbm's best error=0.0077,\tbest estimator lgbm's best error=0.0077\n",
            "INFO:flaml.automl: at 57.5s,\testimator lgbm's best error=0.0077,\tbest estimator lgbm's best error=0.0077\n",
            "[flaml.automl: 08-30 13:04:12] {3133} INFO - iteration 32, current learner lgbm\n",
            "INFO:flaml.automl:iteration 32, current learner lgbm\n",
            "[flaml.automl: 08-30 13:04:14] {3319} INFO -  at 60.1s,\testimator lgbm's best error=0.0077,\tbest estimator lgbm's best error=0.0077\n",
            "INFO:flaml.automl: at 60.1s,\testimator lgbm's best error=0.0077,\tbest estimator lgbm's best error=0.0077\n",
            "[flaml.automl: 08-30 13:04:14] {3579} INFO - retrain lgbm for 0.2s\n",
            "INFO:flaml.automl:retrain lgbm for 0.2s\n",
            "[flaml.automl: 08-30 13:04:14] {3584} INFO - retrained model: LGBMRegressor(colsample_bytree=0.9200424042719881,\n",
            "              learning_rate=0.568207965959999, max_bin=511, min_child_samples=4,\n",
            "              n_estimators=192, num_leaves=4, reg_alpha=0.010402344140687636,\n",
            "              reg_lambda=0.0574219954848449, verbose=-1)\n",
            "INFO:flaml.automl:retrained model: LGBMRegressor(colsample_bytree=0.9200424042719881,\n",
            "              learning_rate=0.568207965959999, max_bin=511, min_child_samples=4,\n",
            "              n_estimators=192, num_leaves=4, reg_alpha=0.010402344140687636,\n",
            "              reg_lambda=0.0574219954848449, verbose=-1)\n",
            "[flaml.automl: 08-30 13:04:14] {2862} INFO - fit succeeded\n",
            "INFO:flaml.automl:fit succeeded\n",
            "[flaml.automl: 08-30 13:04:14] {2864} INFO - Time taken to find the best model: 44.07606744766235\n",
            "INFO:flaml.automl:Time taken to find the best model: 44.07606744766235\n",
            "[flaml.automl: 08-30 13:04:14] {2878} WARNING - Time taken to find the best model is 73% of the provided time budget and not all estimators' hyperparameter search converged. Consider increasing the time budget.\n",
            "WARNING:flaml.automl:Time taken to find the best model is 73% of the provided time budget and not all estimators' hyperparameter search converged. Consider increasing the time budget.\n"
          ]
        }
      ]
    },
    {
      "cell_type": "code",
      "source": [
        "print(1-automl_log.best_loss)"
      ],
      "metadata": {
        "colab": {
          "base_uri": "https://localhost:8080/"
        },
        "id": "-JK9jpgdfk2x",
        "outputId": "d48707a1-1105-435e-bbe9-39c54e7c13e8"
      },
      "execution_count": 40,
      "outputs": [
        {
          "output_type": "stream",
          "name": "stdout",
          "text": [
            "0.9923176065107904\n"
          ]
        }
      ]
    },
    {
      "cell_type": "code",
      "source": [
        "# Convert the prediction in original format\n",
        "test_pred_log = np.exp(automl_log.predict(X_test))-1"
      ],
      "metadata": {
        "colab": {
          "base_uri": "https://localhost:8080/"
        },
        "id": "mbSxrZ8ffk6F",
        "outputId": "c226656f-8cf9-4358-8514-63473b1c78b5"
      },
      "execution_count": 41,
      "outputs": [
        {
          "output_type": "stream",
          "name": "stderr",
          "text": [
            "/usr/local/lib/python3.7/dist-packages/ipykernel_launcher.py:2: RuntimeWarning: overflow encountered in exp\n",
            "  \n"
          ]
        }
      ]
    },
    {
      "cell_type": "markdown",
      "source": [
        "Retreiving best configuration"
      ],
      "metadata": {
        "id": "OrG5qdqO3eWz"
      }
    },
    {
      "cell_type": "code",
      "source": [
        "print('Best hyperparmeter config:', automl_log.best_config)\n",
        "print('Best r2 on validation data: {0:.4g}'.format(1-automl_log.best_loss))\n",
        "print('Training duration of best run: {0:.4g} s'.format(automl_log.best_config_train_time))\n",
        "print(automl_log.model.estimator)"
      ],
      "metadata": {
        "colab": {
          "base_uri": "https://localhost:8080/"
        },
        "id": "w1D1pyrtfk7-",
        "outputId": "ea5fdac8-677c-4732-9ab4-96dc19838242"
      },
      "execution_count": 43,
      "outputs": [
        {
          "output_type": "stream",
          "name": "stdout",
          "text": [
            "Best hyperparmeter config: {'n_estimators': 192, 'num_leaves': 4, 'min_child_samples': 4, 'learning_rate': 0.568207965959999, 'log_max_bin': 9, 'colsample_bytree': 0.9200424042719881, 'reg_alpha': 0.010402344140687636, 'reg_lambda': 0.0574219954848449}\n",
            "Best r2 on validation data: 0.9923\n",
            "Training duration of best run: 0.1852 s\n",
            "LGBMRegressor(colsample_bytree=0.9200424042719881,\n",
            "              learning_rate=0.568207965959999, max_bin=511, min_child_samples=4,\n",
            "              n_estimators=192, num_leaves=4, reg_alpha=0.010402344140687636,\n",
            "              reg_lambda=0.0574219954848449, verbose=-1)\n"
          ]
        }
      ]
    },
    {
      "cell_type": "markdown",
      "source": [
        "Feature importance"
      ],
      "metadata": {
        "id": "4oIZjPVF30x9"
      }
    },
    {
      "cell_type": "code",
      "source": [
        "import matplotlib.pyplot as plt\n",
        "plt.barh(automl_log.feature_names_in_, automl_log.feature_importances_)"
      ],
      "metadata": {
        "colab": {
          "base_uri": "https://localhost:8080/",
          "height": 283
        },
        "id": "cXt-u_Jrfk9q",
        "outputId": "70c9a3ed-eafd-4ecc-a480-36d757f1b8ff"
      },
      "execution_count": 44,
      "outputs": [
        {
          "output_type": "execute_result",
          "data": {
            "text/plain": [
              "<BarContainer object of 26 artists>"
            ]
          },
          "metadata": {},
          "execution_count": 44
        },
        {
          "output_type": "display_data",
          "data": {
            "text/plain": [
              "<Figure size 432x288 with 1 Axes>"
            ],
            "image/png": "[encoded data removed]"
          },
          "metadata": {
            "needs_background": "light"
          }
        }
      ]
    },
    {
      "cell_type": "markdown",
      "source": [
        "Predictions"
      ],
      "metadata": {
        "id": "yY60b_Es4E3C"
      }
    },
    {
      "cell_type": "code",
      "source": [
        "y_pred = automl_log.predict(X_test)\n",
        "print('Predicted labels', y_pred)"
      ],
      "metadata": {
        "colab": {
          "base_uri": "https://localhost:8080/"
        },
        "id": "sTVNKe7gfk_m",
        "outputId": "be2d891c-2d98-482f-c579-963bbb58d26f"
      },
      "execution_count": 45,
      "outputs": [
        {
          "output_type": "stream",
          "name": "stdout",
          "text": [
            "Predicted labels [ 9094500.39192581  8845405.6875258  14428721.08536528 ...\n",
            " 12640967.65799971  8617773.94725514 18071493.70603825]\n"
          ]
        }
      ]
    },
    {
      "cell_type": "markdown",
      "source": [
        "Calculating different metrics"
      ],
      "metadata": {
        "id": "WQPQ7JzR4HDk"
      }
    },
    {
      "cell_type": "code",
      "source": [
        "from flaml.ml import sklearn_metric_loss_score\n",
        "print('r2', '=', 1 - sklearn_metric_loss_score('r2', y_pred, y_test))\n"
      ],
      "metadata": {
        "colab": {
          "base_uri": "https://localhost:8080/"
        },
        "id": "_dcafevMflBE",
        "outputId": "01f6908e-c6d8-4cf5-c243-07e2caa935e4"
      },
      "execution_count": 48,
      "outputs": [
        {
          "output_type": "stream",
          "name": "stdout",
          "text": [
            "r2 = 0.9911295153946803\n"
          ]
        }
      ]
    },
    {
      "cell_type": "code",
      "source": [],
      "metadata": {
        "id": "Ed37x-LPflDR"
      },
      "execution_count": null,
      "outputs": []
    },
    {
      "cell_type": "code",
      "source": [],
      "metadata": {
        "id": "TLy2J3kNflIJ"
      },
      "execution_count": null,
      "outputs": []
    },
    {
      "cell_type": "code",
      "source": [],
      "metadata": {
        "id": "hdL4MNBqflLz"
      },
      "execution_count": null,
      "outputs": []
    },
    {
      "cell_type": "code",
      "source": [],
      "metadata": {
        "id": "benB9E77flQ-"
      },
      "execution_count": null,
      "outputs": []
    },
    {
      "cell_type": "code",
      "source": [],
      "metadata": {
        "id": "DrRSf01XflZx"
      },
      "execution_count": null,
      "outputs": []
    },
    {
      "cell_type": "code",
      "source": [],
      "metadata": {
        "id": "j5HjR_Qrflbb"
      },
      "execution_count": null,
      "outputs": []
    },
    {
      "cell_type": "code",
      "source": [],
      "metadata": {
        "id": "SBJ7tlfyflc5"
      },
      "execution_count": null,
      "outputs": []
    },
    {
      "cell_type": "code",
      "source": [],
      "metadata": {
        "id": "K6erw1BAflfE"
      },
      "execution_count": null,
      "outputs": []
    },
    {
      "cell_type": "code",
      "source": [],
      "metadata": {
        "id": "DnjhRNn5flgN"
      },
      "execution_count": null,
      "outputs": []
    },
    {
      "cell_type": "code",
      "source": [],
      "metadata": {
        "id": "yYUOxnQwflhk"
      },
      "execution_count": null,
      "outputs": []
    },
    {
      "cell_type": "code",
      "source": [],
      "metadata": {
        "id": "A-cqk86BfljL"
      },
      "execution_count": null,
      "outputs": []
    },
    {
      "cell_type": "code",
      "source": [],
      "metadata": {
        "id": "4hSnOeVeflkr"
      },
      "execution_count": null,
      "outputs": []
    },
    {
      "cell_type": "code",
      "source": [],
      "metadata": {
        "id": "o1N2-dJCflmF"
      },
      "execution_count": null,
      "outputs": []
    },
    {
      "cell_type": "code",
      "source": [],
      "metadata": {
        "id": "DwEDfWK0flnt"
      },
      "execution_count": null,
      "outputs": []
    },
    {
      "cell_type": "code",
      "source": [],
      "metadata": {
        "id": "t9fre4bXflpS"
      },
      "execution_count": null,
      "outputs": []
    },
    {
      "cell_type": "code",
      "source": [],
      "metadata": {
        "id": "KFtHQ5Pvflqt"
      },
      "execution_count": null,
      "outputs": []
    },
    {
      "cell_type": "code",
      "source": [],
      "metadata": {
        "id": "Ca43oiidflsF"
      },
      "execution_count": null,
      "outputs": []
    },
    {
      "cell_type": "code",
      "source": [],
      "metadata": {
        "id": "nP7nStMKfltl"
      },
      "execution_count": null,
      "outputs": []
    },
    {
      "cell_type": "code",
      "source": [],
      "metadata": {
        "id": "boyoWx22flvF"
      },
      "execution_count": null,
      "outputs": []
    },
    {
      "cell_type": "code",
      "source": [],
      "metadata": {
        "id": "FdeiybJdflyU"
      },
      "execution_count": null,
      "outputs": []
    },
    {
      "cell_type": "code",
      "source": [],
      "metadata": {
        "id": "SIWwtiIHflz7"
      },
      "execution_count": null,
      "outputs": []
    },
    {
      "cell_type": "code",
      "source": [],
      "metadata": {
        "id": "O1XAqiiRfl1R"
      },
      "execution_count": null,
      "outputs": []
    },
    {
      "cell_type": "code",
      "source": [],
      "metadata": {
        "id": "gt-s6Q8Dfl3G"
      },
      "execution_count": null,
      "outputs": []
    },
    {
      "cell_type": "code",
      "source": [],
      "metadata": {
        "id": "NqQ3Tg3Yfl5i"
      },
      "execution_count": null,
      "outputs": []
    },
    {
      "cell_type": "code",
      "source": [],
      "metadata": {
        "id": "Cc3HXWTTfl66"
      },
      "execution_count": null,
      "outputs": []
    },
    {
      "cell_type": "code",
      "source": [],
      "metadata": {
        "id": "K3HOD9VTfl8s"
      },
      "execution_count": null,
      "outputs": []
    },
    {
      "cell_type": "code",
      "source": [],
      "metadata": {
        "id": "zkoezj_ffl-M"
      },
      "execution_count": null,
      "outputs": []
    },
    {
      "cell_type": "code",
      "source": [],
      "metadata": {
        "id": "p7htQ_eYfl_u"
      },
      "execution_count": null,
      "outputs": []
    },
    {
      "cell_type": "code",
      "source": [],
      "metadata": {
        "id": "G-FYXVNGfmEY"
      },
      "execution_count": null,
      "outputs": []
    },
    {
      "cell_type": "code",
      "source": [],
      "metadata": {
        "id": "dxTmmA4UfmGB"
      },
      "execution_count": null,
      "outputs": []
    },
    {
      "cell_type": "code",
      "source": [],
      "metadata": {
        "id": "hDFtLJMefmHm"
      },
      "execution_count": null,
      "outputs": []
    },
    {
      "cell_type": "code",
      "source": [],
      "metadata": {
        "id": "j6D40VoGfmJm"
      },
      "execution_count": null,
      "outputs": []
    },
    {
      "cell_type": "code",
      "source": [],
      "metadata": {
        "id": "QcHxdBR3fmMR"
      },
      "execution_count": null,
      "outputs": []
    }
  ]
}